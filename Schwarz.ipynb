{
 "cells": [
  {
   "cell_type": "markdown",
   "metadata": {
    "slideshow": {
     "slide_type": "slide"
    }
   },
   "source": [
    "<center class=\"mytitle\">\n",
    "**GT Numérique**\n",
    "</center>\n",
    "\n",
    "# Méthodes de Schwarz: quelques idées d'implémentation\n",
    "\n",
    "<center>\n",
    "<span>**Loic Gouarin**</span>\n",
    "</center>\n",
    "<center>\n",
    "<span>12 décembre 2017</span>\n",
    "</center>"
   ]
  },
  {
   "cell_type": "markdown",
   "metadata": {
    "slideshow": {
     "slide_type": "slide"
    }
   },
   "source": [
    "### Plan\n",
    "\n",
    "- Schwarz classique appliqué au problème de Poisson 1D\n",
    "- Construction d'un préconditionneur \"BDD\" pour le problème d'élasticité linéaire 2D"
   ]
  },
  {
   "cell_type": "markdown",
   "metadata": {
    "slideshow": {
     "slide_type": "slide"
    }
   },
   "source": [
    "## Schwarz classique pour le problème de Poisson 1D"
   ]
  },
  {
   "cell_type": "markdown",
   "metadata": {
    "slideshow": {
     "slide_type": "subslide"
    }
   },
   "source": [
    "### Problème étudié\n",
    "\n",
    "On souhaite résoudre \n",
    "\n",
    "$$\n",
    "\\left\\{\n",
    "\\begin{array}{l}\n",
    "-\\Delta u(x) = 1 \\; \\text{pour} \\; x\\in[0, 1], \\\\\n",
    "u(0)= u(1) = 0.\n",
    "\\end{array}\n",
    "\\right.\n",
    "$$\n",
    "\n",
    "à l'aide d'un schéma aux différences finies."
   ]
  },
  {
   "cell_type": "markdown",
   "metadata": {
    "slideshow": {
     "slide_type": "subslide"
    }
   },
   "source": [
    "### Initialisation du problème"
   ]
  },
  {
   "cell_type": "code",
   "execution_count": 1,
   "metadata": {},
   "outputs": [],
   "source": [
    "import numpy as np\n",
    "import scipy.sparse as sp\n",
    "import scipy.sparse.linalg as linsolve"
   ]
  },
  {
   "cell_type": "code",
   "execution_count": 2,
   "metadata": {},
   "outputs": [],
   "source": [
    "N = 100\n",
    "L = 1.\n",
    "dx = 1./(N - 1)\n",
    "x = np.arange(0, L+.5*dx, dx)"
   ]
  },
  {
   "cell_type": "markdown",
   "metadata": {
    "slideshow": {
     "slide_type": "subslide"
    }
   },
   "source": [
    "### Construction de la matrice et du second membre"
   ]
  },
  {
   "cell_type": "code",
   "execution_count": 3,
   "metadata": {},
   "outputs": [],
   "source": [
    "A = sp.spdiags([-np.ones(N), 2*np.ones(N), -np.ones(N)],[-1, 0, 1], N, N).tocsc()\n",
    "b = np.ones(N)*dx**2"
   ]
  },
  {
   "cell_type": "markdown",
   "metadata": {},
   "source": [
    "On applique les conditions de bords"
   ]
  },
  {
   "cell_type": "code",
   "execution_count": 4,
   "metadata": {},
   "outputs": [],
   "source": [
    "A[0 ,  0] = 1; A[ 0,  1] = 0\n",
    "A[-1, -2] = 0; A[-1, -1] = 1"
   ]
  },
  {
   "cell_type": "code",
   "execution_count": 5,
   "metadata": {},
   "outputs": [],
   "source": [
    "b[0] = 0; b[-1] = 0"
   ]
  },
  {
   "cell_type": "markdown",
   "metadata": {
    "slideshow": {
     "slide_type": "subslide"
    }
   },
   "source": [
    "### Résolution du système"
   ]
  },
  {
   "cell_type": "code",
   "execution_count": 6,
   "metadata": {},
   "outputs": [],
   "source": [
    "LU = linsolve.factorized(A)"
   ]
  },
  {
   "cell_type": "code",
   "execution_count": 7,
   "metadata": {},
   "outputs": [],
   "source": [
    "u = LU(b)"
   ]
  },
  {
   "cell_type": "markdown",
   "metadata": {
    "slideshow": {
     "slide_type": "subslide"
    }
   },
   "source": [
    "### Représentation de la solution"
   ]
  },
  {
   "cell_type": "code",
   "execution_count": 8,
   "metadata": {},
   "outputs": [],
   "source": [
    "from bqplot import *\n",
    "x_sc, y_sc = LinearScale(), LinearScale()\n",
    "\n",
    "ax_x = Axis(label='x', scale=x_sc, grid_lines='solid')\n",
    "ax_y = Axis(label='solution', scale=y_sc, orientation='vertical', grid_lines='solid')"
   ]
  },
  {
   "cell_type": "code",
   "execution_count": 9,
   "metadata": {},
   "outputs": [],
   "source": [
    "line = Lines(x=x, y=u, scales={'x': x_sc, 'y': y_sc})"
   ]
  },
  {
   "cell_type": "code",
   "execution_count": 10,
   "metadata": {},
   "outputs": [
    {
     "data": {
      "application/vnd.jupyter.widget-view+json": {
       "model_id": "6a6966b705ba4061b1af9f461bc784f0",
       "version_major": 2,
       "version_minor": 0
      },
      "text/html": [
       "<p>Failed to display Jupyter Widget of type <code>Figure</code>.</p>\n",
       "<p>\n",
       "  If you're reading this message in the Jupyter Notebook or JupyterLab Notebook, it may mean\n",
       "  that the widgets JavaScript is still loading. If this message persists, it\n",
       "  likely means that the widgets JavaScript library is either not installed or\n",
       "  not enabled. See the <a href=\"https://ipywidgets.readthedocs.io/en/stable/user_install.html\">Jupyter\n",
       "  Widgets Documentation</a> for setup instructions.\n",
       "</p>\n",
       "<p>\n",
       "  If you're reading this message in another frontend (for example, a static\n",
       "  rendering on GitHub or <a href=\"https://nbviewer.jupyter.org/\">NBViewer</a>),\n",
       "  it may mean that your frontend doesn't currently support widgets.\n",
       "</p>\n"
      ],
      "text/plain": [
       "Figure(axes=[Axis(label='x', scale=LinearScale(), side='bottom'), Axis(label='solution', orientation='vertical', scale=LinearScale(), side='left')], fig_margin={'top': 60, 'bottom': 60, 'left': 60, 'right': 60}, layout=Layout(min_width='125px'), marks=[Lines(colors=['#1f77b4', '#ff7f0e', '#2ca02c', '#d62728', '#9467bd', '#8c564b', '#e377c2', '#7f7f7f', '#bcbd22', '#17becf'], interactions={'hover': 'tooltip'}, scales={'x': LinearScale(), 'y': LinearScale()}, scales_metadata={'x': {'orientation': 'horizontal', 'dimension': 'x'}, 'y': {'orientation': 'vertical', 'dimension': 'y'}, 'color': {'dimension': 'color'}}, tooltip_style={'opacity': 0.9}, x=array([ 0.        ,  0.01010101,  0.02020202,  0.03030303,  0.04040404,\n",
       "        0.05050505,  0.06060606,  0.07070707,  0.08080808,  0.09090909,\n",
       "        0.1010101 ,  0.11111111,  0.12121212,  0.13131313,  0.14141414,\n",
       "        0.15151515,  0.16161616,  0.17171717,  0.18181818,  0.19191919,\n",
       "        0.2020202 ,  0.21212121,  0.22222222,  0.23232323,  0.24242424,\n",
       "        0.25252525,  0.26262626,  0.27272727,  0.28282828,  0.29292929,\n",
       "        0.3030303 ,  0.31313131,  0.32323232,  0.33333333,  0.34343434,\n",
       "        0.35353535,  0.36363636,  0.37373737,  0.38383838,  0.39393939,\n",
       "        0.4040404 ,  0.41414141,  0.42424242,  0.43434343,  0.44444444,\n",
       "        0.45454545,  0.46464646,  0.47474747,  0.48484848,  0.49494949,\n",
       "        0.50505051,  0.51515152,  0.52525253,  0.53535354,  0.54545455,\n",
       "        0.55555556,  0.56565657,  0.57575758,  0.58585859,  0.5959596 ,\n",
       "        0.60606061,  0.61616162,  0.62626263,  0.63636364,  0.64646465,\n",
       "        0.65656566,  0.66666667,  0.67676768,  0.68686869,  0.6969697 ,\n",
       "        0.70707071,  0.71717172,  0.72727273,  0.73737374,  0.74747475,\n",
       "        0.75757576,  0.76767677,  0.77777778,  0.78787879,  0.7979798 ,\n",
       "        0.80808081,  0.81818182,  0.82828283,  0.83838384,  0.84848485,\n",
       "        0.85858586,  0.86868687,  0.87878788,  0.88888889,  0.8989899 ,\n",
       "        0.90909091,  0.91919192,  0.92929293,  0.93939394,  0.94949495,\n",
       "        0.95959596,  0.96969697,  0.97979798,  0.98989899,  1.        ]), y=array([ 0.        ,  0.00499949,  0.00989695,  0.01469238,  0.01938578,\n",
       "        0.02397715,  0.02846648,  0.03285379,  0.03713907,  0.04132231,\n",
       "        0.04540353,  0.04938272,  0.05325987,  0.057035  ,  0.06070809,\n",
       "        0.06427916,  0.06774819,  0.07111519,  0.07438017,  0.07754311,\n",
       "        0.08060402,  0.0835629 ,  0.08641975,  0.08917457,  0.09182736,\n",
       "        0.09437812,  0.09682685,  0.09917355,  0.10141822,  0.10356086,\n",
       "        0.10560147,  0.10754005,  0.10937659,  0.11111111,  0.1127436 ,\n",
       "        0.11427405,  0.11570248,  0.11702887,  0.11825324,  0.11937557,\n",
       "        0.12039588,  0.12131415,  0.12213039,  0.12284461,  0.12345679,\n",
       "        0.12396694,  0.12437506,  0.12468115,  0.12488522,  0.12498725,\n",
       "        0.12498725,  0.12488522,  0.12468115,  0.12437506,  0.12396694,\n",
       "        0.12345679,  0.12284461,  0.12213039,  0.12131415,  0.12039588,\n",
       "        0.11937557,  0.11825324,  0.11702887,  0.11570248,  0.11427405,\n",
       "        0.1127436 ,  0.11111111,  0.10937659,  0.10754005,  0.10560147,\n",
       "        0.10356086,  0.10141822,  0.09917355,  0.09682685,  0.09437812,\n",
       "        0.09182736,  0.08917457,  0.08641975,  0.0835629 ,  0.08060402,\n",
       "        0.07754311,  0.07438017,  0.07111519,  0.06774819,  0.06427916,\n",
       "        0.06070809,  0.057035  ,  0.05325987,  0.04938272,  0.04540353,\n",
       "        0.04132231,  0.03713907,  0.03285379,  0.02846648,  0.02397715,\n",
       "        0.01938578,  0.01469238,  0.00989695,  0.00499949,  0.        ]))], scale_x=LinearScale(allow_padding=False, max=1.0, min=0.0), scale_y=LinearScale(allow_padding=False, max=1.0, min=0.0))"
      ]
     },
     "metadata": {},
     "output_type": "display_data"
    }
   ],
   "source": [
    "fig = Figure(axes=[ax_x, ax_y], marks=[line])\n",
    "fig"
   ]
  },
  {
   "cell_type": "markdown",
   "metadata": {
    "slideshow": {
     "slide_type": "subslide"
    }
   },
   "source": [
    "### Schwarz alterné (Schwarz 1870)\n",
    "\n",
    "<center>\n",
    "<img style=\"width:35%;\" src=\"./figures/schwarz.png\"/>\n",
    "</center>"
   ]
  },
  {
   "cell_type": "markdown",
   "metadata": {},
   "source": [
    "<table>\n",
    "<tr>\n",
    "<td>\n",
    "$$\n",
    "\\scriptsize{\n",
    "\\left\\{\n",
    "\\begin{array}{l}\n",
    "\\mathcal{L}(u_1^{k+1}) = f(x), \\; x \\in \\Omega_1 \\\\\n",
    "u_1^{k+1}(x) = g(x), \\; x\\in \\partial \\Omega_1 \\bigcap \\overline \\Omega_1 \\\\\n",
    "u_1^{k+1}(x) = u_2^k(x), \\; x \\in \\Gamma_1\n",
    "\\end{array}\n",
    "\\right.}\n",
    "$$\n",
    "    </td>\n",
    "<td>\n",
    "$$\n",
    "\\scriptsize{\n",
    "\\left\\{\n",
    "\\begin{array}{l}\n",
    "\\mathcal{L}(u_2^{k+1}) = f(x), \\; x \\in \\Omega_2 \\\\\n",
    "u_2^{k+1}(x) = g(x), \\; x\\in \\partial \\Omega_2 \\bigcap \\overline \\Omega_2 \\\\\n",
    "u_2^{k+1}(x) = u_1^{k+1}(x), \\; x\\in \\Gamma_2\n",
    "\\end{array}\n",
    "\\right.\n",
    "}\n",
    "$$\n",
    "    </td>\n",
    "    </tr>\n",
    "</table>"
   ]
  },
  {
   "cell_type": "markdown",
   "metadata": {
    "slideshow": {
     "slide_type": "subslide"
    }
   },
   "source": [
    "### Schwarz parallèle (Lions 1988)\n",
    "\n",
    "<center>\n",
    "<img style=\"width:35%;\" src=\"./figures/schwarz.png\"/>\n",
    "</center>"
   ]
  },
  {
   "cell_type": "markdown",
   "metadata": {},
   "source": [
    "<table>\n",
    "<tr>\n",
    "<td>\n",
    "$$\n",
    "\\scriptsize{\n",
    "\\left\\{\n",
    "\\begin{array}{l}\n",
    "\\mathcal{L}(u_1^{k+1}) = f(x), \\; x \\in \\Omega_1 \\\\\n",
    "u_1^{k+1}(x) = g(x), \\; x\\in \\partial \\Omega_1 \\bigcap \\overline \\Omega_1 \\\\\n",
    "u_1^{k+1}(x) = u_2^k(x), \\; x \\in \\Gamma_1\n",
    "\\end{array}\n",
    "\\right.}\n",
    "$$\n",
    "    </td>\n",
    "<td>\n",
    "$$\n",
    "\\scriptsize{\n",
    "\\left\\{\n",
    "\\begin{array}{l}\n",
    "\\mathcal{L}(u_2^{k+1}) = f(x), \\; x \\in \\Omega_2 \\\\\n",
    "u_2^{k+1}(x) = g(x), \\; x\\in \\partial \\Omega_2 \\bigcap \\overline \\Omega_2 \\\\\n",
    "u_2^{k+1}(x) = u_1^{k}(x), \\; x\\in \\Gamma_2\n",
    "\\end{array}\n",
    "\\right.\n",
    "}\n",
    "$$\n",
    "    </td>\n",
    "    </tr>\n",
    "</table>"
   ]
  },
  {
   "cell_type": "markdown",
   "metadata": {
    "slideshow": {
     "slide_type": "subslide"
    }
   },
   "source": [
    "### Utilisation du parallèlisme dans les notebooks\n",
    "\n",
    "*Attention:* avant d'exécuter les lignes suivantes, il faut démarrer les processus en allant à la page qui se trouve sur la page de demarrage des notebooks dans l'onglet `IPython cluster`. Nous en démarrerons 4 pour la suite."
   ]
  },
  {
   "cell_type": "code",
   "execution_count": 2,
   "metadata": {},
   "outputs": [],
   "source": [
    "import ipyparallel as ipp\n",
    "c = ipp.Client(profile='mpi')"
   ]
  },
  {
   "cell_type": "code",
   "execution_count": 3,
   "metadata": {},
   "outputs": [],
   "source": [
    "view = c[:]\n",
    "view.activate()\n",
    "view.block = True"
   ]
  },
  {
   "cell_type": "markdown",
   "metadata": {
    "slideshow": {
     "slide_type": "subslide"
    }
   },
   "source": [
    "### mpi4py\n",
    "\n",
    "`mpi4py` est une implémentation de MPI en Python.\n",
    "\n",
    "MPI permet d'envoyer des messages entre processus.\n",
    "\n",
    "Les types de message\n",
    "\n",
    "- communications point à point\n",
    "- communications collectives"
   ]
  },
  {
   "cell_type": "markdown",
   "metadata": {
    "slideshow": {
     "slide_type": "subslide"
    }
   },
   "source": [
    "### mpi4py"
   ]
  },
  {
   "cell_type": "markdown",
   "metadata": {},
   "source": [
    "Nous aurons besoin dans la suite\n",
    "\n",
    "- `COMM_WORLD`: communicateur englobant l'ensemble des processus initialisés.\n",
    "- `size`: le nombre de processus\n",
    "- `rank`: le numéro du processus\n",
    "- `send` et `recv`: envoi et réception de valeurs"
   ]
  },
  {
   "cell_type": "markdown",
   "metadata": {
    "slideshow": {
     "slide_type": "subslide"
    }
   },
   "source": [
    "### Initialisation des processus"
   ]
  },
  {
   "cell_type": "code",
   "execution_count": 17,
   "metadata": {
    "slideshow": {
     "slide_type": "-"
    }
   },
   "outputs": [],
   "source": [
    "%%px\n",
    "import mpi4py.MPI as mpi\n",
    "import numpy as np\n",
    "import scipy.sparse as sp\n",
    "import scipy.sparse.linalg as linsolve\n",
    "\n",
    "size = mpi.COMM_WORLD.size\n",
    "rank = mpi.COMM_WORLD.rank\n",
    "\n",
    "N = 100\n",
    "L = 1.\n",
    "dx = 1./(N - 1)"
   ]
  },
  {
   "cell_type": "markdown",
   "metadata": {
    "slideshow": {
     "slide_type": "subslide"
    }
   },
   "source": [
    "### Découpage du domaine en sous domaines"
   ]
  },
  {
   "cell_type": "code",
   "execution_count": 18,
   "metadata": {},
   "outputs": [
    {
     "data": {
      "text/plain": [
       "\u001b[0;31mOut[0:2]: \u001b[0marray([ 0, 24, 48, 72, 96])"
      ]
     },
     "metadata": {},
     "output_type": "display_data"
    },
    {
     "data": {
      "text/plain": [
       "\u001b[0;31mOut[1:2]: \u001b[0marray([ 0, 24, 48, 72, 96])"
      ]
     },
     "metadata": {},
     "output_type": "display_data"
    },
    {
     "data": {
      "text/plain": [
       "\u001b[0;31mOut[2:2]: \u001b[0marray([ 0, 24, 48, 72, 96])"
      ]
     },
     "metadata": {},
     "output_type": "display_data"
    },
    {
     "data": {
      "text/plain": [
       "\u001b[0;31mOut[3:2]: \u001b[0marray([ 0, 24, 48, 72, 96])"
      ]
     },
     "metadata": {},
     "output_type": "display_data"
    }
   ],
   "source": [
    "%%px\n",
    "Nl = (N-1)//size + 1\n",
    "if mpi.COMM_WORLD.rank == size-1:\n",
    "    Nl += N%size\n",
    "    \n",
    "Narray = mpi.COMM_WORLD.allgather(Nl-1)\n",
    "tmp = np.cumsum(Narray)\n",
    "tmp = np.insert(tmp, 0, 0)\n",
    "tmp"
   ]
  },
  {
   "cell_type": "markdown",
   "metadata": {
    "slideshow": {
     "slide_type": "subslide"
    }
   },
   "source": [
    "### Découpage du domaine en sous domaines"
   ]
  },
  {
   "cell_type": "code",
   "execution_count": 19,
   "metadata": {},
   "outputs": [],
   "source": [
    "%%px\n",
    "beg = tmp[rank]*dx\n",
    "end = tmp[rank+1]*dx\n",
    "\n",
    "overlap = 2\n",
    "\n",
    "if rank > 0:\n",
    "    beg -= dx*overlap\n",
    "if rank < size - 1:\n",
    "    end += dx*overlap\n",
    "\n",
    "xl = np.arange(beg, end + .5*dx, dx)"
   ]
  },
  {
   "cell_type": "markdown",
   "metadata": {
    "slideshow": {
     "slide_type": "subslide"
    }
   },
   "source": [
    "### Construction des matrices locales"
   ]
  },
  {
   "cell_type": "code",
   "execution_count": 20,
   "metadata": {},
   "outputs": [],
   "source": [
    "%%px\n",
    "n = xl.size\n",
    "\n",
    "A = sp.spdiags([-np.ones(n), 2*np.ones(n), -np.ones(n)],[-1, 0, 1], n, n) # 1D poisson matrix\n",
    "A = A.tocsr()\n",
    "\n",
    "A[0 ,  0] = 1; A[ 0,  1] = 0;\n",
    "A[-1, -2] = 0; A[-1, -1] = 1;\n",
    "\n",
    "b = np.ones(n)*dx**2\n",
    "b[0] = 0; b[-1] = 0"
   ]
  },
  {
   "cell_type": "markdown",
   "metadata": {
    "slideshow": {
     "slide_type": "subslide"
    }
   },
   "source": [
    "### Résolution des problèmes locaux"
   ]
  },
  {
   "cell_type": "code",
   "execution_count": 21,
   "metadata": {},
   "outputs": [],
   "source": [
    "%%px \n",
    "LU = linsolve.factorized(A.tocsc())\n",
    "u = LU(b)"
   ]
  },
  {
   "cell_type": "markdown",
   "metadata": {
    "slideshow": {
     "slide_type": "subslide"
    }
   },
   "source": [
    "### Algorithme de Schwarz parallèle"
   ]
  },
  {
   "cell_type": "code",
   "execution_count": 22,
   "metadata": {},
   "outputs": [],
   "source": [
    "def update(nbite=100):\n",
    "    U = []\n",
    "    U.append(mpi.COMM_WORLD.allgather(u))\n",
    "    X = mpi.COMM_WORLD.allgather(xl)\n",
    "    for k in range(nbite):\n",
    "        if rank == 0:\n",
    "            mpi.COMM_WORLD.send(u[-1-2*overlap], rank + 1, rank)\n",
    "            b[-1] = mpi.COMM_WORLD.recv(None, rank + 1, rank + 1)\n",
    "        elif rank == size - 1:\n",
    "            mpi.COMM_WORLD.send(u[2*overlap], rank - 1, rank)\n",
    "            b[0] = mpi.COMM_WORLD.recv(None, rank - 1, rank - 1)\n",
    "        else:\n",
    "            mpi.COMM_WORLD.send(u[-1-2*overlap], rank + 1, rank)\n",
    "            b[-1] = mpi.COMM_WORLD.recv(None, rank + 1, rank + 1)\n",
    "            mpi.COMM_WORLD.send(u[2*overlap], rank - 1, rank)\n",
    "            b[0] = mpi.COMM_WORLD.recv(None, rank - 1, rank - 1)\n",
    "        u[:] = LU(b)\n",
    "        U.append(mpi.COMM_WORLD.allgather(u))\n",
    "    return X, U"
   ]
  },
  {
   "cell_type": "code",
   "execution_count": 4,
   "metadata": {
    "slideshow": {
     "slide_type": "subslide"
    }
   },
   "outputs": [
    {
     "data": {
      "application/vnd.jupyter.widget-view+json": {
       "model_id": "962500b4e5f14aedad57631352c72205",
       "version_major": 2,
       "version_minor": 0
      },
      "text/html": [
       "<p>Failed to display Jupyter Widget of type <code>interactive</code>.</p>\n",
       "<p>\n",
       "  If you're reading this message in the Jupyter Notebook or JupyterLab Notebook, it may mean\n",
       "  that the widgets JavaScript is still loading. If this message persists, it\n",
       "  likely means that the widgets JavaScript library is either not installed or\n",
       "  not enabled. See the <a href=\"https://ipywidgets.readthedocs.io/en/stable/user_install.html\">Jupyter\n",
       "  Widgets Documentation</a> for setup instructions.\n",
       "</p>\n",
       "<p>\n",
       "  If you're reading this message in another frontend (for example, a static\n",
       "  rendering on GitHub or <a href=\"https://nbviewer.jupyter.org/\">NBViewer</a>),\n",
       "  it may mean that your frontend doesn't currently support widgets.\n",
       "</p>\n"
      ],
      "text/plain": [
       "interactive(children=(IntSlider(value=0, continuous_update=False, description='iteration'), Output()), _dom_classes=('widget-interact',))"
      ]
     },
     "metadata": {},
     "output_type": "display_data"
    },
    {
     "data": {
      "application/vnd.jupyter.widget-view+json": {
       "model_id": "4ddaee192ea6476083ecfde8eddef8ea",
       "version_major": 2,
       "version_minor": 0
      },
      "text/html": [
       "<p>Failed to display Jupyter Widget of type <code>interactive</code>.</p>\n",
       "<p>\n",
       "  If you're reading this message in the Jupyter Notebook or JupyterLab Notebook, it may mean\n",
       "  that the widgets JavaScript is still loading. If this message persists, it\n",
       "  likely means that the widgets JavaScript library is either not installed or\n",
       "  not enabled. See the <a href=\"https://ipywidgets.readthedocs.io/en/stable/user_install.html\">Jupyter\n",
       "  Widgets Documentation</a> for setup instructions.\n",
       "</p>\n",
       "<p>\n",
       "  If you're reading this message in another frontend (for example, a static\n",
       "  rendering on GitHub or <a href=\"https://nbviewer.jupyter.org/\">NBViewer</a>),\n",
       "  it may mean that your frontend doesn't currently support widgets.\n",
       "</p>\n"
      ],
      "text/plain": [
       "interactive(children=(IntSlider(value=1, continuous_update=False, description='overlap', max=20, min=1), Output()), _dom_classes=('widget-interact',))"
      ]
     },
     "metadata": {},
     "output_type": "display_data"
    },
    {
     "data": {
      "application/vnd.jupyter.widget-view+json": {
       "model_id": "f4dcf3e5251644858265b4ef12bb8f51",
       "version_major": 2,
       "version_minor": 0
      },
      "text/html": [
       "<p>Failed to display Jupyter Widget of type <code>VBox</code>.</p>\n",
       "<p>\n",
       "  If you're reading this message in the Jupyter Notebook or JupyterLab Notebook, it may mean\n",
       "  that the widgets JavaScript is still loading. If this message persists, it\n",
       "  likely means that the widgets JavaScript library is either not installed or\n",
       "  not enabled. See the <a href=\"https://ipywidgets.readthedocs.io/en/stable/user_install.html\">Jupyter\n",
       "  Widgets Documentation</a> for setup instructions.\n",
       "</p>\n",
       "<p>\n",
       "  If you're reading this message in another frontend (for example, a static\n",
       "  rendering on GitHub or <a href=\"https://nbviewer.jupyter.org/\">NBViewer</a>),\n",
       "  it may mean that your frontend doesn't currently support widgets.\n",
       "</p>\n"
      ],
      "text/plain": [
       "VBox(children=(HBox(children=(Play(value=0, description='Press play'), IntSlider(value=0, continuous_update=False, description='iteration'), IntSlider(value=1, continuous_update=False, description='overlap', max=20, min=1))), Figure(animation_duration=100, axes=[Axis(label='x', scale=LinearScale()), Axis(label='solution', orientation='vertical', scale=LinearScale())], fig_margin={'top': 60, 'bottom': 60, 'left': 60, 'right': 60}, layout=Layout(min_width='125px'), marks=[Lines(colors=['#1f77b4', '#ff7f0e', '#2ca02c', '#d62728', '#9467bd', '#8c564b', '#e377c2', '#7f7f7f', '#bcbd22', '#17becf'], interactions={'hover': 'tooltip'}, scales={'x': LinearScale(), 'y': LinearScale()}, scales_metadata={'x': {'orientation': 'horizontal', 'dimension': 'x'}, 'y': {'orientation': 'vertical', 'dimension': 'y'}, 'color': {'dimension': 'color'}}, tooltip_style={'opacity': 0.9}, x=array([ 0.        ,  0.01010101,  0.02020202,  0.03030303,  0.04040404,\n",
       "        0.05050505,  0.06060606,  0.07070707,  0.08080808,  0.09090909,\n",
       "        0.1010101 ,  0.11111111,  0.12121212,  0.13131313,  0.14141414,\n",
       "        0.15151515,  0.16161616,  0.17171717,  0.18181818,  0.19191919,\n",
       "        0.2020202 ,  0.21212121,  0.22222222,  0.23232323,  0.24242424,\n",
       "        0.25252525]), y=array([ 0.        ,  0.00122436,  0.0023467 ,  0.003367  ,  0.00428528,\n",
       "        0.00510152,  0.00581573,  0.00642792,  0.00693807,  0.00734619,\n",
       "        0.00765228,  0.00785634,  0.00795837,  0.00795837,  0.00785634,\n",
       "        0.00765228,  0.00734619,  0.00693807,  0.00642792,  0.00581573,\n",
       "        0.00510152,  0.00428528,  0.003367  ,  0.0023467 ,  0.00122436,  0.        ])), Lines(colors=['#1f77b4', '#ff7f0e', '#2ca02c', '#d62728', '#9467bd', '#8c564b', '#e377c2', '#7f7f7f', '#bcbd22', '#17becf'], interactions={'hover': 'tooltip'}, scales={'x': LinearScale(), 'y': LinearScale()}, scales_metadata={'x': {'orientation': 'horizontal', 'dimension': 'x'}, 'y': {'orientation': 'vertical', 'dimension': 'y'}, 'color': {'dimension': 'color'}}, tooltip_style={'opacity': 0.9}, x=array([ 0.23232323,  0.24242424,  0.25252525,  0.26262626,  0.27272727,\n",
       "        0.28282828,  0.29292929,  0.3030303 ,  0.31313131,  0.32323232,\n",
       "        0.33333333,  0.34343434,  0.35353535,  0.36363636,  0.37373737,\n",
       "        0.38383838,  0.39393939,  0.4040404 ,  0.41414141,  0.42424242,\n",
       "        0.43434343,  0.44444444,  0.45454545,  0.46464646,  0.47474747,\n",
       "        0.48484848,  0.49494949]), y=array([ 0.        ,  0.00127538,  0.00244873,  0.00352005,  0.00448934,\n",
       "        0.0053566 ,  0.00612182,  0.00678502,  0.00734619,  0.00780533,\n",
       "        0.00816243,  0.00841751,  0.00857055,  0.00862157,  0.00857055,\n",
       "        0.00841751,  0.00816243,  0.00780533,  0.00734619,  0.00678502,\n",
       "        0.00612182,  0.0053566 ,  0.00448934,  0.00352005,  0.00244873,\n",
       "        0.00127538,  0.        ])), Lines(colors=['#1f77b4', '#ff7f0e', '#2ca02c', '#d62728', '#9467bd', '#8c564b', '#e377c2', '#7f7f7f', '#bcbd22', '#17becf'], interactions={'hover': 'tooltip'}, scales={'x': LinearScale(), 'y': LinearScale()}, scales_metadata={'x': {'orientation': 'horizontal', 'dimension': 'x'}, 'y': {'orientation': 'vertical', 'dimension': 'y'}, 'color': {'dimension': 'color'}}, tooltip_style={'opacity': 0.9}, x=array([ 0.47474747,  0.48484848,  0.49494949,  0.50505051,  0.51515152,\n",
       "        0.52525253,  0.53535354,  0.54545455,  0.55555556,  0.56565657,\n",
       "        0.57575758,  0.58585859,  0.5959596 ,  0.60606061,  0.61616162,\n",
       "        0.62626263,  0.63636364,  0.64646465,  0.65656566,  0.66666667,\n",
       "        0.67676768,  0.68686869,  0.6969697 ,  0.70707071,  0.71717172,\n",
       "        0.72727273,  0.73737374]), y=array([ 0.        ,  0.00127538,  0.00244873,  0.00352005,  0.00448934,\n",
       "        0.0053566 ,  0.00612182,  0.00678502,  0.00734619,  0.00780533,\n",
       "        0.00816243,  0.00841751,  0.00857055,  0.00862157,  0.00857055,\n",
       "        0.00841751,  0.00816243,  0.00780533,  0.00734619,  0.00678502,\n",
       "        0.00612182,  0.0053566 ,  0.00448934,  0.00352005,  0.00244873,\n",
       "        0.00127538,  0.        ])), Lines(colors=['#1f77b4', '#ff7f0e', '#2ca02c', '#d62728', '#9467bd', '#8c564b', '#e377c2', '#7f7f7f', '#bcbd22', '#17becf'], interactions={'hover': 'tooltip'}, scales={'x': LinearScale(), 'y': LinearScale()}, scales_metadata={'x': {'orientation': 'horizontal', 'dimension': 'x'}, 'y': {'orientation': 'vertical', 'dimension': 'y'}, 'color': {'dimension': 'color'}}, tooltip_style={'opacity': 0.9}, x=array([ 0.71717172,  0.72727273,  0.73737374,  0.74747475,  0.75757576,\n",
       "        0.76767677,  0.77777778,  0.78787879,  0.7979798 ,  0.80808081,\n",
       "        0.81818182,  0.82828283,  0.83838384,  0.84848485,  0.85858586,\n",
       "        0.86868687,  0.87878788,  0.88888889,  0.8989899 ,  0.90909091,\n",
       "        0.91919192,  0.92929293,  0.93939394,  0.94949495,  0.95959596,\n",
       "        0.96969697]), y=array([ 0.        ,  0.00122436,  0.0023467 ,  0.003367  ,  0.00428528,\n",
       "        0.00510152,  0.00581573,  0.00642792,  0.00693807,  0.00734619,\n",
       "        0.00765228,  0.00785634,  0.00795837,  0.00795837,  0.00785634,\n",
       "        0.00765228,  0.00734619,  0.00693807,  0.00642792,  0.00581573,\n",
       "        0.00510152,  0.00428528,  0.003367  ,  0.0023467 ,  0.00122436,  0.        ]))], scale_x=LinearScale(allow_padding=False, max=1.0, min=0.0), scale_y=LinearScale(allow_padding=False, max=1.0, min=0.0))))"
      ]
     },
     "metadata": {},
     "output_type": "display_data"
    }
   ],
   "source": [
    "from classical_schwarz import plot_solution\n",
    "plot_solution(view)"
   ]
  },
  {
   "cell_type": "markdown",
   "metadata": {
    "slideshow": {
     "slide_type": "slide"
    }
   },
   "source": [
    "## Problème d'élasticité linéaire 2D"
   ]
  },
  {
   "cell_type": "markdown",
   "metadata": {
    "slideshow": {
     "slide_type": "subslide"
    }
   },
   "source": [
    "### Description du problème\n",
    "\n",
    "Nous considérons ici un corps élastique qui occupe, dans sa configuration de référence, un domaine borné $\\Omega$ dans $\\mathbb{R}^2$ avec un bord noté $\\Gamma$.\n",
    "\n",
    "Soit $\\left\\{ \\Gamma_D, \\Gamma_N\\right\\}$ une partition de $\\Gamma$ où $\\Gamma_N$ peut être vide.\n",
    "\n",
    "Nous aurons\n",
    "\n",
    "- des conditions de Dirichlet sur $\\Gamma_D$,\n",
    "- des conditions de Neumann sur $\\Gamma_N$.\n",
    "\n",
    "Soit $u=(u_1, u_2)$ le champs des déplacements de ce corps élastique."
   ]
  },
  {
   "cell_type": "markdown",
   "metadata": {
    "slideshow": {
     "slide_type": "subslide"
    }
   },
   "source": [
    "### Description du problème\n",
    "\n",
    "Sous l'hypothèse de petites déformations, les tenseurs de contraintes et de déformations s'écrivent\n",
    "\n",
    "$$\n",
    "\\sigma_{ij}(u) = 2\\mu\\epsilon_{ij} + \\lambda tr(\\epsilon(u))\\mathbb{1}_2, \\; i,j=1,2,\\\\\n",
    "$$\n",
    "$$\n",
    "\\epsilon(u) = \\frac{\\nabla u+ \\nabla u^T}{2},\n",
    "$$\n",
    "\n",
    "où $\\lambda$ et $\\mu$ sont les constantes de Lamé. Ces coefficients peuvent être calculés à partir du module d'Young $E$ et le coefficient de Poisson $\\nu$\n",
    "\n",
    "$$\n",
    "\\lambda = \\frac{\\nu E}{(1+\\nu)(1-2\\nu)}, \\; \\mu = \\frac{E}{2(1+\\nu)}.\n",
    "$$"
   ]
  },
  {
   "cell_type": "markdown",
   "metadata": {
    "slideshow": {
     "slide_type": "subslide"
    }
   },
   "source": [
    "### Description du problème\n",
    "\n",
    "En se donnant $f=\\left(f_1, f_2\\right)\\in L^2(\\Omega)$, $g=(g_1, g_2)\\in L^2(\\Gamma)$ et $u_D$, le problème étudié s'écrit\n",
    "\n",
    "$$\n",
    "\\begin{array}{rll}\n",
    "-div\\sigma(u) &=& f, \\; \\text{dans} \\; \\Omega,\\\\\n",
    "\\sigma(u)\\cdot n &=& g, \\; \\text{sur} \\; \\Gamma_N, \\\\\n",
    "u &=& u_D,\\; \\text{sur} \\; \\Gamma_D. \n",
    "\\end{array}\n",
    "$$"
   ]
  },
  {
   "cell_type": "markdown",
   "metadata": {
    "slideshow": {
     "slide_type": "subslide"
    }
   },
   "source": [
    "### Description du problème\n",
    "\n",
    "Soient\n",
    "\n",
    "$$\n",
    "\\begin{array}{rll}\n",
    "V &=& \\left\\{ v \\in H^1(\\Omega) \\; : \\; v=0 \\; \\text{sur} \\; \\Gamma_D \\right\\},\\\\\n",
    "V^D &=& \\left\\{ v \\in H^1(\\Omega) \\; : \\; v=u_D \\; \\text{sur} \\; \\Gamma_D \\right\\}.\n",
    "\\end{array}\n",
    "$$"
   ]
  },
  {
   "cell_type": "markdown",
   "metadata": {
    "slideshow": {
     "slide_type": "subslide"
    }
   },
   "source": [
    "### Description du problème\n",
    "La formulation variationnelle du problème d'élasticité s'écrit\n",
    "\n",
    "Trouver $u\\in V^D$ tel que \n",
    "\n",
    "$$\n",
    "\\int_\\Omega \\epsilon(u):\\mathbb{C}\\epsilon(v)dx=\\int_\\Omega f\\cdot v dx + \\int_{\\Gamma_N} g\\cdot v ds, \\; \\forall v \\in V.\n",
    "$$\n",
    "\n",
    "avec\n",
    "\n",
    "$$\n",
    "\\mathbb{C}_{ijkl} = \\lambda \\delta_{ij}\\delta_{kl} + \\mu (\\delta_{ik}\\delta_{jl}+\\delta_{il}\\delta_{jk}), \\; 1\\leq i,j,k,l\\leq 2,\n",
    "$$\n",
    "\n",
    "où $\\delta_{ij}$ est le symbôle de Kronecker."
   ]
  },
  {
   "cell_type": "markdown",
   "metadata": {
    "slideshow": {
     "slide_type": "subslide"
    }
   },
   "source": [
    "### Discrétisation éléments finis\n",
    "\n",
    "Soit $\\mathcal{Q}_h$ une quadrangulation de $\\Omega$. Les espaces $V$ et $ V^D$ sont remplacés par leurs approximations discrètes $V_h$ et $V_h^D$ définies par\n",
    "\n",
    "$$\n",
    "\\begin{array}{rll}\n",
    "V_h &=& \\left\\{ v_h \\in \\mathcal{C}^0(\\overline \\Omega); \\; v_{|T}\\in \\mathbb{Q}_1(Q), \\; \\forall Q\\in \\mathcal{Q_h}; \\; v_{h|\\Gamma_D}=0 \\right\\},\\\\\n",
    "V_h^D &=& \\left\\{ v_h \\in \\mathcal{C}^0(\\overline \\Omega); \\; v_{|T}\\in \\mathbb{Q}_1(Q), \\; \\forall Q\\in \\mathcal{Q_h}; \\; v_{h|\\Gamma_D}=u_D \\right\\}.\n",
    "\\end{array}\n",
    "$$"
   ]
  },
  {
   "cell_type": "markdown",
   "metadata": {
    "slideshow": {
     "slide_type": "subslide"
    }
   },
   "source": [
    "### Discrétisation éléments finis\n",
    "La formulation variationnelle discrète s'écrit\n",
    "\n",
    "Trouver $u_h\\in V_h^D$ tel que $\\forall v_h \\in V_h$\n",
    "\n",
    "$$\n",
    "\\sum_{Q\\in \\mathcal{Q}_h}\\int_Q \\epsilon(u_h):\\mathbb{C}\\epsilon(v_h)dx=\\sum_{Q\\in \\mathcal{Q}_h}\\int_Q f\\cdot v_h dx + \\sum_{E\\subset \\Gamma_N}\\int_{\\Gamma_N} g\\cdot v_h ds,\n",
    "$$\n",
    "\n",
    "avec $u_h=(u_{1h},u_{2h})\\in V_h$,\n",
    "\n",
    "$$\n",
    "u_{\\alpha h}=\\sum \\varphi_j(x) u_{\\alpha}^{j}, \\; \\alpha = 1,2.\n",
    "$$"
   ]
  },
  {
   "cell_type": "markdown",
   "metadata": {
    "slideshow": {
     "slide_type": "subslide"
    }
   },
   "source": [
    "### Assemblage de la matrice de rigidité\n",
    "\n",
    "La matrice élémentaire s'écrit\n",
    "\n",
    "$$\n",
    "\\displaystyle{A_{ij}^e = \\int_Q \\epsilon(\\varphi_i): \\mathbb{C}\\epsilon(\\varphi_j) dx}\n",
    "$$"
   ]
  },
  {
   "cell_type": "markdown",
   "metadata": {
    "slideshow": {
     "slide_type": "subslide"
    }
   },
   "source": [
    "### Notation de Voigt\n",
    "\n",
    "En remarquant que le tenseur $\\mathbb{C}$ est symétrique et $\\epsilon_{ij} = \\epsilon_{ji}$, $\\sigma(u_h) = \\mathbb{C}\\epsilon(u_h)$ peut se réécrire\n",
    "\n",
    "$$\n",
    "\\left(\n",
    "\\begin{array}{c}\n",
    "\\sigma_{11} \\\\\n",
    "\\sigma_{22} \\\\\n",
    "\\sigma_{12} \n",
    "\\end{array}\n",
    "\\right)\n",
    "=\n",
    "C \\gamma(u_h),\n",
    "$$\n",
    "\n",
    "avec\n",
    "\n",
    "$$\n",
    "C = \\left(\n",
    "\\begin{array}{ccc}\n",
    "\\lambda+2\\mu & \\lambda & 0 \\\\\n",
    "\\lambda & \\lambda+2\\mu & 0 \\\\\n",
    "0 & 0 & \\mu\n",
    "\\end{array}\n",
    "\\right)\n",
    "\\; \\text{et} \\;\n",
    "\\gamma(u) = \\left(\n",
    "\\begin{array}{c}\n",
    "\\epsilon_{11} \\\\\n",
    "\\epsilon_{22} \\\\\n",
    "2\\epsilon_{12} \n",
    "\\end{array}\n",
    "\\right)=\n",
    "\\left(\n",
    "\\begin{array}{c}\n",
    "\\frac{\\partial u_1}{\\partial x} \\\\\n",
    "\\frac{\\partial u_2}{\\partial y} \\\\ \n",
    "\\frac{\\partial u_1}{\\partial y}+\\frac{\\partial u_2}{\\partial x} \n",
    "\\end{array}\n",
    "\\right)\n",
    "$$"
   ]
  },
  {
   "cell_type": "markdown",
   "metadata": {
    "slideshow": {
     "slide_type": "subslide"
    }
   },
   "source": [
    "### Fonctions de base\n",
    "\n",
    "<table>\n",
    "<tr>\n",
    "<td><img src=\"./figures/element.png\"></img></td>\n",
    "<td>\n",
    "$$\n",
    "\\begin{array}{rll}\n",
    "\\varphi_1(x,y) &=& \\displaystyle{\\frac{(x-h_x)(y-h_y)}{h_xh_y}}\\\\\n",
    "\\varphi_2(x,y) &=& \\displaystyle{-\\frac{x(y-h_y)}{h_xh_y}}\\\\\n",
    "\\varphi_3(x,y) &=& \\displaystyle{\\frac{xy}{h_xh_y}}\\\\\n",
    "\\varphi_4(x,y) &=& \\displaystyle{-\\frac{(x-h_x)y}{h_xh_y}}\n",
    "\\end{array}\n",
    "$$\n",
    "    </td>\n",
    "</tr>\n",
    "</table>"
   ]
  },
  {
   "cell_type": "markdown",
   "metadata": {
    "slideshow": {
     "slide_type": "subslide"
    }
   },
   "source": [
    "Soit $u = (u_1, u_2, \\cdots, u_8)$ les valeurs de la solution $u_h$ aux noeuds du quadrange $Q$. Alors\n",
    "\n",
    "$$\n",
    "\\gamma(u) = \\left(\n",
    "\\begin{array}{cccccccc}\n",
    "\\varphi_{1,x} & 0 & \\varphi_{2,x} & 0 & \\varphi_{3,x} & 0 & \\varphi_{4,x} & 0 \\\\\n",
    "0 & \\varphi_{1,y} & 0 & \\varphi_{2,y} & 0 & \\varphi_{3,y} & 0 & \\varphi_{4,y} \\\\\n",
    "\\varphi_{1,y} & \\varphi_{1,x} &\\varphi_{2,y} & \\varphi_{2,x} &\\varphi_{3,y} & \\varphi_{3,x} &\\varphi_{4,y} & \\varphi_{4,x} \n",
    "\\end{array}\n",
    "\\right)\n",
    "\\left(\n",
    "\\begin{array}{c}\n",
    "u_1 \\\\\n",
    "\\vdots \\\\\n",
    "u_8\n",
    "\\end{array}\n",
    "\\right)\n",
    "= R u\n",
    "$$\n",
    "\n",
    "Il s'en suit\n",
    "\n",
    "$$\n",
    "\\epsilon(v_h) : \\mathbb{C}\\epsilon(u_h) = v^tR^tCRu.\n",
    "$$\n",
    "\n",
    "La matrice élémentaire peut donc se réécrire comme\n",
    "\n",
    "$$\n",
    "A^e = R^tCR.\n",
    "$$"
   ]
  },
  {
   "cell_type": "markdown",
   "metadata": {
    "slideshow": {
     "slide_type": "subslide"
    }
   },
   "source": [
    "### Utilisation de sympy"
   ]
  },
  {
   "cell_type": "code",
   "execution_count": null,
   "metadata": {},
   "outputs": [],
   "source": [
    "import sympy as sp\n",
    "\n",
    "lamb, mu = sp.symbols(\"lambda, mu\")\n",
    "dim = 2\n",
    "\n",
    "C = sp.zeros(3, 3)\n",
    "C[:dim, :dim] = lamb*sp.ones(dim, dim) + 2*mu*sp.eye(dim)\n",
    "C[-1, -1] = mu"
   ]
  },
  {
   "cell_type": "code",
   "execution_count": null,
   "metadata": {},
   "outputs": [],
   "source": [
    "sp.pprint(C)"
   ]
  },
  {
   "cell_type": "markdown",
   "metadata": {
    "slideshow": {
     "slide_type": "subslide"
    }
   },
   "source": [
    "### Définition des fonctions de base"
   ]
  },
  {
   "cell_type": "code",
   "execution_count": null,
   "metadata": {
    "slideshow": {
     "slide_type": "-"
    }
   },
   "outputs": [],
   "source": [
    "x, y, hx, hy = sp.symbols(\"x, y, hx, hy \")\n",
    "\n",
    "basis_functions = [ (x - hx)*(y - hy)/(hx*hy),\n",
    "                          -x*(y - hy)/(hx*hy),\n",
    "                                  x*y/(hx*hy),\n",
    "                          -(x - hx)*y/(hx*hy)]\n",
    "\n",
    "sp.pprint(basis_functions)"
   ]
  },
  {
   "cell_type": "markdown",
   "metadata": {
    "slideshow": {
     "slide_type": "subslide"
    }
   },
   "source": [
    "### Construction de R"
   ]
  },
  {
   "cell_type": "code",
   "execution_count": null,
   "metadata": {},
   "outputs": [],
   "source": [
    "phi = basis_functions\n",
    "R = sp.zeros(C.shape[0], 2*len(phi))\n",
    "\n",
    "deriv = [x, y]\n",
    "\n",
    "for j in range(dim):\n",
    "    for i in range(len(phi)):\n",
    "        R[j, dim*i + j] = phi[i].diff(deriv[j])\n",
    "\n",
    "for i in range(len(phi)):\n",
    "    R[-1, dim*i] = phi[i].diff(y)\n",
    "    R[-1, dim*i + 1] = phi[i].diff(x)"
   ]
  },
  {
   "cell_type": "code",
   "execution_count": null,
   "metadata": {},
   "outputs": [],
   "source": [
    "sp.pprint(R)"
   ]
  },
  {
   "cell_type": "markdown",
   "metadata": {
    "slideshow": {
     "slide_type": "subslide"
    }
   },
   "source": [
    "### Construction de $A^e$"
   ]
  },
  {
   "cell_type": "code",
   "execution_count": null,
   "metadata": {},
   "outputs": [],
   "source": [
    "A = R.T*C*R\n",
    "\n",
    "Ae = sp.zeros(dim*len(phi), dim*len(phi))\n",
    "for i in range(A.shape[0]):\n",
    "    for j in range(A.shape[1]):\n",
    "        Ae[i, j] = sp.integrate(A[i, j], (y, 0., hy), (x, 0., hx)).expand()\n",
    "        Ae[i, j].together().factor()"
   ]
  },
  {
   "cell_type": "code",
   "execution_count": null,
   "metadata": {},
   "outputs": [],
   "source": [
    "sp.pprint(Ae)"
   ]
  },
  {
   "cell_type": "markdown",
   "metadata": {
    "slideshow": {
     "slide_type": "subslide"
    }
   },
   "source": [
    "### PETSc (Portable, Extensible Toolkit for Scientific Computation)\n",
    "\n",
    "<center>\n",
    "<img style=\"width:70%;\" src=\"./figures/petsc_1.png\"/>\n",
    "</center>"
   ]
  },
  {
   "cell_type": "markdown",
   "metadata": {
    "slideshow": {
     "slide_type": "subslide"
    }
   },
   "source": [
    "### PETSc (Portable, Extensible Toolkit for Scientific Computation)\n",
    "\n",
    "**Langages supportés**\n",
    "\n",
    "- C/C++\n",
    "- Fortran\n",
    "- Python (`petsc4py`)\n",
    "\n",
    "**Interface avec des bibliothèques externes**\n",
    "\n",
    "- FFTW\n",
    "- Hyper\n",
    "- MUMPS\n",
    "- ParMetis,\n",
    "- SuperLU,\n",
    "- UMFPACK,\n",
    "- ..."
   ]
  },
  {
   "cell_type": "markdown",
   "metadata": {
    "slideshow": {
     "slide_type": "subslide"
    }
   },
   "source": [
    "### DM\n",
    "\n",
    "Petsc offre deux structures de données pour gérer les maillages\n",
    "\n",
    "- `DMDA` pour les maillages uniformes cartésiens,\n",
    "- `DMPlex` pour les maillages non structurés."
   ]
  },
  {
   "cell_type": "markdown",
   "metadata": {
    "slideshow": {
     "slide_type": "subslide"
    }
   },
   "source": [
    "### DMDA"
   ]
  },
  {
   "cell_type": "code",
   "execution_count": 3,
   "metadata": {},
   "outputs": [],
   "source": [
    "%%px\n",
    "from petsc4py import PETSc\n",
    "\n",
    "nx = ny = 5\n",
    "\n",
    "da = PETSc.DMDA().create([nx, ny], dof=2, stencil_width=1)\n",
    "da.setUniformCoordinates(xmax=1, ymax=1)"
   ]
  },
  {
   "cell_type": "markdown",
   "metadata": {
    "slideshow": {
     "slide_type": "subslide"
    }
   },
   "source": [
    "### DMDA (4 sous domaines)\n",
    "<center>\n",
    "<img style=\"width:60%\" src=\"./figures/DMDA.png\"/>\n",
    "</center>"
   ]
  },
  {
   "cell_type": "markdown",
   "metadata": {
    "slideshow": {
     "slide_type": "subslide"
    }
   },
   "source": [
    "### Récupérer $x_s$, $gx_s$, $x_e$, $gx_e$, ..."
   ]
  },
  {
   "cell_type": "code",
   "execution_count": 4,
   "metadata": {
    "slideshow": {
     "slide_type": "-"
    }
   },
   "outputs": [
    {
     "name": "stdout",
     "output_type": "stream",
     "text": [
      "[stdout:0] 2 ((0, 3), (3, 5)) ((0, 4), (2, 5))\n",
      "[stdout:1] 0 ((0, 3), (0, 3)) ((0, 4), (0, 4))\n",
      "[stdout:2] 1 ((3, 5), (0, 3)) ((2, 5), (0, 4))\n",
      "[stdout:3] 3 ((3, 5), (3, 5)) ((2, 5), (2, 5))\n"
     ]
    }
   ],
   "source": [
    "%%px\n",
    "print(PETSc.COMM_WORLD.rank, da.getRanges(), da.getGhostRanges())"
   ]
  },
  {
   "cell_type": "markdown",
   "metadata": {
    "slideshow": {
     "slide_type": "subslide"
    }
   },
   "source": [
    "### Parcourir les éléments avec une numérotation locale"
   ]
  },
  {
   "cell_type": "code",
   "execution_count": 5,
   "metadata": {
    "slideshow": {
     "slide_type": "-"
    }
   },
   "outputs": [
    {
     "data": {
      "text/plain": [
       "\u001b[0;31mOut[0:3]: \u001b[0m\n",
       "array([[ 0,  1,  5,  4],\n",
       "       [ 1,  2,  6,  5],\n",
       "       [ 4,  5,  9,  8],\n",
       "       [ 5,  6, 10,  9]], dtype=int32)"
      ]
     },
     "metadata": {},
     "output_type": "display_data"
    },
    {
     "data": {
      "text/plain": [
       "\u001b[0;31mOut[1:3]: \u001b[0m\n",
       "array([[ 0,  1,  5,  4],\n",
       "       [ 1,  2,  6,  5],\n",
       "       [ 4,  5,  9,  8],\n",
       "       [ 5,  6, 10,  9]], dtype=int32)"
      ]
     },
     "metadata": {},
     "output_type": "display_data"
    },
    {
     "data": {
      "text/plain": [
       "\u001b[0;31mOut[2:3]: \u001b[0m\n",
       "array([[0, 1, 4, 3],\n",
       "       [1, 2, 5, 4],\n",
       "       [3, 4, 7, 6],\n",
       "       [4, 5, 8, 7]], dtype=int32)"
      ]
     },
     "metadata": {},
     "output_type": "display_data"
    },
    {
     "data": {
      "text/plain": [
       "\u001b[0;31mOut[3:3]: \u001b[0m\n",
       "array([[0, 1, 4, 3],\n",
       "       [1, 2, 5, 4],\n",
       "       [3, 4, 7, 6],\n",
       "       [4, 5, 8, 7]], dtype=int32)"
      ]
     },
     "metadata": {},
     "output_type": "display_data"
    }
   ],
   "source": [
    "%%px\n",
    "da.getElements()"
   ]
  },
  {
   "cell_type": "markdown",
   "metadata": {
    "slideshow": {
     "slide_type": "subslide"
    }
   },
   "source": [
    "### Matrice et vecteur à partir d'un DMDA"
   ]
  },
  {
   "cell_type": "code",
   "execution_count": 6,
   "metadata": {},
   "outputs": [],
   "source": [
    "%%px \n",
    "A = da.createMatrix()\n",
    "x = da.createGlobalVec()\n",
    "xlocal = da.createLocalVec()"
   ]
  },
  {
   "cell_type": "markdown",
   "metadata": {},
   "source": [
    "On peut toujours accéder aux éléments en utilisant la numérotation globale."
   ]
  },
  {
   "cell_type": "code",
   "execution_count": 7,
   "metadata": {},
   "outputs": [],
   "source": [
    "%px x[0] = 1"
   ]
  },
  {
   "cell_type": "code",
   "execution_count": 11,
   "metadata": {},
   "outputs": [
    {
     "name": "stdout",
     "output_type": "stream",
     "text": [
      "[stdout:0] \n",
      "[[[ 0.  0.]\n",
      "  [ 0.  0.]]\n",
      "\n",
      " [[ 0.  0.]\n",
      "  [ 0.  0.]]\n",
      "\n",
      " [[ 0.  0.]\n",
      "  [ 0.  0.]]]\n",
      "[stdout:1] \n",
      "[[[ 1.  0.]\n",
      "  [ 0.  0.]\n",
      "  [ 0.  0.]]\n",
      "\n",
      " [[ 0.  0.]\n",
      "  [ 0.  0.]\n",
      "  [ 0.  0.]]\n",
      "\n",
      " [[ 0.  0.]\n",
      "  [ 0.  0.]\n",
      "  [ 0.  0.]]]\n",
      "[stdout:2] \n",
      "[[[ 0.  0.]\n",
      "  [ 0.  0.]\n",
      "  [ 0.  0.]]\n",
      "\n",
      " [[ 0.  0.]\n",
      "  [ 0.  0.]\n",
      "  [ 0.  0.]]]\n",
      "[stdout:3] \n",
      "[[[ 0.  0.]\n",
      "  [ 0.  0.]]\n",
      "\n",
      " [[ 0.  0.]\n",
      "  [ 0.  0.]]]\n"
     ]
    }
   ],
   "source": [
    "%px print(da.getVecArray(x)[:])"
   ]
  },
  {
   "cell_type": "markdown",
   "metadata": {
    "slideshow": {
     "slide_type": "subslide"
    }
   },
   "source": [
    "### Assemblage de la matrice"
   ]
  },
  {
   "cell_type": "code",
   "execution_count": 17,
   "metadata": {},
   "outputs": [],
   "source": [
    "%%px\n",
    "from elasticity.assembling import getMatElemElasticity, getIndices\n",
    "\n",
    "h, lamb, mu = [.25, .25], .25, .1\n",
    "\n",
    "Melem = getMatElemElasticity(h, lamb, mu)\n",
    "A = da.createMatrix()\n",
    "elem = da.getElements()\n",
    "\n",
    "dof = da.getDof()\n",
    "for e in elem:\n",
    "    ind = getIndices(e, dof)\n",
    "    A.setValuesLocal(ind, ind, Melem, PETSc.InsertMode.ADD_VALUES)\n",
    "A.assemble()"
   ]
  },
  {
   "cell_type": "markdown",
   "metadata": {
    "slideshow": {
     "slide_type": "subslide"
    }
   },
   "source": [
    "### Création du KSP"
   ]
  },
  {
   "cell_type": "code",
   "execution_count": 19,
   "metadata": {},
   "outputs": [],
   "source": [
    "%%px\n",
    "ksp = PETSc.KSP().create()\n",
    "ksp.setOperators(A)\n",
    "ksp.setType(\"cg\")\n",
    "pc = ksp.getPC()\n",
    "pc.setType(\"gamg\")\n",
    "ksp.setFromOptions()"
   ]
  },
  {
   "cell_type": "markdown",
   "metadata": {
    "slideshow": {
     "slide_type": "subslide"
    }
   },
   "source": [
    "### Exemple"
   ]
  },
  {
   "cell_type": "code",
   "execution_count": null,
   "metadata": {},
   "outputs": [],
   "source": [
    "import sys, petsc4py\n",
    "petsc4py.init(sys.argv)\n",
    "from petsc4py import PETSc\n",
    "import numpy as np\n",
    "from elasticity import *\n",
    "\n",
    "def rhs(coords, rhs):\n",
    "    rhs[..., 1] = -9.81\n",
    "\n",
    "# set options\n",
    "OptDB = PETSc.Options()\n",
    "Lx = OptDB.getReal('Lx', 10)\n",
    "Ly = OptDB.getReal('Ly', 1)\n",
    "n  = OptDB.getInt('n', 16)\n",
    "nx = OptDB.getInt('nx', Lx*n)\n",
    "ny = OptDB.getInt('ny', Ly*n)\n",
    "\n",
    "hx = Lx/(nx - 1)\n",
    "hy = Ly/(ny - 1)\n",
    "\n",
    "da = PETSc.DMDA().create([nx, ny], dof=2, stencil_width=1)\n",
    "da.setUniformCoordinates(xmax=Lx, ymax=Ly)\n",
    "\n",
    "# constant young modulus\n",
    "E = 30000\n",
    "# constant Poisson coefficient\n",
    "nu = 0.4\n",
    "\n",
    "lamb = (nu*E)/((1+nu)*(1-2*nu)) \n",
    "mu = .5*E/(1+nu)\n",
    "\n",
    "x = da.createGlobalVec()\n",
    "b = buildRHS(da, [hx, hy], rhs)\n",
    "A = buildElasticityMatrix(da, [hx, hy], lamb, mu)\n",
    "A.assemble()\n",
    "\n",
    "bcApplyWest(da, A, b)\n",
    "\n",
    "ksp = PETSc.KSP().create()\n",
    "ksp.setOperators(A)\n",
    "ksp.setFromOptions()\n",
    "\n",
    "ksp.solve(b, x)\n",
    "\n",
    "viewer = PETSc.Viewer().createVTK('solution_2d.vts', 'w', comm = PETSc.COMM_WORLD)\n",
    "x.view(viewer)"
   ]
  },
  {
   "cell_type": "code",
   "execution_count": 66,
   "metadata": {
    "slideshow": {
     "slide_type": "subslide"
    }
   },
   "outputs": [
    {
     "name": "stdout",
     "output_type": "stream",
     "text": [
      "  0 KSP Residual norm 1.970318723957e+00 \r\n",
      "  1 KSP Residual norm 1.432165904284e+01 \r\n",
      "  2 KSP Residual norm 2.219869726949e+01 \r\n",
      "  3 KSP Residual norm 2.764077139634e+01 \r\n",
      "  4 KSP Residual norm 3.158233723647e+01 \r\n",
      "  5 KSP Residual norm 3.427005962788e+01 \r\n",
      "  6 KSP Residual norm 3.587643743803e+01 \r\n",
      "  7 KSP Residual norm 3.695641381094e+01 \r\n",
      "  8 KSP Residual norm 3.112716433941e+01 \r\n",
      "  9 KSP Residual norm 3.233552704025e+01 \r\n",
      " 10 KSP Residual norm 3.967300491207e+01 \r\n",
      " 11 KSP Residual norm 3.793614594574e+01 \r\n",
      " 12 KSP Residual norm 3.539435863206e+01 \r\n",
      " 13 KSP Residual norm 4.270929800876e+01 \r\n",
      " 14 KSP Residual norm 4.982073090505e+01 \r\n",
      " 15 KSP Residual norm 4.378777106525e+01 \r\n",
      " 16 KSP Residual norm 4.723107567670e+01 \r\n",
      " 17 KSP Residual norm 3.582317931390e+01 \r\n",
      " 18 KSP Residual norm 3.918278378786e+01 \r\n",
      " 19 KSP Residual norm 3.891456267806e+01 \r\n",
      " 20 KSP Residual norm 4.390818521013e+01 \r\n",
      " 21 KSP Residual norm 4.199982907422e+01 \r\n",
      " 22 KSP Residual norm 4.433964435802e+01 \r\n",
      " 23 KSP Residual norm 5.276485822817e+01 \r\n",
      " 24 KSP Residual norm 4.417035537409e+01 \r\n",
      " 25 KSP Residual norm 4.216645184373e+01 \r\n",
      " 26 KSP Residual norm 4.270965763338e+01 \r\n",
      " 27 KSP Residual norm 4.262488738433e+01 \r\n",
      " 28 KSP Residual norm 4.247287575717e+01 \r\n",
      " 29 KSP Residual norm 4.648490861041e+01 \r\n",
      " 30 KSP Residual norm 4.607648290425e+01 \r\n",
      " 31 KSP Residual norm 4.901979740216e+01 \r\n",
      " 32 KSP Residual norm 5.046132319692e+01 \r\n",
      " 33 KSP Residual norm 4.655980600389e+01 \r\n",
      " 34 KSP Residual norm 4.299344965790e+01 \r\n",
      " 35 KSP Residual norm 4.819377812952e+01 \r\n",
      " 36 KSP Residual norm 4.607525044126e+01 \r\n",
      " 37 KSP Residual norm 4.595235088038e+01 \r\n",
      " 38 KSP Residual norm 5.058946332257e+01 \r\n",
      " 39 KSP Residual norm 4.895190036485e+01 \r\n",
      " 40 KSP Residual norm 5.162952189388e+01 \r\n",
      " 41 KSP Residual norm 4.967542643013e+01 \r\n",
      " 42 KSP Residual norm 4.664032254529e+01 \r\n",
      " 43 KSP Residual norm 4.701361808233e+01 \r\n",
      " 44 KSP Residual norm 5.048591021786e+01 \r\n",
      " 45 KSP Residual norm 4.775133805858e+01 \r\n",
      " 46 KSP Residual norm 5.048658497090e+01 \r\n",
      " 47 KSP Residual norm 5.109583419061e+01 \r\n",
      " 48 KSP Residual norm 5.205038794130e+01 \r\n",
      " 49 KSP Residual norm 5.175449928324e+01 \r\n",
      " 50 KSP Residual norm 5.143745233283e+01 \r\n",
      " 51 KSP Residual norm 4.699304911144e+01 \r\n",
      " 52 KSP Residual norm 5.043060734746e+01 \r\n",
      " 53 KSP Residual norm 5.278300225477e+01 \r\n",
      " 54 KSP Residual norm 4.879280348026e+01 \r\n",
      " 55 KSP Residual norm 5.443980664379e+01 \r\n",
      " 56 KSP Residual norm 5.181459148648e+01 \r\n",
      " 57 KSP Residual norm 5.406040646072e+01 \r\n",
      " 58 KSP Residual norm 5.200722190877e+01 \r\n",
      " 59 KSP Residual norm 5.185865557459e+01 \r\n",
      " 60 KSP Residual norm 4.937183526018e+01 \r\n",
      " 61 KSP Residual norm 5.335652384798e+01 \r\n",
      " 62 KSP Residual norm 5.247772198367e+01 \r\n",
      " 63 KSP Residual norm 5.234583721612e+01 \r\n",
      " 64 KSP Residual norm 5.490263677213e+01 \r\n",
      " 65 KSP Residual norm 5.399141307321e+01 \r\n",
      " 66 KSP Residual norm 5.407643003156e+01 \r\n",
      " 67 KSP Residual norm 5.302300290972e+01 \r\n",
      " 68 KSP Residual norm 5.273480060166e+01 \r\n",
      " 69 KSP Residual norm 5.205290622109e+01 \r\n",
      " 70 KSP Residual norm 5.590827986125e+01 \r\n",
      " 71 KSP Residual norm 5.245210556287e+01 \r\n",
      " 72 KSP Residual norm 5.653196916716e+01 \r\n",
      " 73 KSP Residual norm 5.470910444032e+01 \r\n",
      " 74 KSP Residual norm 5.518175532239e+01 \r\n",
      " 75 KSP Residual norm 5.532549018404e+01 \r\n",
      " 76 KSP Residual norm 5.371648270818e+01 \r\n",
      " 77 KSP Residual norm 5.370763296936e+01 \r\n",
      " 78 KSP Residual norm 5.492634214664e+01 \r\n",
      " 79 KSP Residual norm 5.626722713327e+01 \r\n",
      " 80 KSP Residual norm 5.460445507940e+01 \r\n",
      " 81 KSP Residual norm 5.744581700597e+01 \r\n",
      " 82 KSP Residual norm 5.644876545110e+01 \r\n",
      " 83 KSP Residual norm 5.575980687672e+01 \r\n",
      " 84 KSP Residual norm 5.596963638129e+01 \r\n",
      " 85 KSP Residual norm 5.508416731140e+01 \r\n",
      " 86 KSP Residual norm 5.508654186682e+01 \r\n",
      " 87 KSP Residual norm 5.653142917160e+01 \r\n",
      " 88 KSP Residual norm 5.567774386571e+01 \r\n",
      " 89 KSP Residual norm 5.770457343697e+01 \r\n",
      " 90 KSP Residual norm 5.754548471407e+01 \r\n",
      " 91 KSP Residual norm 5.698943597424e+01 \r\n",
      " 92 KSP Residual norm 5.669406399382e+01 \r\n",
      " 93 KSP Residual norm 5.623598809555e+01 \r\n",
      " 94 KSP Residual norm 5.615383666235e+01 \r\n",
      " 95 KSP Residual norm 5.764419991901e+01 \r\n",
      " 96 KSP Residual norm 5.661695468842e+01 \r\n",
      " 97 KSP Residual norm 5.738688722022e+01 \r\n",
      " 98 KSP Residual norm 5.880406648737e+01 \r\n",
      " 99 KSP Residual norm 5.806720129922e+01 \r\n",
      "100 KSP Residual norm 5.730376778315e+01 \r\n",
      "101 KSP Residual norm 5.722291940001e+01 \r\n",
      "102 KSP Residual norm 5.751149959724e+01 \r\n",
      "103 KSP Residual norm 5.673477624840e+01 \r\n",
      "104 KSP Residual norm 5.994257104925e+01 \r\n",
      "105 KSP Residual norm 5.650333175587e+01 \r\n",
      "106 KSP Residual norm 5.935854286351e+01 \r\n",
      "107 KSP Residual norm 5.902977916242e+01 \r\n",
      "108 KSP Residual norm 5.860992823861e+01 \r\n",
      "109 KSP Residual norm 5.851643043873e+01 \r\n",
      "110 KSP Residual norm 5.733208570787e+01 \r\n",
      "111 KSP Residual norm 5.891387804694e+01 \r\n",
      "112 KSP Residual norm 5.840234065383e+01 \r\n",
      "113 KSP Residual norm 5.940740351892e+01 \r\n",
      "114 KSP Residual norm 5.839181254631e+01 \r\n",
      "115 KSP Residual norm 6.023244286091e+01 \r\n",
      "116 KSP Residual norm 5.950950576249e+01 \r\n",
      "117 KSP Residual norm 5.913224831631e+01 \r\n",
      "118 KSP Residual norm 5.901088486784e+01 \r\n",
      "119 KSP Residual norm 5.838590360431e+01 \r\n",
      "120 KSP Residual norm 5.963980880281e+01 \r\n",
      "121 KSP Residual norm 6.016869920567e+01 \r\n",
      "122 KSP Residual norm 5.904458559178e+01 \r\n",
      "123 KSP Residual norm 6.010867389224e+01 \r\n",
      "124 KSP Residual norm 6.070465727003e+01 \r\n",
      "125 KSP Residual norm 5.938736707178e+01 \r\n",
      "126 KSP Residual norm 6.030685831740e+01 \r\n",
      "127 KSP Residual norm 5.921181016317e+01 \r\n",
      "128 KSP Residual norm 5.958316940704e+01 \r\n",
      "129 KSP Residual norm 6.055404058535e+01 \r\n",
      "130 KSP Residual norm 6.037574660357e+01 \r\n",
      "131 KSP Residual norm 6.020760582975e+01 \r\n",
      "132 KSP Residual norm 6.095550796545e+01 \r\n",
      "133 KSP Residual norm 6.106935394878e+01 \r\n",
      "134 KSP Residual norm 6.019997808955e+01 \r\n",
      "135 KSP Residual norm 6.120979254998e+01 \r\n",
      "136 KSP Residual norm 6.037434294662e+01 \r\n",
      "137 KSP Residual norm 6.127273371072e+01 \r\n",
      "138 KSP Residual norm 6.235303841042e+01 \r\n",
      "139 KSP Residual norm 6.016666780876e+01 \r\n",
      "140 KSP Residual norm 6.200471281867e+01 \r\n",
      "141 KSP Residual norm 6.152018260690e+01 \r\n",
      "142 KSP Residual norm 6.155127218423e+01 \r\n",
      "143 KSP Residual norm 6.072634752104e+01 \r\n",
      "144 KSP Residual norm 6.125173370496e+01 \r\n",
      "145 KSP Residual norm 6.054535586147e+01 \r\n",
      "146 KSP Residual norm 6.159722940254e+01 \r\n",
      "147 KSP Residual norm 6.191991368151e+01 \r\n",
      "148 KSP Residual norm 6.030116888691e+01 \r\n",
      "149 KSP Residual norm 6.272307659902e+01 \r\n",
      "150 KSP Residual norm 6.142562337088e+01 \r\n",
      "151 KSP Residual norm 6.099321020467e+01 \r\n",
      "152 KSP Residual norm 6.136824471576e+01 \r\n",
      "153 KSP Residual norm 6.166176383800e+01 \r\n",
      "154 KSP Residual norm 6.072875526197e+01 \r\n",
      "155 KSP Residual norm 6.262393040364e+01 \r\n",
      "156 KSP Residual norm 6.251438788151e+01 \r\n",
      "157 KSP Residual norm 6.168995482610e+01 \r\n",
      "158 KSP Residual norm 6.291400564691e+01 \r\n",
      "159 KSP Residual norm 6.254542775653e+01 \r\n",
      "160 KSP Residual norm 6.195151624360e+01 \r\n",
      "161 KSP Residual norm 6.178796966950e+01 \r\n",
      "162 KSP Residual norm 6.310129633096e+01 \r\n",
      "163 KSP Residual norm 6.265901805610e+01 \r\n",
      "164 KSP Residual norm 6.308373313996e+01 \r\n",
      "165 KSP Residual norm 6.185061117937e+01 \r\n",
      "166 KSP Residual norm 6.349093843110e+01 \r\n",
      "167 KSP Residual norm 6.210779718093e+01 \r\n",
      "168 KSP Residual norm 6.196986792779e+01 \r\n",
      "169 KSP Residual norm 6.289798170511e+01 \r\n",
      "170 KSP Residual norm 6.291410187377e+01 \r\n",
      "171 KSP Residual norm 6.346501867107e+01 \r\n",
      "172 KSP Residual norm 6.183931280492e+01 \r\n",
      "173 KSP Residual norm 6.167907316762e+01 \r\n",
      "174 KSP Residual norm 6.149968542896e+01 \r\n",
      "175 KSP Residual norm 6.275282613933e+01 \r\n",
      "176 KSP Residual norm 6.264509908364e+01 \r\n",
      "177 KSP Residual norm 6.249871093050e+01 \r\n",
      "178 KSP Residual norm 6.175106295774e+01 \r\n",
      "179 KSP Residual norm 5.916501995473e+01 \r\n",
      "180 KSP Residual norm 6.118063003013e+01 \r\n",
      "181 KSP Residual norm 6.051817818782e+01 \r\n",
      "182 KSP Residual norm 6.011055996745e+01 \r\n",
      "183 KSP Residual norm 6.114637333316e+01 \r\n",
      "184 KSP Residual norm 6.312517860593e+01 \r\n",
      "185 KSP Residual norm 6.283222208676e+01 \r\n",
      "186 KSP Residual norm 6.105879598263e+01 \r\n",
      "187 KSP Residual norm 6.157280871727e+01 \r\n",
      "188 KSP Residual norm 6.008216090340e+01 \r\n",
      "189 KSP Residual norm 6.182856212678e+01 \r\n",
      "190 KSP Residual norm 5.999009333205e+01 \r\n",
      "191 KSP Residual norm 6.332544033170e+01 \r\n",
      "192 KSP Residual norm 6.238925819827e+01 \r\n",
      "193 KSP Residual norm 6.435623644527e+01 \r\n",
      "194 KSP Residual norm 6.543297127509e+01 \r\n",
      "195 KSP Residual norm 6.623140836444e+01 \r\n",
      "196 KSP Residual norm 6.689985464659e+01 \r\n",
      "197 KSP Residual norm 6.465973160206e+01 \r\n",
      "198 KSP Residual norm 6.799132111876e+01 \r\n",
      "199 KSP Residual norm 6.750557095036e+01 \r\n",
      "200 KSP Residual norm 7.100822747894e+01 \r\n",
      "201 KSP Residual norm 7.041223759648e+01 \r\n",
      "202 KSP Residual norm 7.042577529167e+01 \r\n",
      "203 KSP Residual norm 7.455980492654e+01 \r\n",
      "204 KSP Residual norm 7.370416233079e+01 \r\n",
      "205 KSP Residual norm 7.165919848190e+01 \r\n",
      "206 KSP Residual norm 7.098948821524e+01 \r\n",
      "207 KSP Residual norm 6.882231209130e+01 \r\n",
      "208 KSP Residual norm 6.765271582625e+01 \r\n",
      "209 KSP Residual norm 6.332256057520e+01 \r\n",
      "210 KSP Residual norm 6.440274415297e+01 \r\n",
      "211 KSP Residual norm 6.308278199992e+01 \r\n",
      "212 KSP Residual norm 6.466242352155e+01 \r\n",
      "213 KSP Residual norm 6.329134910812e+01 \r\n",
      "214 KSP Residual norm 6.397592602751e+01 \r\n",
      "215 KSP Residual norm 6.384462345095e+01 \r\n",
      "216 KSP Residual norm 6.119197065985e+01 \r\n",
      "217 KSP Residual norm 6.539693249600e+01 \r\n",
      "218 KSP Residual norm 6.697921154402e+01 \r\n",
      "219 KSP Residual norm 7.058805939119e+01 \r\n",
      "220 KSP Residual norm 7.143331821951e+01 \r\n",
      "221 KSP Residual norm 7.515662435701e+01 \r\n",
      "222 KSP Residual norm 7.395161863287e+01 \r\n",
      "223 KSP Residual norm 6.883432047277e+01 \r\n",
      "224 KSP Residual norm 6.624440021394e+01 \r\n",
      "225 KSP Residual norm 6.472752010800e+01 \r\n",
      "226 KSP Residual norm 6.460050986663e+01 \r\n",
      "227 KSP Residual norm 6.390819850580e+01 \r\n",
      "228 KSP Residual norm 6.718369552455e+01 \r\n",
      "229 KSP Residual norm 6.781901543430e+01 \r\n",
      "230 KSP Residual norm 6.766756526511e+01 \r\n",
      "231 KSP Residual norm 6.453680813794e+01 \r\n",
      "232 KSP Residual norm 6.289135078933e+01 \r\n",
      "233 KSP Residual norm 6.523947470298e+01 \r\n",
      "234 KSP Residual norm 6.536726692837e+01 \r\n",
      "235 KSP Residual norm 6.628620028850e+01 \r\n",
      "236 KSP Residual norm 6.293778156231e+01 \r\n",
      "237 KSP Residual norm 5.975359025295e+01 \r\n",
      "238 KSP Residual norm 5.910555700149e+01 \r\n",
      "239 KSP Residual norm 5.883802286016e+01 \r\n",
      "240 KSP Residual norm 6.371894197543e+01 \r\n",
      "241 KSP Residual norm 6.775248862591e+01 \r\n",
      "242 KSP Residual norm 7.245195621836e+01 \r\n",
      "243 KSP Residual norm 6.980094868431e+01 \r\n",
      "244 KSP Residual norm 6.439997966293e+01 \r\n",
      "245 KSP Residual norm 6.425865023141e+01 \r\n",
      "246 KSP Residual norm 6.170651769348e+01 \r\n",
      "247 KSP Residual norm 6.677833636404e+01 \r\n",
      "248 KSP Residual norm 6.778285687799e+01 \r\n",
      "249 KSP Residual norm 6.599025425644e+01 \r\n",
      "250 KSP Residual norm 6.548185832481e+01 \r\n",
      "251 KSP Residual norm 5.974194856647e+01 \r\n",
      "252 KSP Residual norm 6.113981846573e+01 \r\n",
      "253 KSP Residual norm 6.347415142595e+01 \r\n",
      "254 KSP Residual norm 6.168545603810e+01 \r\n",
      "255 KSP Residual norm 6.360054802265e+01 \r\n",
      "256 KSP Residual norm 6.183354653575e+01 \r\n",
      "257 KSP Residual norm 6.254993454943e+01 \r\n",
      "258 KSP Residual norm 6.974420559945e+01 \r\n",
      "259 KSP Residual norm 7.146016544955e+01 \r\n",
      "260 KSP Residual norm 7.304502733937e+01 \r\n",
      "261 KSP Residual norm 6.725484932636e+01 \r\n",
      "262 KSP Residual norm 6.163970227495e+01 \r\n",
      "263 KSP Residual norm 6.639383856156e+01 \r\n",
      "264 KSP Residual norm 6.206869732553e+01 \r\n",
      "265 KSP Residual norm 6.420274295774e+01 \r\n",
      "266 KSP Residual norm 6.176932447115e+01 \r\n",
      "267 KSP Residual norm 5.893918296405e+01 \r\n",
      "268 KSP Residual norm 6.231284862187e+01 \r\n",
      "269 KSP Residual norm 6.605650757723e+01 \r\n",
      "270 KSP Residual norm 6.532260146461e+01 \r\n",
      "271 KSP Residual norm 6.365931603326e+01 \r\n",
      "272 KSP Residual norm 6.333664653608e+01 \r\n",
      "273 KSP Residual norm 6.287786854377e+01 \r\n",
      "274 KSP Residual norm 6.516451773078e+01 \r\n",
      "275 KSP Residual norm 6.746396715983e+01 \r\n",
      "276 KSP Residual norm 6.206864488512e+01 \r\n",
      "277 KSP Residual norm 6.259559601318e+01 \r\n",
      "278 KSP Residual norm 6.832897536408e+01 \r\n",
      "279 KSP Residual norm 6.455309867846e+01 \r\n",
      "280 KSP Residual norm 6.649042284891e+01 \r\n",
      "281 KSP Residual norm 6.411555450631e+01 \r\n",
      "282 KSP Residual norm 5.634170520417e+01 \r\n",
      "283 KSP Residual norm 6.159757218467e+01 \r\n",
      "284 KSP Residual norm 6.495407692433e+01 \r\n",
      "285 KSP Residual norm 6.164171809309e+01 \r\n",
      "286 KSP Residual norm 6.264198389188e+01 \r\n",
      "287 KSP Residual norm 6.705956623844e+01 \r\n",
      "288 KSP Residual norm 6.560715893169e+01 \r\n",
      "289 KSP Residual norm 6.316458363436e+01 \r\n",
      "290 KSP Residual norm 6.593096473192e+01 \r\n",
      "291 KSP Residual norm 5.950895150266e+01 \r\n",
      "292 KSP Residual norm 6.103518202117e+01 \r\n",
      "293 KSP Residual norm 6.898288538302e+01 \r\n",
      "294 KSP Residual norm 6.615929974113e+01 \r\n",
      "295 KSP Residual norm 6.384891271299e+01 \r\n",
      "296 KSP Residual norm 6.658093007108e+01 \r\n",
      "297 KSP Residual norm 6.434705424035e+01 \r\n"
     ]
    },
    {
     "name": "stdout",
     "output_type": "stream",
     "text": [
      "298 KSP Residual norm 6.537957459274e+01 \r\n",
      "299 KSP Residual norm 6.762406598176e+01 \r\n",
      "300 KSP Residual norm 6.353804777341e+01 \r\n",
      "301 KSP Residual norm 6.222597428714e+01 \r\n",
      "302 KSP Residual norm 6.355447333006e+01 \r\n",
      "303 KSP Residual norm 6.498514985250e+01 \r\n",
      "304 KSP Residual norm 6.499908869516e+01 \r\n",
      "305 KSP Residual norm 6.414380580259e+01 \r\n",
      "306 KSP Residual norm 6.932789134140e+01 \r\n",
      "307 KSP Residual norm 6.760141802255e+01 \r\n",
      "308 KSP Residual norm 6.374543743684e+01 \r\n",
      "309 KSP Residual norm 6.226967141681e+01 \r\n",
      "310 KSP Residual norm 6.093674491624e+01 \r\n",
      "311 KSP Residual norm 6.609252175886e+01 \r\n",
      "312 KSP Residual norm 6.728113134602e+01 \r\n",
      "313 KSP Residual norm 6.776321437513e+01 \r\n",
      "314 KSP Residual norm 6.791743142474e+01 \r\n",
      "315 KSP Residual norm 6.322225202523e+01 \r\n",
      "316 KSP Residual norm 6.414205944353e+01 \r\n",
      "317 KSP Residual norm 6.721908806535e+01 \r\n",
      "318 KSP Residual norm 6.175954118383e+01 \r\n",
      "319 KSP Residual norm 6.273628362959e+01 \r\n",
      "320 KSP Residual norm 6.500333570478e+01 \r\n",
      "321 KSP Residual norm 6.549983291414e+01 \r\n",
      "322 KSP Residual norm 6.691460945907e+01 \r\n",
      "323 KSP Residual norm 6.485600259605e+01 \r\n",
      "324 KSP Residual norm 6.526827261110e+01 \r\n",
      "325 KSP Residual norm 6.520916865595e+01 \r\n",
      "326 KSP Residual norm 6.388360368742e+01 \r\n",
      "327 KSP Residual norm 6.341714301237e+01 \r\n",
      "328 KSP Residual norm 6.386368663499e+01 \r\n",
      "329 KSP Residual norm 6.138559439935e+01 \r\n",
      "330 KSP Residual norm 6.991111494952e+01 \r\n",
      "331 KSP Residual norm 6.888056817550e+01 \r\n",
      "332 KSP Residual norm 6.475827521446e+01 \r\n",
      "333 KSP Residual norm 6.404410015621e+01 \r\n",
      "334 KSP Residual norm 6.525697708607e+01 \r\n",
      "335 KSP Residual norm 6.485797292367e+01 \r\n",
      "336 KSP Residual norm 6.316309540995e+01 \r\n",
      "337 KSP Residual norm 6.420997274623e+01 \r\n",
      "338 KSP Residual norm 6.792011108719e+01 \r\n",
      "339 KSP Residual norm 6.958204238613e+01 \r\n",
      "340 KSP Residual norm 6.546430107429e+01 \r\n",
      "341 KSP Residual norm 6.800536990534e+01 \r\n",
      "342 KSP Residual norm 6.613623909224e+01 \r\n",
      "343 KSP Residual norm 6.647288228714e+01 \r\n",
      "344 KSP Residual norm 6.653079295942e+01 \r\n",
      "345 KSP Residual norm 6.526991308277e+01 \r\n",
      "346 KSP Residual norm 6.702612619934e+01 \r\n",
      "347 KSP Residual norm 6.818988809177e+01 \r\n",
      "348 KSP Residual norm 7.090880074984e+01 \r\n",
      "349 KSP Residual norm 6.774453253611e+01 \r\n",
      "350 KSP Residual norm 6.328464992170e+01 \r\n",
      "351 KSP Residual norm 6.492091602586e+01 \r\n",
      "352 KSP Residual norm 6.749173295140e+01 \r\n",
      "353 KSP Residual norm 6.468473845011e+01 \r\n",
      "354 KSP Residual norm 6.438133293184e+01 \r\n",
      "355 KSP Residual norm 6.486643576854e+01 \r\n",
      "356 KSP Residual norm 6.609314400881e+01 \r\n",
      "357 KSP Residual norm 6.809088292681e+01 \r\n",
      "358 KSP Residual norm 6.448013278759e+01 \r\n",
      "359 KSP Residual norm 6.630440711347e+01 \r\n",
      "360 KSP Residual norm 6.435596739433e+01 \r\n",
      "361 KSP Residual norm 6.355483434895e+01 \r\n",
      "362 KSP Residual norm 6.660650645064e+01 \r\n",
      "363 KSP Residual norm 6.832610221000e+01 \r\n",
      "364 KSP Residual norm 6.664839151334e+01 \r\n",
      "365 KSP Residual norm 7.240649058956e+01 \r\n",
      "366 KSP Residual norm 7.342915415548e+01 \r\n",
      "367 KSP Residual norm 7.009156140561e+01 \r\n",
      "368 KSP Residual norm 7.220252664819e+01 \r\n",
      "369 KSP Residual norm 7.181035581962e+01 \r\n",
      "370 KSP Residual norm 7.317092226932e+01 \r\n",
      "371 KSP Residual norm 7.607776055972e+01 \r\n",
      "372 KSP Residual norm 7.468037784347e+01 \r\n",
      "373 KSP Residual norm 7.193223036925e+01 \r\n",
      "374 KSP Residual norm 7.255193578657e+01 \r\n",
      "375 KSP Residual norm 7.174415343657e+01 \r\n",
      "376 KSP Residual norm 6.869599588051e+01 \r\n",
      "377 KSP Residual norm 6.241653710350e+01 \r\n",
      "378 KSP Residual norm 6.479173440634e+01 \r\n",
      "379 KSP Residual norm 6.218488361450e+01 \r\n",
      "380 KSP Residual norm 6.006070509147e+01 \r\n",
      "381 KSP Residual norm 5.829597646348e+01 \r\n",
      "382 KSP Residual norm 5.807629829413e+01 \r\n",
      "383 KSP Residual norm 5.414688394017e+01 \r\n",
      "384 KSP Residual norm 5.359295664089e+01 \r\n",
      "385 KSP Residual norm 5.184610396977e+01 \r\n",
      "386 KSP Residual norm 4.905975792103e+01 \r\n",
      "387 KSP Residual norm 5.092326295158e+01 \r\n",
      "388 KSP Residual norm 4.890424425739e+01 \r\n",
      "389 KSP Residual norm 4.761518465410e+01 \r\n",
      "390 KSP Residual norm 4.858608631604e+01 \r\n",
      "391 KSP Residual norm 4.628159749251e+01 \r\n",
      "392 KSP Residual norm 4.855769639554e+01 \r\n",
      "393 KSP Residual norm 4.748394164525e+01 \r\n",
      "394 KSP Residual norm 4.370765522627e+01 \r\n",
      "395 KSP Residual norm 4.601538098461e+01 \r\n",
      "396 KSP Residual norm 4.639461625888e+01 \r\n",
      "397 KSP Residual norm 4.738701924154e+01 \r\n",
      "398 KSP Residual norm 4.855542923955e+01 \r\n",
      "399 KSP Residual norm 4.857825918312e+01 \r\n",
      "400 KSP Residual norm 4.930780380154e+01 \r\n",
      "401 KSP Residual norm 5.030850535116e+01 \r\n",
      "402 KSP Residual norm 5.046667364626e+01 \r\n",
      "403 KSP Residual norm 5.182065877443e+01 \r\n",
      "404 KSP Residual norm 5.365399658811e+01 \r\n",
      "405 KSP Residual norm 5.497492873140e+01 \r\n",
      "406 KSP Residual norm 5.842329870585e+01 \r\n",
      "407 KSP Residual norm 6.046333038701e+01 \r\n",
      "408 KSP Residual norm 6.030958078948e+01 \r\n",
      "409 KSP Residual norm 6.248749460868e+01 \r\n",
      "410 KSP Residual norm 6.307512495577e+01 \r\n",
      "411 KSP Residual norm 6.488139818607e+01 \r\n",
      "412 KSP Residual norm 6.874937662292e+01 \r\n",
      "413 KSP Residual norm 6.939986715508e+01 \r\n",
      "414 KSP Residual norm 7.467870437641e+01 \r\n",
      "415 KSP Residual norm 7.559986629630e+01 \r\n",
      "416 KSP Residual norm 7.526434676065e+01 \r\n",
      "417 KSP Residual norm 8.048815758283e+01 \r\n",
      "418 KSP Residual norm 8.263706719508e+01 \r\n",
      "419 KSP Residual norm 8.864779322517e+01 \r\n",
      "420 KSP Residual norm 9.401541834484e+01 \r\n",
      "421 KSP Residual norm 9.701257792503e+01 \r\n",
      "422 KSP Residual norm 1.036519969957e+02 \r\n",
      "423 KSP Residual norm 1.091457723866e+02 \r\n",
      "424 KSP Residual norm 1.160813075584e+02 \r\n",
      "425 KSP Residual norm 1.291630558994e+02 \r\n",
      "426 KSP Residual norm 1.370308771409e+02 \r\n",
      "427 KSP Residual norm 1.393759590778e+02 \r\n",
      "428 KSP Residual norm 1.520638251083e+02 \r\n",
      "429 KSP Residual norm 1.523046714013e+02 \r\n",
      "430 KSP Residual norm 1.630295604252e+02 \r\n",
      "431 KSP Residual norm 1.700550098815e+02 \r\n",
      "432 KSP Residual norm 1.663005379820e+02 \r\n",
      "433 KSP Residual norm 1.703582891842e+02 \r\n",
      "434 KSP Residual norm 1.724682564334e+02 \r\n",
      "435 KSP Residual norm 1.752819641217e+02 \r\n",
      "436 KSP Residual norm 1.738646334178e+02 \r\n",
      "437 KSP Residual norm 1.662490704604e+02 \r\n",
      "438 KSP Residual norm 1.491216985162e+02 \r\n",
      "439 KSP Residual norm 1.444041997191e+02 \r\n",
      "440 KSP Residual norm 1.366003800385e+02 \r\n",
      "441 KSP Residual norm 1.271344102580e+02 \r\n",
      "442 KSP Residual norm 1.199401289503e+02 \r\n",
      "443 KSP Residual norm 1.130494329321e+02 \r\n",
      "444 KSP Residual norm 1.068418944252e+02 \r\n",
      "445 KSP Residual norm 1.019547028890e+02 \r\n",
      "446 KSP Residual norm 9.781865158146e+01 \r\n",
      "447 KSP Residual norm 9.517682319789e+01 \r\n",
      "448 KSP Residual norm 9.225830173522e+01 \r\n",
      "449 KSP Residual norm 9.071908768854e+01 \r\n",
      "450 KSP Residual norm 9.269943168443e+01 \r\n",
      "451 KSP Residual norm 8.481112447423e+01 \r\n",
      "452 KSP Residual norm 8.291024907069e+01 \r\n",
      "453 KSP Residual norm 7.873198192368e+01 \r\n",
      "454 KSP Residual norm 6.679075586577e+01 \r\n",
      "455 KSP Residual norm 6.426763954291e+01 \r\n",
      "456 KSP Residual norm 5.626957317045e+01 \r\n",
      "457 KSP Residual norm 4.794553357473e+01 \r\n",
      "458 KSP Residual norm 4.610256567104e+01 \r\n",
      "459 KSP Residual norm 4.055747712645e+01 \r\n",
      "460 KSP Residual norm 3.612655676742e+01 \r\n",
      "461 KSP Residual norm 3.259996649539e+01 \r\n",
      "462 KSP Residual norm 2.969779459267e+01 \r\n",
      "463 KSP Residual norm 2.823478268838e+01 \r\n",
      "464 KSP Residual norm 2.674191404186e+01 \r\n",
      "465 KSP Residual norm 2.779768596975e+01 \r\n",
      "466 KSP Residual norm 2.746994731326e+01 \r\n",
      "467 KSP Residual norm 2.733285880221e+01 \r\n",
      "468 KSP Residual norm 2.703551626126e+01 \r\n",
      "469 KSP Residual norm 2.599899430642e+01 \r\n",
      "470 KSP Residual norm 2.589277848953e+01 \r\n",
      "471 KSP Residual norm 2.507409093662e+01 \r\n",
      "472 KSP Residual norm 2.397071168873e+01 \r\n",
      "473 KSP Residual norm 2.267830059916e+01 \r\n",
      "474 KSP Residual norm 2.056118501050e+01 \r\n",
      "475 KSP Residual norm 1.787363260074e+01 \r\n",
      "476 KSP Residual norm 1.474773474332e+01 \r\n",
      "477 KSP Residual norm 1.415861742489e+01 \r\n",
      "478 KSP Residual norm 1.435804041930e+01 \r\n",
      "479 KSP Residual norm 1.408045667594e+01 \r\n",
      "480 KSP Residual norm 1.633739078171e+01 \r\n",
      "481 KSP Residual norm 1.796645745681e+01 \r\n",
      "482 KSP Residual norm 2.021030246679e+01 \r\n",
      "483 KSP Residual norm 2.248734710974e+01 \r\n",
      "484 KSP Residual norm 2.221997193273e+01 \r\n",
      "485 KSP Residual norm 2.350128435615e+01 \r\n",
      "486 KSP Residual norm 2.456692894239e+01 \r\n",
      "487 KSP Residual norm 2.497568191608e+01 \r\n",
      "488 KSP Residual norm 2.666724688291e+01 \r\n",
      "489 KSP Residual norm 2.602498745822e+01 \r\n",
      "490 KSP Residual norm 2.689852072400e+01 \r\n",
      "491 KSP Residual norm 2.883734312525e+01 \r\n",
      "492 KSP Residual norm 2.841458987249e+01 \r\n",
      "493 KSP Residual norm 3.131307612714e+01 \r\n",
      "494 KSP Residual norm 3.063082658347e+01 \r\n",
      "495 KSP Residual norm 3.012110167634e+01 \r\n",
      "496 KSP Residual norm 3.251889563987e+01 \r\n",
      "497 KSP Residual norm 3.580897434437e+01 \r\n",
      "498 KSP Residual norm 4.205408502258e+01 \r\n",
      "499 KSP Residual norm 4.551358561019e+01 \r\n",
      "500 KSP Residual norm 5.042909359787e+01 \r\n",
      "501 KSP Residual norm 5.830375640929e+01 \r\n",
      "502 KSP Residual norm 7.033763581220e+01 \r\n",
      "503 KSP Residual norm 7.787599672455e+01 \r\n",
      "504 KSP Residual norm 8.164730244168e+01 \r\n",
      "505 KSP Residual norm 9.047762301304e+01 \r\n",
      "506 KSP Residual norm 9.401911580570e+01 \r\n",
      "507 KSP Residual norm 8.999350557639e+01 \r\n",
      "508 KSP Residual norm 9.098184832023e+01 \r\n",
      "509 KSP Residual norm 9.558870494089e+01 \r\n",
      "510 KSP Residual norm 1.004037566916e+02 \r\n",
      "511 KSP Residual norm 1.116851738765e+02 \r\n",
      "512 KSP Residual norm 1.192844630857e+02 \r\n",
      "513 KSP Residual norm 1.331897080998e+02 \r\n",
      "514 KSP Residual norm 1.486490900886e+02 \r\n",
      "515 KSP Residual norm 1.598816320693e+02 \r\n",
      "516 KSP Residual norm 1.822037176123e+02 \r\n",
      "517 KSP Residual norm 1.893383737023e+02 \r\n",
      "518 KSP Residual norm 2.087805482304e+02 \r\n",
      "519 KSP Residual norm 2.257118138469e+02 \r\n",
      "520 KSP Residual norm 2.476103545851e+02 \r\n",
      "521 KSP Residual norm 2.940071735030e+02 \r\n",
      "522 KSP Residual norm 3.062942271264e+02 \r\n",
      "523 KSP Residual norm 3.090942817671e+02 \r\n",
      "524 KSP Residual norm 3.146886075148e+02 \r\n",
      "525 KSP Residual norm 3.220113409293e+02 \r\n",
      "526 KSP Residual norm 3.374651997722e+02 \r\n",
      "527 KSP Residual norm 3.525731423735e+02 \r\n",
      "528 KSP Residual norm 3.522870922447e+02 \r\n",
      "529 KSP Residual norm 3.539698949201e+02 \r\n",
      "530 KSP Residual norm 3.838224113099e+02 \r\n",
      "531 KSP Residual norm 4.148033941024e+02 \r\n",
      "532 KSP Residual norm 4.575331755679e+02 \r\n",
      "533 KSP Residual norm 4.896053247671e+02 \r\n",
      "534 KSP Residual norm 4.997099407995e+02 \r\n",
      "535 KSP Residual norm 5.259097040315e+02 \r\n",
      "536 KSP Residual norm 5.668205408916e+02 \r\n",
      "537 KSP Residual norm 5.772547047644e+02 \r\n",
      "538 KSP Residual norm 5.602247572928e+02 \r\n",
      "539 KSP Residual norm 5.627347186710e+02 \r\n",
      "540 KSP Residual norm 5.630400790366e+02 \r\n",
      "541 KSP Residual norm 6.010722936206e+02 \r\n",
      "542 KSP Residual norm 6.178988513255e+02 \r\n",
      "543 KSP Residual norm 6.020886891639e+02 \r\n",
      "544 KSP Residual norm 5.532478404200e+02 \r\n",
      "545 KSP Residual norm 5.344924884880e+02 \r\n",
      "546 KSP Residual norm 5.479021433351e+02 \r\n",
      "547 KSP Residual norm 5.112363175954e+02 \r\n",
      "548 KSP Residual norm 4.955830142413e+02 \r\n",
      "549 KSP Residual norm 4.703143167053e+02 \r\n",
      "550 KSP Residual norm 4.321592319162e+02 \r\n",
      "551 KSP Residual norm 4.225047541246e+02 \r\n",
      "552 KSP Residual norm 4.030154633475e+02 \r\n",
      "553 KSP Residual norm 3.540743405590e+02 \r\n",
      "554 KSP Residual norm 3.338103938021e+02 \r\n",
      "555 KSP Residual norm 3.239059082947e+02 \r\n",
      "556 KSP Residual norm 3.069283561642e+02 \r\n",
      "557 KSP Residual norm 3.078810735350e+02 \r\n",
      "558 KSP Residual norm 2.834705584062e+02 \r\n",
      "559 KSP Residual norm 2.568358593622e+02 \r\n",
      "560 KSP Residual norm 2.418380666708e+02 \r\n",
      "561 KSP Residual norm 2.408799950671e+02 \r\n",
      "562 KSP Residual norm 2.354278723139e+02 \r\n",
      "563 KSP Residual norm 2.158880314200e+02 \r\n",
      "564 KSP Residual norm 1.938698086112e+02 \r\n",
      "565 KSP Residual norm 1.738006365258e+02 \r\n",
      "566 KSP Residual norm 1.504437990153e+02 \r\n",
      "567 KSP Residual norm 1.418197054276e+02 \r\n",
      "568 KSP Residual norm 1.303262764927e+02 \r\n",
      "569 KSP Residual norm 1.142210710193e+02 \r\n",
      "570 KSP Residual norm 1.051398468305e+02 \r\n",
      "571 KSP Residual norm 9.793479243873e+01 \r\n",
      "572 KSP Residual norm 9.292238930370e+01 \r\n",
      "573 KSP Residual norm 8.575696325516e+01 \r\n",
      "574 KSP Residual norm 7.873831766328e+01 \r\n",
      "575 KSP Residual norm 7.259825677716e+01 \r\n",
      "576 KSP Residual norm 7.329568536592e+01 \r\n",
      "577 KSP Residual norm 6.974542901746e+01 \r\n",
      "578 KSP Residual norm 6.430923281647e+01 \r\n",
      "579 KSP Residual norm 6.058445451571e+01 \r\n",
      "580 KSP Residual norm 5.503033112315e+01 \r\n",
      "581 KSP Residual norm 5.358266131082e+01 \r\n",
      "582 KSP Residual norm 4.882469200617e+01 \r\n",
      "583 KSP Residual norm 4.295335812842e+01 \r\n",
      "584 KSP Residual norm 3.900597151151e+01 \r\n",
      "585 KSP Residual norm 3.528933964883e+01 \r\n",
      "586 KSP Residual norm 3.293227141650e+01 \r\n"
     ]
    },
    {
     "name": "stdout",
     "output_type": "stream",
     "text": [
      "587 KSP Residual norm 3.050280115450e+01 \r\n",
      "588 KSP Residual norm 2.871544525440e+01 \r\n",
      "589 KSP Residual norm 2.581747622555e+01 \r\n",
      "590 KSP Residual norm 2.403011881714e+01 \r\n",
      "591 KSP Residual norm 2.340784931916e+01 \r\n",
      "592 KSP Residual norm 2.209984032035e+01 \r\n",
      "593 KSP Residual norm 2.008265210515e+01 \r\n",
      "594 KSP Residual norm 1.862687097183e+01 \r\n",
      "595 KSP Residual norm 1.766577278900e+01 \r\n",
      "596 KSP Residual norm 1.633702542040e+01 \r\n",
      "597 KSP Residual norm 1.518677187091e+01 \r\n",
      "598 KSP Residual norm 1.411607875136e+01 \r\n",
      "599 KSP Residual norm 1.294983268750e+01 \r\n",
      "600 KSP Residual norm 1.211567401024e+01 \r\n",
      "601 KSP Residual norm 1.157702811730e+01 \r\n",
      "602 KSP Residual norm 1.052573725818e+01 \r\n",
      "603 KSP Residual norm 9.128541216909e+00 \r\n",
      "604 KSP Residual norm 8.404203046164e+00 \r\n",
      "605 KSP Residual norm 7.754064808990e+00 \r\n",
      "606 KSP Residual norm 7.034672574164e+00 \r\n",
      "607 KSP Residual norm 7.165904872794e+00 \r\n",
      "608 KSP Residual norm 6.354138925306e+00 \r\n",
      "609 KSP Residual norm 5.858258955701e+00 \r\n",
      "610 KSP Residual norm 5.461214694015e+00 \r\n",
      "611 KSP Residual norm 4.802582268365e+00 \r\n",
      "612 KSP Residual norm 5.030085825744e+00 \r\n",
      "613 KSP Residual norm 4.382630810019e+00 \r\n",
      "614 KSP Residual norm 4.034400644445e+00 \r\n",
      "615 KSP Residual norm 3.832045309768e+00 \r\n",
      "616 KSP Residual norm 3.352788441677e+00 \r\n",
      "617 KSP Residual norm 3.276531870777e+00 \r\n",
      "618 KSP Residual norm 3.070280059697e+00 \r\n",
      "619 KSP Residual norm 2.879188067982e+00 \r\n",
      "620 KSP Residual norm 2.611009826535e+00 \r\n",
      "621 KSP Residual norm 2.319113130933e+00 \r\n",
      "622 KSP Residual norm 2.212323444122e+00 \r\n",
      "623 KSP Residual norm 1.980905849866e+00 \r\n",
      "624 KSP Residual norm 1.748916135651e+00 \r\n",
      "625 KSP Residual norm 1.636531391899e+00 \r\n",
      "626 KSP Residual norm 1.558409912866e+00 \r\n",
      "627 KSP Residual norm 1.421906897923e+00 \r\n",
      "628 KSP Residual norm 1.301194736831e+00 \r\n",
      "629 KSP Residual norm 1.213443509860e+00 \r\n",
      "630 KSP Residual norm 1.070964532956e+00 \r\n",
      "631 KSP Residual norm 1.033597399307e+00 \r\n",
      "632 KSP Residual norm 9.860436271212e-01 \r\n",
      "633 KSP Residual norm 8.585316990147e-01 \r\n",
      "634 KSP Residual norm 7.770727779031e-01 \r\n",
      "635 KSP Residual norm 6.850289462132e-01 \r\n",
      "636 KSP Residual norm 6.352144567991e-01 \r\n",
      "637 KSP Residual norm 6.029602327681e-01 \r\n",
      "638 KSP Residual norm 5.607284355885e-01 \r\n",
      "639 KSP Residual norm 4.733748426732e-01 \r\n",
      "640 KSP Residual norm 4.379632354504e-01 \r\n",
      "641 KSP Residual norm 4.198946285597e-01 \r\n",
      "642 KSP Residual norm 3.823532479532e-01 \r\n",
      "643 KSP Residual norm 3.396259649796e-01 \r\n",
      "644 KSP Residual norm 2.931271381353e-01 \r\n",
      "645 KSP Residual norm 2.663362490491e-01 \r\n",
      "646 KSP Residual norm 2.520509516674e-01 \r\n",
      "647 KSP Residual norm 2.449705893849e-01 \r\n",
      "648 KSP Residual norm 2.190273131050e-01 \r\n",
      "649 KSP Residual norm 1.979854935097e-01 \r\n",
      "650 KSP Residual norm 1.690780809006e-01 \r\n",
      "651 KSP Residual norm 1.563969144936e-01 \r\n",
      "652 KSP Residual norm 1.347756016319e-01 \r\n",
      "653 KSP Residual norm 1.226552999140e-01 \r\n",
      "654 KSP Residual norm 1.078959886716e-01 \r\n",
      "655 KSP Residual norm 9.499168559311e-02 \r\n",
      "656 KSP Residual norm 8.509238744926e-02 \r\n",
      "657 KSP Residual norm 7.411217620389e-02 \r\n",
      "658 KSP Residual norm 6.529767963942e-02 \r\n",
      "659 KSP Residual norm 5.546346844341e-02 \r\n",
      "660 KSP Residual norm 5.093761703080e-02 \r\n",
      "661 KSP Residual norm 4.140216744554e-02 \r\n",
      "662 KSP Residual norm 3.752444964466e-02 \r\n",
      "663 KSP Residual norm 3.407917296419e-02 \r\n",
      "664 KSP Residual norm 2.917684562811e-02 \r\n",
      "665 KSP Residual norm 2.586232996494e-02 \r\n",
      "666 KSP Residual norm 2.271295866446e-02 \r\n",
      "667 KSP Residual norm 2.037168837563e-02 \r\n",
      "668 KSP Residual norm 1.818085827106e-02 \r\n",
      "669 KSP Residual norm 1.583613606542e-02 \r\n",
      "670 KSP Residual norm 1.307307472020e-02 \r\n",
      "671 KSP Residual norm 1.136209613040e-02 \r\n",
      "672 KSP Residual norm 9.984351852360e-03 \r\n",
      "673 KSP Residual norm 8.581639773278e-03 \r\n",
      "674 KSP Residual norm 7.392046100784e-03 \r\n",
      "675 KSP Residual norm 6.096322355126e-03 \r\n",
      "676 KSP Residual norm 5.089091109847e-03 \r\n",
      "677 KSP Residual norm 4.464002699182e-03 \r\n",
      "678 KSP Residual norm 3.551832233194e-03 \r\n",
      "679 KSP Residual norm 2.889043370806e-03 \r\n",
      "680 KSP Residual norm 2.314941548783e-03 \r\n",
      "681 KSP Residual norm 1.862423376965e-03 \r\n",
      "682 KSP Residual norm 1.567568455125e-03 \r\n",
      "683 KSP Residual norm 1.241488498325e-03 \r\n",
      "684 KSP Residual norm 1.011065509782e-03 \r\n",
      "685 KSP Residual norm 8.574640121298e-04 \r\n",
      "686 KSP Residual norm 6.889930844378e-04 \r\n",
      "687 KSP Residual norm 5.640040389790e-04 \r\n",
      "688 KSP Residual norm 4.509757997037e-04 \r\n",
      "689 KSP Residual norm 3.980092004111e-04 \r\n",
      "690 KSP Residual norm 3.432783761798e-04 \r\n",
      "691 KSP Residual norm 2.723770872487e-04 \r\n",
      "692 KSP Residual norm 2.334166356808e-04 \r\n",
      "693 KSP Residual norm 1.806600071678e-04 \r\n",
      "694 KSP Residual norm 1.533828366537e-04 \r\n",
      "695 KSP Residual norm 1.293045078107e-04 \r\n",
      "696 KSP Residual norm 1.088364848381e-04 \r\n",
      "697 KSP Residual norm 8.883385628753e-05 \r\n",
      "698 KSP Residual norm 7.546263189852e-05 \r\n",
      "699 KSP Residual norm 6.894701034273e-05 \r\n",
      "700 KSP Residual norm 5.565644879654e-05 \r\n",
      "701 KSP Residual norm 4.519246119083e-05 \r\n",
      "702 KSP Residual norm 3.602198463124e-05 \r\n",
      "703 KSP Residual norm 3.045530235479e-05 \r\n",
      "704 KSP Residual norm 2.505851866986e-05 \r\n",
      "705 KSP Residual norm 2.177220091858e-05 \r\n",
      "706 KSP Residual norm 1.876854841410e-05 \r\n"
     ]
    }
   ],
   "source": [
    "! mpiexec -n 4 python demos/elasticity_2d.py -ksp_monitor -ksp_type cg -pc_type none"
   ]
  },
  {
   "cell_type": "code",
   "execution_count": 1,
   "metadata": {
    "slideshow": {
     "slide_type": "subslide"
    }
   },
   "outputs": [],
   "source": [
    "def plot_solution(filename):\n",
    "    import vtk\n",
    "    filename = 'solution_2d.vts'\n",
    "    reader = vtk.vtkXMLStructuredGridReader()\n",
    "    reader.SetFileName(filename)\n",
    "    reader.Update()\n",
    "\n",
    "    nodes_array = reader.GetOutput().GetPoints().GetData() \n",
    "    data_arrays = reader.GetOutput().GetPointData()\n",
    "    u = data_arrays.GetArray(0)\n",
    "    v = data_arrays.GetArray(1)\n",
    "    \n",
    "    from vtk.util.numpy_support import vtk_to_numpy\n",
    "    import numpy as np\n",
    "    nodes = vtk_to_numpy(nodes_array)\n",
    "    u = vtk_to_numpy(u)\n",
    "    v = vtk_to_numpy(v)\n",
    "    \n",
    "    x = nodes[:, 0] + u\n",
    "    y = nodes[:, 1] + v\n",
    "    \n",
    "    from bqplot import pyplot as plt\n",
    "\n",
    "    plt.figure()\n",
    "    plt.scatter(x, y, color=np.sqrt(u**2 + v**2), default_size=2)\n",
    "    plt.show()"
   ]
  },
  {
   "cell_type": "code",
   "execution_count": 2,
   "metadata": {
    "slideshow": {
     "slide_type": "subslide"
    }
   },
   "outputs": [
    {
     "data": {
      "application/vnd.jupyter.widget-view+json": {
       "model_id": "ba61c672adbc473891112a94e0dff278",
       "version_major": 2,
       "version_minor": 0
      },
      "text/html": [
       "<p>Failed to display Jupyter Widget of type <code>VBox</code>.</p>\n",
       "<p>\n",
       "  If you're reading this message in the Jupyter Notebook or JupyterLab Notebook, it may mean\n",
       "  that the widgets JavaScript is still loading. If this message persists, it\n",
       "  likely means that the widgets JavaScript library is either not installed or\n",
       "  not enabled. See the <a href=\"https://ipywidgets.readthedocs.io/en/stable/user_install.html\">Jupyter\n",
       "  Widgets Documentation</a> for setup instructions.\n",
       "</p>\n",
       "<p>\n",
       "  If you're reading this message in another frontend (for example, a static\n",
       "  rendering on GitHub or <a href=\"https://nbviewer.jupyter.org/\">NBViewer</a>),\n",
       "  it may mean that your frontend doesn't currently support widgets.\n",
       "</p>\n"
      ],
      "text/plain": [
       "VBox(children=(Figure(axes=[ColorAxis(scale=ColorScale()), Axis(scale=LinearScale()), Axis(orientation='vertical', scale=LinearScale())], fig_margin={'top': 60, 'bottom': 60, 'left': 60, 'right': 60}, layout=Layout(min_width='125px'), marks=[Scatter(color=array([ 0.        ,  0.00850706,  0.01404378, ...,  4.04866468,\n",
       "        4.08270167,  4.11673886]), colors=['DeepSkyBlue'], default_size=2, interactions={'hover': 'tooltip'}, scales={'color': ColorScale(), 'x': LinearScale(), 'y': LinearScale()}, scales_metadata={'x': {'orientation': 'horizontal', 'dimension': 'x'}, 'y': {'orientation': 'vertical', 'dimension': 'y'}, 'color': {'dimension': 'color'}, 'size': {'dimension': 'size'}, 'opacity': {'dimension': 'opacity'}, 'rotation': {'dimension': 'rotation'}, 'skew': {'dimension': 'skew'}}, tooltip_style={'opacity': 0.9}, x=array([  0.        ,   0.05772301,   0.11574732, ...,  10.14536629,\n",
       "        10.20825917,  10.2711524 ]), y=array([ 0.        , -0.00675577, -0.00982087, ..., -3.03957449,\n",
       "       -3.07368745, -3.10779931]))], scale_x=LinearScale(allow_padding=False, max=1.0, min=0.0), scale_y=LinearScale(allow_padding=False, max=1.0, min=0.0)), Toolbar(figure=Figure(axes=[ColorAxis(scale=ColorScale()), Axis(scale=LinearScale()), Axis(orientation='vertical', scale=LinearScale())], fig_margin={'top': 60, 'bottom': 60, 'left': 60, 'right': 60}, layout=Layout(min_width='125px'), marks=[Scatter(color=array([ 0.        ,  0.00850706,  0.01404378, ...,  4.04866468,\n",
       "        4.08270167,  4.11673886]), colors=['DeepSkyBlue'], default_size=2, interactions={'hover': 'tooltip'}, scales={'color': ColorScale(), 'x': LinearScale(), 'y': LinearScale()}, scales_metadata={'x': {'orientation': 'horizontal', 'dimension': 'x'}, 'y': {'orientation': 'vertical', 'dimension': 'y'}, 'color': {'dimension': 'color'}, 'size': {'dimension': 'size'}, 'opacity': {'dimension': 'opacity'}, 'rotation': {'dimension': 'rotation'}, 'skew': {'dimension': 'skew'}}, tooltip_style={'opacity': 0.9}, x=array([  0.        ,   0.05772301,   0.11574732, ...,  10.14536629,\n",
       "        10.20825917,  10.2711524 ]), y=array([ 0.        , -0.00675577, -0.00982087, ..., -3.03957449,\n",
       "       -3.07368745, -3.10779931]))], scale_x=LinearScale(allow_padding=False, max=1.0, min=0.0), scale_y=LinearScale(allow_padding=False, max=1.0, min=0.0)))))"
      ]
     },
     "metadata": {},
     "output_type": "display_data"
    }
   ],
   "source": [
    "plot_solution('solution_2d.vts')"
   ]
  },
  {
   "cell_type": "markdown",
   "metadata": {
    "slideshow": {
     "slide_type": "subslide"
    }
   },
   "source": [
    "### Construction d'un préconditionneur"
   ]
  },
  {
   "cell_type": "markdown",
   "metadata": {},
   "source": [
    "On prend une partition sans recouvrement de $\\Omega$.\n",
    "\n",
    "$$\n",
    "\\left\\{\n",
    "\\begin{array}{l}\n",
    "\\overline \\Omega = \\bigcup_{s=1}^N \\overline \\Omega_s \\\\\n",
    "\\Omega_s \\cap \\Omega_t = \\emptyset; \\; s \\neq t,\n",
    "\\end{array}\n",
    "\\right.\n",
    "$$\n",
    "\n",
    "où $N$ est le nombre de sous domaines."
   ]
  },
  {
   "cell_type": "markdown",
   "metadata": {
    "slideshow": {
     "slide_type": "subslide"
    }
   },
   "source": [
    "### Construction d'un préconditionneur"
   ]
  },
  {
   "cell_type": "markdown",
   "metadata": {},
   "source": [
    "$$\n",
    "M^{-1} = \\sum_{s=1}^N R_s^TA_s^+R_s \\; \\text{où} \\; A_s = D^{-1}_s A_{|\\Omega_s} D^{-1}_s,\n",
    "$$\n",
    "\n",
    "où\n",
    "\n",
    "$$\n",
    "A_{|\\Omega_s} = \\int_{\\Omega_s} \\epsilon(v):\\mathbb{C}\\epsilon(u) dx \\; + (BC \\cap \\Omega_s).\n",
    "$$\n",
    "\n",
    "$R_s$ est l'opérateur de restriction et $D_s$ une partition de l'unité de sorte que\n",
    "\n",
    "$$\n",
    "\\sum_{s=1}^N R_s^TD_sR_s = I.\n",
    "$$"
   ]
  },
  {
   "cell_type": "markdown",
   "metadata": {
    "slideshow": {
     "slide_type": "subslide"
    }
   },
   "source": [
    "### Projection A orthogonale sur $ker(Z^TA)$\n",
    "\n",
    "On définit\n",
    "\n",
    "$$\n",
    "\\Pi = I - Z(Z^TAZ)^{-1}Z^TA\n",
    "$$\n",
    "\n",
    "où $Z$ sont les vecteurs qui engendrent $\\sum_{s=1}^N R_s^TKer(A_s)$.\n",
    "\n",
    "Dans notre cas, $Ker(A_s) \\subset D_s RBM$.\n",
    "\n",
    "On a \n",
    "\n",
    "$$\n",
    "\\Pi^T A \\Pi = A \\Pi = \\Pi^T A.\n",
    "$$"
   ]
  },
  {
   "cell_type": "markdown",
   "metadata": {
    "slideshow": {
     "slide_type": "subslide"
    }
   },
   "source": [
    "### Construction de $R$ et de $D$\n",
    "\n",
    "<center>\n",
    "<img style=\"width:70%\" src=\"./figures/partition.png\"/>\n",
    "</center>"
   ]
  },
  {
   "cell_type": "markdown",
   "metadata": {
    "slideshow": {
     "slide_type": "subslide"
    }
   },
   "source": [
    "### Construction de $R$ et de $D$"
   ]
  },
  {
   "cell_type": "code",
   "execution_count": 68,
   "metadata": {},
   "outputs": [
    {
     "name": "stderr",
     "output_type": "stream",
     "text": [
      "ERROR:root:Cell magic `%%px` not found.\n"
     ]
    }
   ],
   "source": [
    "%%px\n",
    "(xs, xe), (ys, ye) = da.getRanges()\n",
    "(gxs, gxe), (gys, gye) = da.getGhostRanges()\n",
    "\n",
    "Rlocal = da.createLocalVec()\n",
    "Rlocal_a = da.getVecArray(Rlocal)\n",
    "Rlocal_a[gxs:xe, gys:ye] = 1\n",
    "\n",
    "# multiplicity\n",
    "D = da.createGlobalVec()\n",
    "Dlocal = da.createLocalVec()\n",
    "da.localToGlobal(Rlocal, D, addv=PETSc.InsertMode.ADD_VALUES)\n",
    "da.globalToLocal(D, Dlocal)"
   ]
  },
  {
   "cell_type": "markdown",
   "metadata": {
    "slideshow": {
     "slide_type": "subslide"
    }
   },
   "source": [
    "### Construction de $\\Pi$"
   ]
  },
  {
   "cell_type": "code",
   "execution_count": null,
   "metadata": {},
   "outputs": [],
   "source": [
    "RBM = PETSc.NullSpace().createRigidBody(da.getCoordinates())\n",
    "rbm_vecs = RBM.getVecs()\n",
    "\n",
    "work1 = da.createLocalVec()\n",
    "work2 = da.createLocalVec()\n",
    "\n",
    "vecs= []\n",
    "for i in range(mpi.COMM_WORLD.size):\n",
    "    for ivec, rbm_vec in enumerate(rbm_vecs):\n",
    "        vecs.append(da.createGlobalVec())\n",
    "        work1.set(0)\n",
    "        da.globalToLocal(rbm_vec, work2)\n",
    "        if i == mpi.COMM_WORLD.rank:\n",
    "            work1 = work2*Rlocal/Dlocal\n",
    "        da.localToGlobal(work1, vecs[-1], addv=PETSc.InsertMode.ADD_VALUES)\n",
    "\n",
    "# BC\n",
    "Avecs = []\n",
    "for vec in vecs:\n",
    "    bcApplyWest_vec(da, vec)\n",
    "    Avecs.append(A*vec)\n",
    "\n",
    "# orthonormalize\n",
    "for i, vec in enumerate(vecs):\n",
    "    alphas = []\n",
    "    for vec_ in Avecs[:i]:\n",
    "        alphas.append(vec.dot(vec_))\n",
    "    for alpha, vec_ in zip(alphas, vecs[:i]):\n",
    "        vec.axpy(-alpha, vec_)\n",
    "    vec.scale(1./np.sqrt(vec.dot(A*vec)))\n",
    "    Avecs[i] = A*vec"
   ]
  },
  {
   "cell_type": "markdown",
   "metadata": {
    "slideshow": {
     "slide_type": "subslide"
    }
   },
   "source": [
    "### Construction du préconditionneur"
   ]
  },
  {
   "cell_type": "code",
   "execution_count": 69,
   "metadata": {},
   "outputs": [],
   "source": [
    "class ASM(object):\n",
    "    def __init__(self, da_global, D_global, vecs, Avecs, h, lamb, mu):\n",
    "        self.da_global = da_global\n",
    "        self.vecs = vecs\n",
    "        self.Avecs = Avecs\n",
    "\n",
    "        (xs, xe), (ys, ye) = self.da_global.getRanges()\n",
    "        (gxs, gxe), (gys, gye) = self.da_global.getGhostRanges()\n",
    "        self.block = (slice(gxs, xe), slice(gys, ye))\n",
    "\n",
    "        self.da_local = PETSc.DMDA().create([xe-gxs, ye-gys], dof=2, \n",
    "                                            stencil_width=1,\n",
    "                                            comm=PETSc.COMM_SELF)\n",
    "        mx, my = self.da_local.getSizes()\n",
    "        self.da_local.setUniformCoordinates(xmax=h[0]*mx, ymax=h[1]*my)\n",
    "\n",
    "        A = buildElasticityMatrix(self.da_local, h, lamb, mu)\n",
    "        A.assemble()\n",
    "\n",
    "        D = self.da_local.createGlobalVec()\n",
    "        Dlocal_a = self.da_local.getVecArray(D)\n",
    "        Dlocal = self.da_global.createLocalVec()\n",
    "        self.da_global.globalToLocal(D_global, Dlocal)\n",
    "        D_a = self.da_global.getVecArray(Dlocal)\n",
    "\n",
    "        Dlocal_a[:, :] = D_a[self.block]\n",
    "        A.diagonalScale(D, D)\n",
    "\n",
    "        if mpi.COMM_WORLD.rank == 0:\n",
    "            bcApplyWestMat(self.da_local, A)\n",
    "\n",
    "        self.nullspace = PETSc.NullSpace().createRigidBody(self.da_local.getCoordinates())\n",
    "        u, v, r = self.nullspace.getVecs()\n",
    "        u[:] /= D[:]\n",
    "        v[:] /= D[:]\n",
    "        r[:] /= D[:]\n",
    "        if mpi.COMM_WORLD.rank == 0:\n",
    "            bcApplyWest_vec(self.da_local, u)\n",
    "            bcApplyWest_vec(self.da_local, v)\n",
    "            bcApplyWest_vec(self.da_local, r)\n",
    "\n",
    "        A.setNullSpace(self.nullspace)\n",
    "\n",
    "        # build local solvers\n",
    "        self.ksp = PETSc.KSP().create()\n",
    "        self.ksp.setOperators(A)\n",
    "        self.ksp.setOptionsPrefix(\"myasm_\")\n",
    "        self.ksp.setType('cg')\n",
    "        pc = self.ksp.getPC()\n",
    "        pc.setType('none')\n",
    "        self.ksp.setFromOptions()\n",
    "\n",
    "        # Construct work arrays\n",
    "        self.work_global = self.da_global.createLocalVec()\n",
    "        self.workg_global = self.da_global.createGlobalVec()\n",
    "        self.work1_local = self.da_local.createGlobalVec()\n",
    "        self.work2_local = self.da_local.createGlobalVec()\n",
    "\n",
    "    def mult(self, mat, x, y):\n",
    "        self.work_global.set(0.)\n",
    "        self.da_global.globalToLocal(x, self.work_global)\n",
    "\n",
    "        work_global_a = self.da_global.getVecArray(self.work_global)\n",
    "\n",
    "        work1_local_a = self.da_local.getVecArray(self.work1_local)\n",
    "        work1_local_a[:, :] = work_global_a[self.block]\n",
    "\n",
    "        self.ksp.solve(self.work1_local, self.work2_local)\n",
    "\n",
    "        self.work_global.set(0.)\n",
    "        sol_a = self.da_local.getVecArray(self.work2_local)\n",
    "\n",
    "        work_global_a[self.block] = sol_a[:, :]\n",
    "        self.da_global.localToGlobal(self.work_global, y, addv=PETSc.InsertMode.ADD_VALUES)\n",
    "\n",
    "        # Apply projection\n",
    "        self.workg_global.set(0)\n",
    "        for vec, Avec in zip(self.vecs, self.Avecs):\n",
    "            self.workg_global += Avec.dot(y)*vec\n",
    "        \n",
    "        y -= self.workg_global\n",
    "        \n",
    "class PCASM(object):\n",
    "    def setUp(self, pc):\n",
    "        B, self.P = pc.getOperators()\n",
    "\n",
    "    def apply(self, pc, x, y):\n",
    "        y.array = self.P*x        "
   ]
  },
  {
   "cell_type": "markdown",
   "metadata": {
    "slideshow": {
     "slide_type": "subslide"
    }
   },
   "source": [
    "### Résolution du système avec notre nouveau préconditionneur"
   ]
  },
  {
   "cell_type": "code",
   "execution_count": null,
   "metadata": {},
   "outputs": [],
   "source": [
    "def rhs(coords, rhs):\n",
    "    rhs[..., 1] = -9.81\n",
    "\n",
    "OptDB = PETSc.Options()\n",
    "Lx = OptDB.getInt('Lx', 10)\n",
    "Ly = OptDB.getInt('Ly', 1)\n",
    "n  = OptDB.getInt('n', 16)\n",
    "nx = OptDB.getInt('nx', Lx*n)\n",
    "ny = OptDB.getInt('ny', Ly*n)\n",
    "\n",
    "hx = Lx/(nx - 1)\n",
    "hy = Ly/(ny - 1)\n",
    "\n",
    "da = PETSc.DMDA().create([nx, ny], dof=2, stencil_width=1)\n",
    "da.setUniformCoordinates(xmax=Lx, ymax=Ly)\n",
    "\n",
    "# constant young modulus\n",
    "E = 30000\n",
    "# constant Poisson coefficient\n",
    "nu = 0.4\n",
    "\n",
    "lamb = (nu*E)/((1+nu)*(1-2*nu)) \n",
    "mu = .5*E/(1+nu)\n",
    "\n",
    "x = da.createGlobalVec()\n",
    "b = buildRHS(da, [hx, hy], rhs)\n",
    "A = buildElasticityMatrix(da, [hx, hy], lamb, mu)\n",
    "A.assemble()\n",
    "\n",
    "bcApplyWest(da, A, b)\n",
    "\n",
    "# build nullspace and multiplicity\n",
    "D, vecs, Avecs = get_nullspace(da, A)\n",
    "\n",
    "# set matrix of the preconditioner\n",
    "asm = ASM(da, D, vecs, Avecs, [hx, hy], lamb, mu)\n",
    "P = PETSc.Mat().createPython(\n",
    "    [x.getSizes(), b.getSizes()], comm=da.comm)\n",
    "P.setPythonContext(asm)\n",
    "P.setUp()\n",
    "\n",
    "# Set initial guess\n",
    "ptilde = da.createGlobalVec()\n",
    "for i in range(len(vecs)):\n",
    "    ptilde += vecs[i].dot(b)*vecs[i]\n",
    "x = ptilde\n",
    "bcApplyWest_vec(da, x)\n",
    "\n",
    "ksp = PETSc.KSP().create()\n",
    "ksp.setOperators(A, P)\n",
    "ksp.setOptionsPrefix(\"elas_\")\n",
    "ksp.setType(\"cg\")\n",
    "ksp.setInitialGuessNonzero(True)\n",
    "# set our own preconditioner\n",
    "pc = ksp.pc\n",
    "pc.setType(pc.Type.PYTHON)\n",
    "pc.setPythonContext(PCASM())\n",
    "ksp.setFromOptions()\n",
    "\n",
    "ksp.solve(b, x)\n",
    "\n",
    "viewer = PETSc.Viewer().createVTK('solution_2d_bdd.vts', 'w', comm = PETSc.COMM_WORLD)\n",
    "x.view(viewer)"
   ]
  },
  {
   "cell_type": "code",
   "execution_count": 71,
   "metadata": {
    "slideshow": {
     "slide_type": "subslide"
    }
   },
   "outputs": [
    {
     "name": "stdout",
     "output_type": "stream",
     "text": [
      "  Residual norms for elas_ solve.\r\n",
      "  0 KSP Residual norm 1.029282029670e+02 \r\n",
      "  1 KSP Residual norm 1.227135117725e-02 \r\n",
      "  2 KSP Residual norm 1.118330669606e-03 \r\n",
      "  3 KSP Residual norm 4.524011436624e-05 \r\n",
      "  4 KSP Residual norm 1.351227085042e-05 \r\n"
     ]
    }
   ],
   "source": [
    "! mpiexec -n 4 python demos/schwarz.py -elas_ksp_monitor"
   ]
  },
  {
   "cell_type": "code",
   "execution_count": 72,
   "metadata": {},
   "outputs": [
    {
     "data": {
      "application/vnd.jupyter.widget-view+json": {
       "model_id": "df7ad73ca317473b9b16165f97671ca5",
       "version_major": 2,
       "version_minor": 0
      },
      "text/html": [
       "<p>Failed to display Jupyter Widget of type <code>VBox</code>.</p>\n",
       "<p>\n",
       "  If you're reading this message in the Jupyter Notebook or JupyterLab Notebook, it may mean\n",
       "  that the widgets JavaScript is still loading. If this message persists, it\n",
       "  likely means that the widgets JavaScript library is either not installed or\n",
       "  not enabled. See the <a href=\"https://ipywidgets.readthedocs.io/en/stable/user_install.html\">Jupyter\n",
       "  Widgets Documentation</a> for setup instructions.\n",
       "</p>\n",
       "<p>\n",
       "  If you're reading this message in another frontend (for example, a static\n",
       "  rendering on GitHub or <a href=\"https://nbviewer.jupyter.org/\">NBViewer</a>),\n",
       "  it may mean that your frontend doesn't currently support widgets.\n",
       "</p>\n"
      ],
      "text/plain": [
       "VBox(children=(Figure(axes=[ColorAxis(scale=ColorScale()), Axis(scale=LinearScale()), Axis(orientation='vertical', scale=LinearScale())], fig_margin={'top': 60, 'bottom': 60, 'left': 60, 'right': 60}, layout=Layout(min_width='125px'), marks=[Scatter(color=array([ 0.        ,  0.00850706,  0.01404378, ...,  4.04866468,\n",
       "        4.08270167,  4.11673886]), colors=['DeepSkyBlue'], default_size=2, interactions={'hover': 'tooltip'}, scales={'color': ColorScale(), 'x': LinearScale(), 'y': LinearScale()}, scales_metadata={'x': {'orientation': 'horizontal', 'dimension': 'x'}, 'y': {'orientation': 'vertical', 'dimension': 'y'}, 'color': {'dimension': 'color'}, 'size': {'dimension': 'size'}, 'opacity': {'dimension': 'opacity'}, 'rotation': {'dimension': 'rotation'}, 'skew': {'dimension': 'skew'}}, tooltip_style={'opacity': 0.9}, x=array([  0.        ,   0.05772301,   0.11574732, ...,  10.14536629,\n",
       "        10.20825917,  10.2711524 ]), y=array([ 0.        , -0.00675577, -0.00982087, ..., -3.03957449,\n",
       "       -3.07368745, -3.10779931]))], scale_x=LinearScale(allow_padding=False, max=1.0, min=0.0), scale_y=LinearScale(allow_padding=False, max=1.0, min=0.0)), Toolbar(figure=Figure(axes=[ColorAxis(scale=ColorScale()), Axis(scale=LinearScale()), Axis(orientation='vertical', scale=LinearScale())], fig_margin={'top': 60, 'bottom': 60, 'left': 60, 'right': 60}, layout=Layout(min_width='125px'), marks=[Scatter(color=array([ 0.        ,  0.00850706,  0.01404378, ...,  4.04866468,\n",
       "        4.08270167,  4.11673886]), colors=['DeepSkyBlue'], default_size=2, interactions={'hover': 'tooltip'}, scales={'color': ColorScale(), 'x': LinearScale(), 'y': LinearScale()}, scales_metadata={'x': {'orientation': 'horizontal', 'dimension': 'x'}, 'y': {'orientation': 'vertical', 'dimension': 'y'}, 'color': {'dimension': 'color'}, 'size': {'dimension': 'size'}, 'opacity': {'dimension': 'opacity'}, 'rotation': {'dimension': 'rotation'}, 'skew': {'dimension': 'skew'}}, tooltip_style={'opacity': 0.9}, x=array([  0.        ,   0.05772301,   0.11574732, ...,  10.14536629,\n",
       "        10.20825917,  10.2711524 ]), y=array([ 0.        , -0.00675577, -0.00982087, ..., -3.03957449,\n",
       "       -3.07368745, -3.10779931]))], scale_x=LinearScale(allow_padding=False, max=1.0, min=0.0), scale_y=LinearScale(allow_padding=False, max=1.0, min=0.0)))))"
      ]
     },
     "metadata": {},
     "output_type": "display_data"
    }
   ],
   "source": [
    "plot_solution('solution_2d_bdd.vts')"
   ]
  },
  {
   "cell_type": "code",
   "execution_count": null,
   "metadata": {},
   "outputs": [],
   "source": []
  }
 ],
 "metadata": {
  "celltoolbar": "Slideshow",
  "kernelspec": {
   "display_name": "Python 3",
   "language": "python",
   "name": "python3"
  },
  "language_info": {
   "codemirror_mode": {
    "name": "ipython",
    "version": 3
   },
   "file_extension": ".py",
   "mimetype": "text/x-python",
   "name": "python",
   "nbconvert_exporter": "python",
   "pygments_lexer": "ipython3",
   "version": "3.6.2"
  },
  "livereveal": {
   "autolaunch": true,
   "scroll": true,
   "width": "80%"
  }
 },
 "nbformat": 4,
 "nbformat_minor": 2
}
