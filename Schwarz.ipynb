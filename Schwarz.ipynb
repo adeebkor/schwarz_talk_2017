{
 "cells": [
  {
   "cell_type": "markdown",
   "metadata": {
    "slideshow": {
     "slide_type": "slide"
    }
   },
   "source": [
    "<center class=\"mytitle\">\n",
    "**GT Numérique**\n",
    "</center>\n",
    "\n",
    "# Méthodes de Schwarz: quelques idées d'implémentation\n",
    "\n",
    "<center>\n",
    "<span>**Loic Gouarin**</span>\n",
    "</center>\n",
    "<center>\n",
    "<span>12 décembre 2017</span>\n",
    "</center>"
   ]
  },
  {
   "cell_type": "markdown",
   "metadata": {
    "slideshow": {
     "slide_type": "slide"
    }
   },
   "source": [
    "### Plan\n",
    "\n",
    "- Schwarz classique appliqué au problème de Poisson 1D\n",
    "- Construction d'un préconditionneur \"BDD\" pour le problème d'élasticité linéaire 2D"
   ]
  },
  {
   "cell_type": "markdown",
   "metadata": {
    "slideshow": {
     "slide_type": "slide"
    }
   },
   "source": [
    "## Schwarz classique pour le problème de Poisson 1D"
   ]
  },
  {
   "cell_type": "markdown",
   "metadata": {
    "slideshow": {
     "slide_type": "subslide"
    }
   },
   "source": [
    "### Problème étudié\n",
    "\n",
    "On souhaite résoudre \n",
    "\n",
    "$$\n",
    "\\left\\{\n",
    "\\begin{array}{l}\n",
    "-\\Delta u(x) = 1 \\; \\text{pour} \\; x\\in[0, 1], \\\\\n",
    "u(0)= u(1) = 0.\n",
    "\\end{array}\n",
    "\\right.\n",
    "$$\n",
    "\n",
    "à l'aide d'un schéma aux différences finies."
   ]
  },
  {
   "cell_type": "markdown",
   "metadata": {
    "slideshow": {
     "slide_type": "subslide"
    }
   },
   "source": [
    "### Initialisation du problème"
   ]
  },
  {
   "cell_type": "code",
   "execution_count": 1,
   "metadata": {},
   "outputs": [],
   "source": [
    "import numpy as np\n",
    "import scipy.sparse as sp\n",
    "import scipy.sparse.linalg as linsolve"
   ]
  },
  {
   "cell_type": "code",
   "execution_count": 2,
   "metadata": {},
   "outputs": [],
   "source": [
    "N = 101\n",
    "L = 1.\n",
    "dx = 1./(N - 1)\n",
    "x = np.arange(0, L+.5*dx, dx)"
   ]
  },
  {
   "cell_type": "markdown",
   "metadata": {
    "slideshow": {
     "slide_type": "subslide"
    }
   },
   "source": [
    "### Construction de la matrice et du second membre"
   ]
  },
  {
   "cell_type": "code",
   "execution_count": 3,
   "metadata": {},
   "outputs": [],
   "source": [
    "A = sp.spdiags([-np.ones(N), 2*np.ones(N), -np.ones(N)],[-1, 0, 1], N, N).tocsc()\n",
    "b = np.ones(N)*dx**2"
   ]
  },
  {
   "cell_type": "markdown",
   "metadata": {},
   "source": [
    "On applique les conditions de bords"
   ]
  },
  {
   "cell_type": "code",
   "execution_count": 4,
   "metadata": {},
   "outputs": [],
   "source": [
    "A[0 ,  0] = 1; A[ 0,  1] = 0\n",
    "A[-1, -2] = 0; A[-1, -1] = 1"
   ]
  },
  {
   "cell_type": "code",
   "execution_count": 5,
   "metadata": {},
   "outputs": [],
   "source": [
    "b[0] = 0; b[-1] = 0"
   ]
  },
  {
   "cell_type": "markdown",
   "metadata": {
    "slideshow": {
     "slide_type": "subslide"
    }
   },
   "source": [
    "### Résolution du système"
   ]
  },
  {
   "cell_type": "code",
   "execution_count": 6,
   "metadata": {},
   "outputs": [],
   "source": [
    "LU = linsolve.factorized(A)"
   ]
  },
  {
   "cell_type": "code",
   "execution_count": 7,
   "metadata": {},
   "outputs": [],
   "source": [
    "u = LU(b)"
   ]
  },
  {
   "cell_type": "markdown",
   "metadata": {
    "slideshow": {
     "slide_type": "subslide"
    }
   },
   "source": [
    "### Représentation de la solution"
   ]
  },
  {
   "cell_type": "code",
   "execution_count": 8,
   "metadata": {},
   "outputs": [],
   "source": [
    "from bqplot import *\n",
    "x_sc, y_sc = LinearScale(), LinearScale()\n",
    "\n",
    "ax_x = Axis(label='x', scale=x_sc, grid_lines='solid')\n",
    "ax_y = Axis(label='solution', scale=y_sc, orientation='vertical', grid_lines='solid')"
   ]
  },
  {
   "cell_type": "code",
   "execution_count": 9,
   "metadata": {},
   "outputs": [],
   "source": [
    "line = Lines(x=x, y=u, scales={'x': x_sc, 'y': y_sc})"
   ]
  },
  {
   "cell_type": "code",
   "execution_count": 10,
   "metadata": {},
   "outputs": [
    {
     "data": {
      "application/vnd.jupyter.widget-view+json": {
       "model_id": "c236300362624f86a72c59e5d3f89d2c",
       "version_major": 2,
       "version_minor": 0
      },
      "text/html": [
       "<p>Failed to display Jupyter Widget of type <code>Figure</code>.</p>\n",
       "<p>\n",
       "  If you're reading this message in the Jupyter Notebook or JupyterLab Notebook, it may mean\n",
       "  that the widgets JavaScript is still loading. If this message persists, it\n",
       "  likely means that the widgets JavaScript library is either not installed or\n",
       "  not enabled. See the <a href=\"https://ipywidgets.readthedocs.io/en/stable/user_install.html\">Jupyter\n",
       "  Widgets Documentation</a> for setup instructions.\n",
       "</p>\n",
       "<p>\n",
       "  If you're reading this message in another frontend (for example, a static\n",
       "  rendering on GitHub or <a href=\"https://nbviewer.jupyter.org/\">NBViewer</a>),\n",
       "  it may mean that your frontend doesn't currently support widgets.\n",
       "</p>\n"
      ],
      "text/plain": [
       "Figure(axes=[Axis(label='x', scale=LinearScale(), side='bottom'), Axis(label='solution', orientation='vertical', scale=LinearScale(), side='left')], fig_margin={'top': 60, 'bottom': 60, 'left': 60, 'right': 60}, layout=Layout(min_width='125px'), marks=[Lines(colors=['#1f77b4', '#ff7f0e', '#2ca02c', '#d62728', '#9467bd', '#8c564b', '#e377c2', '#7f7f7f', '#bcbd22', '#17becf'], interactions={'hover': 'tooltip'}, scales={'x': LinearScale(), 'y': LinearScale()}, scales_metadata={'x': {'orientation': 'horizontal', 'dimension': 'x'}, 'y': {'orientation': 'vertical', 'dimension': 'y'}, 'color': {'dimension': 'color'}}, tooltip_style={'opacity': 0.9}, x=array([ 0.  ,  0.01,  0.02,  0.03,  0.04,  0.05,  0.06,  0.07,  0.08,\n",
       "        0.09,  0.1 ,  0.11,  0.12,  0.13,  0.14,  0.15,  0.16,  0.17,\n",
       "        0.18,  0.19,  0.2 ,  0.21,  0.22,  0.23,  0.24,  0.25,  0.26,\n",
       "        0.27,  0.28,  0.29,  0.3 ,  0.31,  0.32,  0.33,  0.34,  0.35,\n",
       "        0.36,  0.37,  0.38,  0.39,  0.4 ,  0.41,  0.42,  0.43,  0.44,\n",
       "        0.45,  0.46,  0.47,  0.48,  0.49,  0.5 ,  0.51,  0.52,  0.53,\n",
       "        0.54,  0.55,  0.56,  0.57,  0.58,  0.59,  0.6 ,  0.61,  0.62,\n",
       "        0.63,  0.64,  0.65,  0.66,  0.67,  0.68,  0.69,  0.7 ,  0.71,\n",
       "        0.72,  0.73,  0.74,  0.75,  0.76,  0.77,  0.78,  0.79,  0.8 ,\n",
       "        0.81,  0.82,  0.83,  0.84,  0.85,  0.86,  0.87,  0.88,  0.89,\n",
       "        0.9 ,  0.91,  0.92,  0.93,  0.94,  0.95,  0.96,  0.97,  0.98,\n",
       "        0.99,  1.  ]), y=array([ 0.     ,  0.00495,  0.0098 ,  0.01455,  0.0192 ,  0.02375,\n",
       "        0.0282 ,  0.03255,  0.0368 ,  0.04095,  0.045  ,  0.04895,\n",
       "        0.0528 ,  0.05655,  0.0602 ,  0.06375,  0.0672 ,  0.07055,\n",
       "        0.0738 ,  0.07695,  0.08   ,  0.08295,  0.0858 ,  0.08855,\n",
       "        0.0912 ,  0.09375,  0.0962 ,  0.09855,  0.1008 ,  0.10295,\n",
       "        0.105  ,  0.10695,  0.1088 ,  0.11055,  0.1122 ,  0.11375,\n",
       "        0.1152 ,  0.11655,  0.1178 ,  0.11895,  0.12   ,  0.12095,\n",
       "        0.1218 ,  0.12255,  0.1232 ,  0.12375,  0.1242 ,  0.12455,\n",
       "        0.1248 ,  0.12495,  0.125  ,  0.12495,  0.1248 ,  0.12455,\n",
       "        0.1242 ,  0.12375,  0.1232 ,  0.12255,  0.1218 ,  0.12095,\n",
       "        0.12   ,  0.11895,  0.1178 ,  0.11655,  0.1152 ,  0.11375,\n",
       "        0.1122 ,  0.11055,  0.1088 ,  0.10695,  0.105  ,  0.10295,\n",
       "        0.1008 ,  0.09855,  0.0962 ,  0.09375,  0.0912 ,  0.08855,\n",
       "        0.0858 ,  0.08295,  0.08   ,  0.07695,  0.0738 ,  0.07055,\n",
       "        0.0672 ,  0.06375,  0.0602 ,  0.05655,  0.0528 ,  0.04895,\n",
       "        0.045  ,  0.04095,  0.0368 ,  0.03255,  0.0282 ,  0.02375,\n",
       "        0.0192 ,  0.01455,  0.0098 ,  0.00495,  0.     ]))], scale_x=LinearScale(allow_padding=False, max=1.0, min=0.0), scale_y=LinearScale(allow_padding=False, max=1.0, min=0.0))"
      ]
     },
     "metadata": {},
     "output_type": "display_data"
    }
   ],
   "source": [
    "fig = Figure(axes=[ax_x, ax_y], marks=[line])\n",
    "fig"
   ]
  },
  {
   "cell_type": "markdown",
   "metadata": {
    "slideshow": {
     "slide_type": "subslide"
    }
   },
   "source": [
    "### Schwarz alterné (Schwarz 1870)\n",
    "\n",
    "<center>\n",
    "<img style=\"width:35%;\" src=\"./figures/schwarz.png\"/>\n",
    "</center>"
   ]
  },
  {
   "cell_type": "markdown",
   "metadata": {},
   "source": [
    "<table>\n",
    "<tr>\n",
    "<td>\n",
    "$$\n",
    "\\scriptsize{\n",
    "\\left\\{\n",
    "\\begin{array}{l}\n",
    "\\mathcal{L}(u_1^{k+1}) = f(x), \\; x \\in \\Omega_1 \\\\\n",
    "u_1^{k+1}(x) = g(x), \\; x\\in \\partial \\Omega_1 \\bigcap \\overline \\Omega_1 \\\\\n",
    "u_1^{k+1}(x) = u_2^k(x), \\; x \\in \\Gamma_1\n",
    "\\end{array}\n",
    "\\right.}\n",
    "$$\n",
    "    </td>\n",
    "<td>\n",
    "$$\n",
    "\\scriptsize{\n",
    "\\left\\{\n",
    "\\begin{array}{l}\n",
    "\\mathcal{L}(u_2^{k+1}) = f(x), \\; x \\in \\Omega_2 \\\\\n",
    "u_2^{k+1}(x) = g(x), \\; x\\in \\partial \\Omega_2 \\bigcap \\overline \\Omega_2 \\\\\n",
    "u_2^{k+1}(x) = u_1^{k+1}(x), \\; x\\in \\Gamma_2\n",
    "\\end{array}\n",
    "\\right.\n",
    "}\n",
    "$$\n",
    "    </td>\n",
    "    </tr>\n",
    "</table>"
   ]
  },
  {
   "cell_type": "markdown",
   "metadata": {
    "slideshow": {
     "slide_type": "subslide"
    }
   },
   "source": [
    "### Schwarz parallèle (Lions 1988)\n",
    "\n",
    "<center>\n",
    "<img style=\"width:35%;\" src=\"./figures/schwarz.png\"/>\n",
    "</center>"
   ]
  },
  {
   "cell_type": "markdown",
   "metadata": {},
   "source": [
    "<table>\n",
    "<tr>\n",
    "<td>\n",
    "$$\n",
    "\\scriptsize{\n",
    "\\left\\{\n",
    "\\begin{array}{l}\n",
    "\\mathcal{L}(u_1^{k+1}) = f(x), \\; x \\in \\Omega_1 \\\\\n",
    "u_1^{k+1}(x) = g(x), \\; x\\in \\partial \\Omega_1 \\bigcap \\overline \\Omega_1 \\\\\n",
    "u_1^{k+1}(x) = u_2^k(x), \\; x \\in \\Gamma_1\n",
    "\\end{array}\n",
    "\\right.}\n",
    "$$\n",
    "    </td>\n",
    "<td>\n",
    "$$\n",
    "\\scriptsize{\n",
    "\\left\\{\n",
    "\\begin{array}{l}\n",
    "\\mathcal{L}(u_2^{k+1}) = f(x), \\; x \\in \\Omega_2 \\\\\n",
    "u_2^{k+1}(x) = g(x), \\; x\\in \\partial \\Omega_2 \\bigcap \\overline \\Omega_2 \\\\\n",
    "u_2^{k+1}(x) = u_1^{k}(x), \\; x\\in \\Gamma_2\n",
    "\\end{array}\n",
    "\\right.\n",
    "}\n",
    "$$\n",
    "    </td>\n",
    "    </tr>\n",
    "</table>"
   ]
  },
  {
   "cell_type": "markdown",
   "metadata": {
    "slideshow": {
     "slide_type": "subslide"
    }
   },
   "source": [
    "### Utilisation du parallèlisme dans les notebooks\n",
    "\n",
    "*Attention:* avant d'exécuter les lignes suivantes, il faut démarrer les processus en allant à la page qui se trouve sur la page de demarrage des notebooks dans l'onglet `IPython cluster`. Nous en démarrerons 4 pour la suite."
   ]
  },
  {
   "cell_type": "code",
   "execution_count": 11,
   "metadata": {},
   "outputs": [],
   "source": [
    "import ipyparallel as ipp\n",
    "c = ipp.Client(profile='mpi')"
   ]
  },
  {
   "cell_type": "code",
   "execution_count": 12,
   "metadata": {},
   "outputs": [],
   "source": [
    "view = c[:]\n",
    "view.activate()\n",
    "view.block = True"
   ]
  },
  {
   "cell_type": "markdown",
   "metadata": {
    "slideshow": {
     "slide_type": "subslide"
    }
   },
   "source": [
    "### mpi4py\n",
    "\n",
    "`mpi4py` est une implémentation de MPI en Python.\n",
    "\n",
    "MPI permet d'envoyer des messages entre processus.\n",
    "\n",
    "Les types de message\n",
    "\n",
    "- communications point à point\n",
    "- communications collectives"
   ]
  },
  {
   "cell_type": "markdown",
   "metadata": {
    "slideshow": {
     "slide_type": "subslide"
    }
   },
   "source": [
    "### mpi4py"
   ]
  },
  {
   "cell_type": "markdown",
   "metadata": {},
   "source": [
    "Nous aurons besoin dans la suite\n",
    "\n",
    "- `COMM_WORLD`: communicateur englobant l'ensemble des processus initialisés.\n",
    "- `size`: le nombre de processus\n",
    "- `rank`: le numéro du processus\n",
    "- `send` et `recv`: envoi et réception de valeurs"
   ]
  },
  {
   "cell_type": "markdown",
   "metadata": {
    "slideshow": {
     "slide_type": "subslide"
    }
   },
   "source": [
    "### Initialisation des processus"
   ]
  },
  {
   "cell_type": "code",
   "execution_count": 13,
   "metadata": {
    "slideshow": {
     "slide_type": "-"
    }
   },
   "outputs": [],
   "source": [
    "%%px\n",
    "import mpi4py.MPI as mpi\n",
    "import numpy as np\n",
    "import scipy.sparse as sp\n",
    "import scipy.sparse.linalg as linsolve\n",
    "\n",
    "size = mpi.COMM_WORLD.size\n",
    "rank = mpi.COMM_WORLD.rank\n",
    "\n",
    "N = 101\n",
    "L = 1.\n",
    "dx = 1./(N - 1)"
   ]
  },
  {
   "cell_type": "markdown",
   "metadata": {
    "slideshow": {
     "slide_type": "subslide"
    }
   },
   "source": [
    "### Découpage du domaine en sous domaines"
   ]
  },
  {
   "cell_type": "code",
   "execution_count": 14,
   "metadata": {},
   "outputs": [
    {
     "data": {
      "text/plain": [
       "\u001b[0;31mOut[0:22]: \u001b[0marray([  0,  25,  50,  75, 100])"
      ]
     },
     "metadata": {},
     "output_type": "display_data"
    },
    {
     "data": {
      "text/plain": [
       "\u001b[0;31mOut[1:22]: \u001b[0marray([  0,  25,  50,  75, 100])"
      ]
     },
     "metadata": {},
     "output_type": "display_data"
    },
    {
     "data": {
      "text/plain": [
       "\u001b[0;31mOut[2:22]: \u001b[0marray([  0,  25,  50,  75, 100])"
      ]
     },
     "metadata": {},
     "output_type": "display_data"
    },
    {
     "data": {
      "text/plain": [
       "\u001b[0;31mOut[3:22]: \u001b[0marray([  0,  25,  50,  75, 100])"
      ]
     },
     "metadata": {},
     "output_type": "display_data"
    }
   ],
   "source": [
    "%%px\n",
    "Nl = (N-1)//size + 1\n",
    "if mpi.COMM_WORLD.rank == size-1:\n",
    "    Nl += (N-1)%size\n",
    "    \n",
    "Narray = mpi.COMM_WORLD.allgather(Nl-1)\n",
    "tmp = np.cumsum(Narray)\n",
    "tmp = np.insert(tmp, 0, 0)\n",
    "tmp"
   ]
  },
  {
   "cell_type": "markdown",
   "metadata": {
    "slideshow": {
     "slide_type": "subslide"
    }
   },
   "source": [
    "### Découpage du domaine en sous domaines"
   ]
  },
  {
   "cell_type": "code",
   "execution_count": 15,
   "metadata": {},
   "outputs": [],
   "source": [
    "%%px\n",
    "beg = tmp[rank]*dx\n",
    "end = tmp[rank+1]*dx\n",
    "\n",
    "overlap = 2\n",
    "\n",
    "if rank > 0:\n",
    "    beg -= dx*overlap\n",
    "if rank < size - 1:\n",
    "    end += dx*overlap\n",
    "\n",
    "xl = np.arange(beg, end + .5*dx, dx)"
   ]
  },
  {
   "cell_type": "markdown",
   "metadata": {
    "slideshow": {
     "slide_type": "subslide"
    }
   },
   "source": [
    "### Construction des matrices locales"
   ]
  },
  {
   "cell_type": "code",
   "execution_count": 16,
   "metadata": {},
   "outputs": [],
   "source": [
    "%%px\n",
    "n = xl.size\n",
    "\n",
    "A = sp.spdiags([-np.ones(n), 2*np.ones(n), -np.ones(n)],[-1, 0, 1], n, n) # 1D poisson matrix\n",
    "A = A.tocsr()\n",
    "\n",
    "A[0 ,  0] = 1; A[ 0,  1] = 0;\n",
    "A[-1, -2] = 0; A[-1, -1] = 1;\n",
    "\n",
    "b = np.ones(n)*dx**2\n",
    "b[0] = 0; b[-1] = 0"
   ]
  },
  {
   "cell_type": "markdown",
   "metadata": {
    "slideshow": {
     "slide_type": "subslide"
    }
   },
   "source": [
    "### Résolution des problèmes locaux"
   ]
  },
  {
   "cell_type": "code",
   "execution_count": 17,
   "metadata": {},
   "outputs": [],
   "source": [
    "%%px \n",
    "LU = linsolve.factorized(A.tocsc())\n",
    "u = LU(b)"
   ]
  },
  {
   "cell_type": "markdown",
   "metadata": {
    "slideshow": {
     "slide_type": "subslide"
    }
   },
   "source": [
    "### Algorithme de Schwarz parallèle"
   ]
  },
  {
   "cell_type": "markdown",
   "metadata": {},
   "source": [
    "<center>\n",
    "<img style=\"width:90%;\" src=\"./figures/schwarz_dd.png\"/>\n",
    " </center>"
   ]
  },
  {
   "cell_type": "markdown",
   "metadata": {
    "slideshow": {
     "slide_type": "subslide"
    }
   },
   "source": [
    "### Algorithme de Schwarz parallèle"
   ]
  },
  {
   "cell_type": "code",
   "execution_count": 18,
   "metadata": {},
   "outputs": [],
   "source": [
    "def update(nbite=100):\n",
    "    U = []\n",
    "    U.append(mpi.COMM_WORLD.allgather(u))\n",
    "    X = mpi.COMM_WORLD.allgather(xl)\n",
    "    for k in range(nbite):\n",
    "        if rank == 0:\n",
    "            mpi.COMM_WORLD.send(u[-1-2*overlap], rank + 1, rank)\n",
    "            b[-1] = mpi.COMM_WORLD.recv(None, rank + 1, rank + 1)\n",
    "        elif rank == size - 1:\n",
    "            mpi.COMM_WORLD.send(u[2*overlap], rank - 1, rank)\n",
    "            b[0] = mpi.COMM_WORLD.recv(None, rank - 1, rank - 1)\n",
    "        else:\n",
    "            mpi.COMM_WORLD.send(u[-1-2*overlap], rank + 1, rank)\n",
    "            b[-1] = mpi.COMM_WORLD.recv(None, rank + 1, rank + 1)\n",
    "            mpi.COMM_WORLD.send(u[2*overlap], rank - 1, rank)\n",
    "            b[0] = mpi.COMM_WORLD.recv(None, rank - 1, rank - 1)\n",
    "        u[:] = LU(b)\n",
    "        U.append(mpi.COMM_WORLD.allgather(u))\n",
    "    return X, U"
   ]
  },
  {
   "cell_type": "code",
   "execution_count": 19,
   "metadata": {
    "slideshow": {
     "slide_type": "subslide"
    }
   },
   "outputs": [
    {
     "data": {
      "application/vnd.jupyter.widget-view+json": {
       "model_id": "dac11820c47849c4b5e3d0b7c495b846",
       "version_major": 2,
       "version_minor": 0
      },
      "text/html": [
       "<p>Failed to display Jupyter Widget of type <code>interactive</code>.</p>\n",
       "<p>\n",
       "  If you're reading this message in the Jupyter Notebook or JupyterLab Notebook, it may mean\n",
       "  that the widgets JavaScript is still loading. If this message persists, it\n",
       "  likely means that the widgets JavaScript library is either not installed or\n",
       "  not enabled. See the <a href=\"https://ipywidgets.readthedocs.io/en/stable/user_install.html\">Jupyter\n",
       "  Widgets Documentation</a> for setup instructions.\n",
       "</p>\n",
       "<p>\n",
       "  If you're reading this message in another frontend (for example, a static\n",
       "  rendering on GitHub or <a href=\"https://nbviewer.jupyter.org/\">NBViewer</a>),\n",
       "  it may mean that your frontend doesn't currently support widgets.\n",
       "</p>\n"
      ],
      "text/plain": [
       "interactive(children=(IntSlider(value=0, continuous_update=False, description='iteration'), Output()), _dom_classes=('widget-interact',))"
      ]
     },
     "metadata": {},
     "output_type": "display_data"
    },
    {
     "data": {
      "application/vnd.jupyter.widget-view+json": {
       "model_id": "03cd148916844691bad025bda421a5c7",
       "version_major": 2,
       "version_minor": 0
      },
      "text/html": [
       "<p>Failed to display Jupyter Widget of type <code>interactive</code>.</p>\n",
       "<p>\n",
       "  If you're reading this message in the Jupyter Notebook or JupyterLab Notebook, it may mean\n",
       "  that the widgets JavaScript is still loading. If this message persists, it\n",
       "  likely means that the widgets JavaScript library is either not installed or\n",
       "  not enabled. See the <a href=\"https://ipywidgets.readthedocs.io/en/stable/user_install.html\">Jupyter\n",
       "  Widgets Documentation</a> for setup instructions.\n",
       "</p>\n",
       "<p>\n",
       "  If you're reading this message in another frontend (for example, a static\n",
       "  rendering on GitHub or <a href=\"https://nbviewer.jupyter.org/\">NBViewer</a>),\n",
       "  it may mean that your frontend doesn't currently support widgets.\n",
       "</p>\n"
      ],
      "text/plain": [
       "interactive(children=(IntSlider(value=1, continuous_update=False, description='overlap', max=20), Output()), _dom_classes=('widget-interact',))"
      ]
     },
     "metadata": {},
     "output_type": "display_data"
    },
    {
     "data": {
      "application/vnd.jupyter.widget-view+json": {
       "model_id": "d637f5c3126d4248b0465085a556d77c",
       "version_major": 2,
       "version_minor": 0
      },
      "text/html": [
       "<p>Failed to display Jupyter Widget of type <code>VBox</code>.</p>\n",
       "<p>\n",
       "  If you're reading this message in the Jupyter Notebook or JupyterLab Notebook, it may mean\n",
       "  that the widgets JavaScript is still loading. If this message persists, it\n",
       "  likely means that the widgets JavaScript library is either not installed or\n",
       "  not enabled. See the <a href=\"https://ipywidgets.readthedocs.io/en/stable/user_install.html\">Jupyter\n",
       "  Widgets Documentation</a> for setup instructions.\n",
       "</p>\n",
       "<p>\n",
       "  If you're reading this message in another frontend (for example, a static\n",
       "  rendering on GitHub or <a href=\"https://nbviewer.jupyter.org/\">NBViewer</a>),\n",
       "  it may mean that your frontend doesn't currently support widgets.\n",
       "</p>\n"
      ],
      "text/plain": [
       "VBox(children=(HBox(children=(Play(value=0, description='Press play'), IntSlider(value=0, continuous_update=False, description='iteration'), IntSlider(value=1, continuous_update=False, description='overlap', max=20))), Figure(animation_duration=100, axes=[Axis(label='x', scale=LinearScale()), Axis(label='solution', orientation='vertical', scale=LinearScale())], fig_margin={'top': 60, 'bottom': 60, 'left': 60, 'right': 60}, layout=Layout(min_width='125px'), marks=[Lines(colors=['#1f77b4', '#ff7f0e', '#2ca02c', '#d62728', '#9467bd', '#8c564b', '#e377c2', '#7f7f7f', '#bcbd22', '#17becf'], interactions={'hover': 'tooltip'}, scales={'x': LinearScale(), 'y': LinearScale()}, scales_metadata={'x': {'orientation': 'horizontal', 'dimension': 'x'}, 'y': {'orientation': 'vertical', 'dimension': 'y'}, 'color': {'dimension': 'color'}}, tooltip_style={'opacity': 0.9}, x=array([ 0.  ,  0.01,  0.02,  0.03,  0.04,  0.05,  0.06,  0.07,  0.08,\n",
       "        0.09,  0.1 ,  0.11,  0.12,  0.13,  0.14,  0.15,  0.16,  0.17,\n",
       "        0.18,  0.19,  0.2 ,  0.21,  0.22,  0.23,  0.24,  0.25,  0.26]), y=array([ 0.     ,  0.00125,  0.0024 ,  0.00345,  0.0044 ,  0.00525,\n",
       "        0.006  ,  0.00665,  0.0072 ,  0.00765,  0.008  ,  0.00825,\n",
       "        0.0084 ,  0.00845,  0.0084 ,  0.00825,  0.008  ,  0.00765,\n",
       "        0.0072 ,  0.00665,  0.006  ,  0.00525,  0.0044 ,  0.00345,\n",
       "        0.0024 ,  0.00125,  0.     ])), Lines(colors=['#1f77b4', '#ff7f0e', '#2ca02c', '#d62728', '#9467bd', '#8c564b', '#e377c2', '#7f7f7f', '#bcbd22', '#17becf'], interactions={'hover': 'tooltip'}, scales={'x': LinearScale(), 'y': LinearScale()}, scales_metadata={'x': {'orientation': 'horizontal', 'dimension': 'x'}, 'y': {'orientation': 'vertical', 'dimension': 'y'}, 'color': {'dimension': 'color'}}, tooltip_style={'opacity': 0.9}, x=array([ 0.24,  0.25,  0.26,  0.27,  0.28,  0.29,  0.3 ,  0.31,  0.32,\n",
       "        0.33,  0.34,  0.35,  0.36,  0.37,  0.38,  0.39,  0.4 ,  0.41,\n",
       "        0.42,  0.43,  0.44,  0.45,  0.46,  0.47,  0.48,  0.49,  0.5 ,  0.51]), y=array([ 0.    ,  0.0013,  0.0025,  0.0036,  0.0046,  0.0055,  0.0063,\n",
       "        0.007 ,  0.0076,  0.0081,  0.0085,  0.0088,  0.009 ,  0.0091,\n",
       "        0.0091,  0.009 ,  0.0088,  0.0085,  0.0081,  0.0076,  0.007 ,\n",
       "        0.0063,  0.0055,  0.0046,  0.0036,  0.0025,  0.0013,  0.    ])), Lines(colors=['#1f77b4', '#ff7f0e', '#2ca02c', '#d62728', '#9467bd', '#8c564b', '#e377c2', '#7f7f7f', '#bcbd22', '#17becf'], interactions={'hover': 'tooltip'}, scales={'x': LinearScale(), 'y': LinearScale()}, scales_metadata={'x': {'orientation': 'horizontal', 'dimension': 'x'}, 'y': {'orientation': 'vertical', 'dimension': 'y'}, 'color': {'dimension': 'color'}}, tooltip_style={'opacity': 0.9}, x=array([ 0.49,  0.5 ,  0.51,  0.52,  0.53,  0.54,  0.55,  0.56,  0.57,\n",
       "        0.58,  0.59,  0.6 ,  0.61,  0.62,  0.63,  0.64,  0.65,  0.66,\n",
       "        0.67,  0.68,  0.69,  0.7 ,  0.71,  0.72,  0.73,  0.74,  0.75,  0.76]), y=array([ 0.    ,  0.0013,  0.0025,  0.0036,  0.0046,  0.0055,  0.0063,\n",
       "        0.007 ,  0.0076,  0.0081,  0.0085,  0.0088,  0.009 ,  0.0091,\n",
       "        0.0091,  0.009 ,  0.0088,  0.0085,  0.0081,  0.0076,  0.007 ,\n",
       "        0.0063,  0.0055,  0.0046,  0.0036,  0.0025,  0.0013,  0.    ])), Lines(colors=['#1f77b4', '#ff7f0e', '#2ca02c', '#d62728', '#9467bd', '#8c564b', '#e377c2', '#7f7f7f', '#bcbd22', '#17becf'], interactions={'hover': 'tooltip'}, scales={'x': LinearScale(), 'y': LinearScale()}, scales_metadata={'x': {'orientation': 'horizontal', 'dimension': 'x'}, 'y': {'orientation': 'vertical', 'dimension': 'y'}, 'color': {'dimension': 'color'}}, tooltip_style={'opacity': 0.9}, x=array([ 0.74,  0.75,  0.76,  0.77,  0.78,  0.79,  0.8 ,  0.81,  0.82,\n",
       "        0.83,  0.84,  0.85,  0.86,  0.87,  0.88,  0.89,  0.9 ,  0.91,\n",
       "        0.92,  0.93,  0.94,  0.95,  0.96,  0.97,  0.98,  0.99,  1.  ]), y=array([ 0.     ,  0.00125,  0.0024 ,  0.00345,  0.0044 ,  0.00525,\n",
       "        0.006  ,  0.00665,  0.0072 ,  0.00765,  0.008  ,  0.00825,\n",
       "        0.0084 ,  0.00845,  0.0084 ,  0.00825,  0.008  ,  0.00765,\n",
       "        0.0072 ,  0.00665,  0.006  ,  0.00525,  0.0044 ,  0.00345,\n",
       "        0.0024 ,  0.00125,  0.     ]))], scale_x=LinearScale(allow_padding=False, max=1.0, min=0.0), scale_y=LinearScale(allow_padding=False, max=1.0, min=0.0))))"
      ]
     },
     "metadata": {},
     "output_type": "display_data"
    }
   ],
   "source": [
    "from classical_schwarz import plot_solution\n",
    "plot_solution(view)"
   ]
  },
  {
   "cell_type": "markdown",
   "metadata": {
    "slideshow": {
     "slide_type": "slide"
    }
   },
   "source": [
    "## Problème d'élasticité linéaire 2D"
   ]
  },
  {
   "cell_type": "markdown",
   "metadata": {
    "slideshow": {
     "slide_type": "subslide"
    }
   },
   "source": [
    "### Description du problème\n",
    "\n",
    "<center>\n",
    "<img style=\"width:80%;\" src=\"./figures/poutre.png\"/>\n",
    "</center>"
   ]
  },
  {
   "cell_type": "markdown",
   "metadata": {
    "slideshow": {
     "slide_type": "subslide"
    }
   },
   "source": [
    "### Description du problème\n",
    "\n",
    "Nous considérons ici un corps élastique qui occupe, dans sa configuration de référence, un domaine borné $\\Omega$ dans $\\mathbb{R}^2$ avec un bord noté $\\Gamma$.\n",
    "\n",
    "Soit $\\left\\{ \\Gamma_D, \\Gamma_N\\right\\}$ une partition de $\\Gamma$ où $\\Gamma_N$ peut être vide.\n",
    "\n",
    "Nous aurons\n",
    "\n",
    "- des conditions de Dirichlet sur $\\Gamma_D$,\n",
    "- des conditions de Neumann sur $\\Gamma_N$.\n",
    "\n",
    "Soit $u=(u_1, u_2)$ le champs des déplacements de ce corps élastique."
   ]
  },
  {
   "cell_type": "markdown",
   "metadata": {
    "slideshow": {
     "slide_type": "subslide"
    }
   },
   "source": [
    "### Description du problème\n",
    "\n",
    "Sous l'hypothèse de petites déformations, les tenseurs de contraintes et de déformations s'écrivent\n",
    "\n",
    "$$\n",
    "\\sigma_{ij}(u) = 2\\mu\\epsilon_{ij} + \\lambda tr(\\epsilon(u))\\mathbb{1}_2, \\; i,j=1,2,\\\\\n",
    "$$\n",
    "$$\n",
    "\\epsilon(u) = \\frac{\\nabla u+ \\nabla u^T}{2},\n",
    "$$\n",
    "\n",
    "où $\\lambda$ et $\\mu$ sont les constantes de Lamé. Ces coefficients peuvent être calculés à partir du module d'Young $E$ et le coefficient de Poisson $\\nu$\n",
    "\n",
    "$$\n",
    "\\lambda = \\frac{\\nu E}{(1+\\nu)(1-2\\nu)}, \\; \\mu = \\frac{E}{2(1+\\nu)}.\n",
    "$$"
   ]
  },
  {
   "cell_type": "markdown",
   "metadata": {
    "slideshow": {
     "slide_type": "subslide"
    }
   },
   "source": [
    "### Description du problème\n",
    "\n",
    "En se donnant $f=\\left(f_1, f_2\\right)\\in L^2(\\Omega)$, $g=(g_1, g_2)\\in L^2(\\Gamma)$ et $u_D$, le problème étudié s'écrit\n",
    "\n",
    "$$\n",
    "\\begin{array}{rll}\n",
    "-div\\sigma(u) &=& f, \\; \\text{dans} \\; \\Omega,\\\\\n",
    "\\sigma(u)\\cdot n &=& g, \\; \\text{sur} \\; \\Gamma_N, \\\\\n",
    "u &=& u_D,\\; \\text{sur} \\; \\Gamma_D. \n",
    "\\end{array}\n",
    "$$"
   ]
  },
  {
   "cell_type": "markdown",
   "metadata": {
    "slideshow": {
     "slide_type": "subslide"
    }
   },
   "source": [
    "### Description du problème\n",
    "\n",
    "Soient\n",
    "\n",
    "$$\n",
    "\\begin{array}{rll}\n",
    "V &=& \\left\\{ v \\in H^1(\\Omega) \\; : \\; v=0 \\; \\text{sur} \\; \\Gamma_D \\right\\},\\\\\n",
    "V^D &=& \\left\\{ v \\in H^1(\\Omega) \\; : \\; v=u_D \\; \\text{sur} \\; \\Gamma_D \\right\\}.\n",
    "\\end{array}\n",
    "$$"
   ]
  },
  {
   "cell_type": "markdown",
   "metadata": {
    "slideshow": {
     "slide_type": "subslide"
    }
   },
   "source": [
    "### Description du problème\n",
    "La formulation variationnelle du problème d'élasticité s'écrit\n",
    "\n",
    "Trouver $u\\in V^D$ tel que \n",
    "\n",
    "$$\n",
    "\\int_\\Omega \\epsilon(u):\\mathbb{C}\\epsilon(v)dx=\\int_\\Omega f\\cdot v dx + \\int_{\\Gamma_N} g\\cdot v ds, \\; \\forall v \\in V.\n",
    "$$\n",
    "\n",
    "avec\n",
    "\n",
    "$$\n",
    "\\mathbb{C}_{ijkl} = \\lambda \\delta_{ij}\\delta_{kl} + \\mu (\\delta_{ik}\\delta_{jl}+\\delta_{il}\\delta_{jk}), \\; 1\\leq i,j,k,l\\leq 2,\n",
    "$$\n",
    "\n",
    "où $\\delta_{ij}$ est le symbôle de Kronecker."
   ]
  },
  {
   "cell_type": "markdown",
   "metadata": {
    "slideshow": {
     "slide_type": "subslide"
    }
   },
   "source": [
    "### Discrétisation éléments finis\n",
    "\n",
    "Soit $\\mathcal{Q}_h$ une quadrangulation de $\\Omega$. Les espaces $V$ et $ V^D$ sont remplacés par leurs approximations discrètes $V_h$ et $V_h^D$ définies par\n",
    "\n",
    "$$\n",
    "\\begin{array}{rll}\n",
    "V_h &=& \\left\\{ v_h \\in \\mathcal{C}^0(\\overline \\Omega); \\; v_{|T}\\in \\mathbb{Q}_1(Q), \\; \\forall Q\\in \\mathcal{Q_h}; \\; v_{h|\\Gamma_D}=0 \\right\\},\\\\\n",
    "V_h^D &=& \\left\\{ v_h \\in \\mathcal{C}^0(\\overline \\Omega); \\; v_{|T}\\in \\mathbb{Q}_1(Q), \\; \\forall Q\\in \\mathcal{Q_h}; \\; v_{h|\\Gamma_D}=u_D \\right\\}.\n",
    "\\end{array}\n",
    "$$"
   ]
  },
  {
   "cell_type": "markdown",
   "metadata": {
    "slideshow": {
     "slide_type": "subslide"
    }
   },
   "source": [
    "### Discrétisation éléments finis\n",
    "La formulation variationnelle discrète s'écrit\n",
    "\n",
    "Trouver $u_h\\in V_h^D$ tel que $\\forall v_h \\in V_h$\n",
    "\n",
    "$$\n",
    "\\sum_{Q\\in \\mathcal{Q}_h}\\int_Q \\epsilon(u_h):\\mathbb{C}\\epsilon(v_h)dx=\\sum_{Q\\in \\mathcal{Q}_h}\\int_Q f\\cdot v_h dx + \\sum_{E\\subset \\Gamma_N}\\int_{\\Gamma_N} g\\cdot v_h ds,\n",
    "$$\n",
    "\n",
    "avec $u_h=(u_{1h},u_{2h})\\in V_h$,\n",
    "\n",
    "$$\n",
    "u_{\\alpha h}=\\sum \\varphi_j(x) u_{\\alpha}^{j}, \\; \\alpha = 1,2.\n",
    "$$"
   ]
  },
  {
   "cell_type": "markdown",
   "metadata": {
    "slideshow": {
     "slide_type": "subslide"
    }
   },
   "source": [
    "### Assemblage de la matrice de rigidité\n",
    "\n",
    "La matrice élémentaire s'écrit\n",
    "\n",
    "$$\n",
    "\\displaystyle{A_{ij}^e = \\int_Q \\epsilon(\\varphi_i): \\mathbb{C}\\epsilon(\\varphi_j) dx}\n",
    "$$"
   ]
  },
  {
   "cell_type": "markdown",
   "metadata": {
    "slideshow": {
     "slide_type": "subslide"
    }
   },
   "source": [
    "### Notation de Voigt\n",
    "\n",
    "En remarquant que le tenseur $\\mathbb{C}$ est symétrique et $\\epsilon_{ij} = \\epsilon_{ji}$, $\\sigma(u_h) = \\mathbb{C}\\epsilon(u_h)$ peut se réécrire\n",
    "\n",
    "$$\n",
    "\\left(\n",
    "\\begin{array}{c}\n",
    "\\sigma_{11} \\\\\n",
    "\\sigma_{22} \\\\\n",
    "\\sigma_{12} \n",
    "\\end{array}\n",
    "\\right)\n",
    "=\n",
    "C \\gamma(u_h),\n",
    "$$\n",
    "\n",
    "avec\n",
    "\n",
    "$$\n",
    "C = \\left(\n",
    "\\begin{array}{ccc}\n",
    "\\lambda+2\\mu & \\lambda & 0 \\\\\n",
    "\\lambda & \\lambda+2\\mu & 0 \\\\\n",
    "0 & 0 & \\mu\n",
    "\\end{array}\n",
    "\\right)\n",
    "\\; \\text{et} \\;\n",
    "\\gamma(u) = \\left(\n",
    "\\begin{array}{c}\n",
    "\\epsilon_{11} \\\\\n",
    "\\epsilon_{22} \\\\\n",
    "2\\epsilon_{12} \n",
    "\\end{array}\n",
    "\\right)=\n",
    "\\left(\n",
    "\\begin{array}{c}\n",
    "\\frac{\\partial u_1}{\\partial x} \\\\\n",
    "\\frac{\\partial u_2}{\\partial y} \\\\ \n",
    "\\frac{\\partial u_1}{\\partial y}+\\frac{\\partial u_2}{\\partial x} \n",
    "\\end{array}\n",
    "\\right)\n",
    "$$"
   ]
  },
  {
   "cell_type": "markdown",
   "metadata": {
    "slideshow": {
     "slide_type": "subslide"
    }
   },
   "source": [
    "### Fonctions de base\n",
    "\n",
    "<table>\n",
    "<tr>\n",
    "<td><img src=\"./figures/element.png\"></img></td>\n",
    "<td>\n",
    "$$\n",
    "\\begin{array}{rll}\n",
    "\\varphi_1(x,y) &=& \\displaystyle{\\frac{(x-h_x)(y-h_y)}{h_xh_y}}\\\\\n",
    "\\varphi_2(x,y) &=& \\displaystyle{-\\frac{x(y-h_y)}{h_xh_y}}\\\\\n",
    "\\varphi_3(x,y) &=& \\displaystyle{\\frac{xy}{h_xh_y}}\\\\\n",
    "\\varphi_4(x,y) &=& \\displaystyle{-\\frac{(x-h_x)y}{h_xh_y}}\n",
    "\\end{array}\n",
    "$$\n",
    "    </td>\n",
    "</tr>\n",
    "</table>"
   ]
  },
  {
   "cell_type": "markdown",
   "metadata": {
    "slideshow": {
     "slide_type": "subslide"
    }
   },
   "source": [
    "Soit $u = (u_1, u_2, \\cdots, u_8)$ les valeurs de la solution $u_h$ aux noeuds du quadrange $Q$. Alors\n",
    "\n",
    "$$\n",
    "\\gamma(u) = \\left(\n",
    "\\begin{array}{cccccccc}\n",
    "\\varphi_{1,x} & 0 & \\varphi_{2,x} & 0 & \\varphi_{3,x} & 0 & \\varphi_{4,x} & 0 \\\\\n",
    "0 & \\varphi_{1,y} & 0 & \\varphi_{2,y} & 0 & \\varphi_{3,y} & 0 & \\varphi_{4,y} \\\\\n",
    "\\varphi_{1,y} & \\varphi_{1,x} &\\varphi_{2,y} & \\varphi_{2,x} &\\varphi_{3,y} & \\varphi_{3,x} &\\varphi_{4,y} & \\varphi_{4,x} \n",
    "\\end{array}\n",
    "\\right)\n",
    "\\left(\n",
    "\\begin{array}{c}\n",
    "u_1 \\\\\n",
    "\\vdots \\\\\n",
    "u_8\n",
    "\\end{array}\n",
    "\\right)\n",
    "= R u\n",
    "$$\n",
    "\n",
    "Il s'en suit\n",
    "\n",
    "$$\n",
    "\\epsilon(v_h) : \\mathbb{C}\\epsilon(u_h) = v^tR^tCRu.\n",
    "$$\n",
    "\n",
    "La matrice élémentaire peut donc se réécrire comme\n",
    "\n",
    "$$\n",
    "A^e = R^tCR.\n",
    "$$"
   ]
  },
  {
   "cell_type": "markdown",
   "metadata": {
    "slideshow": {
     "slide_type": "subslide"
    }
   },
   "source": [
    "### Utilisation de sympy"
   ]
  },
  {
   "cell_type": "code",
   "execution_count": null,
   "metadata": {},
   "outputs": [],
   "source": [
    "import sympy as sp\n",
    "\n",
    "lamb, mu = sp.symbols(\"lambda, mu\")\n",
    "dim = 2\n",
    "\n",
    "C = sp.zeros(3, 3)\n",
    "C[:dim, :dim] = lamb*sp.ones(dim, dim) + 2*mu*sp.eye(dim)\n",
    "C[-1, -1] = mu"
   ]
  },
  {
   "cell_type": "code",
   "execution_count": null,
   "metadata": {},
   "outputs": [],
   "source": [
    "sp.pprint(C)"
   ]
  },
  {
   "cell_type": "markdown",
   "metadata": {
    "slideshow": {
     "slide_type": "subslide"
    }
   },
   "source": [
    "### Définition des fonctions de base"
   ]
  },
  {
   "cell_type": "code",
   "execution_count": null,
   "metadata": {
    "slideshow": {
     "slide_type": "-"
    }
   },
   "outputs": [],
   "source": [
    "x, y, hx, hy = sp.symbols(\"x, y, hx, hy \")\n",
    "\n",
    "basis_functions = [ (x - hx)*(y - hy)/(hx*hy),\n",
    "                          -x*(y - hy)/(hx*hy),\n",
    "                                  x*y/(hx*hy),\n",
    "                          -(x - hx)*y/(hx*hy)]\n",
    "\n",
    "sp.pprint(basis_functions)"
   ]
  },
  {
   "cell_type": "markdown",
   "metadata": {
    "slideshow": {
     "slide_type": "subslide"
    }
   },
   "source": [
    "### Construction de R"
   ]
  },
  {
   "cell_type": "code",
   "execution_count": null,
   "metadata": {},
   "outputs": [],
   "source": [
    "phi = basis_functions\n",
    "R = sp.zeros(C.shape[0], 2*len(phi))\n",
    "\n",
    "deriv = [x, y]\n",
    "\n",
    "for j in range(dim):\n",
    "    for i in range(len(phi)):\n",
    "        R[j, dim*i + j] = phi[i].diff(deriv[j])\n",
    "\n",
    "for i in range(len(phi)):\n",
    "    R[-1, dim*i] = phi[i].diff(y)\n",
    "    R[-1, dim*i + 1] = phi[i].diff(x)"
   ]
  },
  {
   "cell_type": "code",
   "execution_count": null,
   "metadata": {},
   "outputs": [],
   "source": [
    "sp.pprint(R)"
   ]
  },
  {
   "cell_type": "markdown",
   "metadata": {
    "slideshow": {
     "slide_type": "subslide"
    }
   },
   "source": [
    "### Construction de $A^e$"
   ]
  },
  {
   "cell_type": "code",
   "execution_count": null,
   "metadata": {},
   "outputs": [],
   "source": [
    "A = R.T*C*R\n",
    "\n",
    "Ae = sp.zeros(dim*len(phi), dim*len(phi))\n",
    "for i in range(A.shape[0]):\n",
    "    for j in range(A.shape[1]):\n",
    "        Ae[i, j] = sp.integrate(A[i, j], (y, 0., hy), (x, 0., hx)).expand()\n",
    "        Ae[i, j].together().factor()"
   ]
  },
  {
   "cell_type": "code",
   "execution_count": null,
   "metadata": {},
   "outputs": [],
   "source": [
    "sp.pprint(Ae)"
   ]
  },
  {
   "cell_type": "markdown",
   "metadata": {
    "slideshow": {
     "slide_type": "subslide"
    }
   },
   "source": [
    "### PETSc (Portable, Extensible Toolkit for Scientific Computation)\n",
    "\n",
    "<center>\n",
    "<img style=\"width:70%;\" src=\"./figures/petsc_1.png\"/>\n",
    "</center>"
   ]
  },
  {
   "cell_type": "markdown",
   "metadata": {
    "slideshow": {
     "slide_type": "subslide"
    }
   },
   "source": [
    "### PETSc (Portable, Extensible Toolkit for Scientific Computation)\n",
    "\n",
    "**Langages supportés**\n",
    "\n",
    "- C/C++\n",
    "- Fortran\n",
    "- Python (`petsc4py`)\n",
    "\n",
    "**Interface avec des bibliothèques externes**\n",
    "\n",
    "- FFTW\n",
    "- Hyper\n",
    "- MUMPS\n",
    "- ParMetis,\n",
    "- SuperLU,\n",
    "- UMFPACK,\n",
    "- ..."
   ]
  },
  {
   "cell_type": "markdown",
   "metadata": {
    "slideshow": {
     "slide_type": "subslide"
    }
   },
   "source": [
    "### DM\n",
    "\n",
    "Petsc offre deux structures de données pour gérer les maillages\n",
    "\n",
    "- `DMDA` pour les maillages uniformes cartésiens,\n",
    "- `DMPlex` pour les maillages non structurés."
   ]
  },
  {
   "cell_type": "markdown",
   "metadata": {
    "slideshow": {
     "slide_type": "subslide"
    }
   },
   "source": [
    "### DMDA"
   ]
  },
  {
   "cell_type": "code",
   "execution_count": 21,
   "metadata": {},
   "outputs": [],
   "source": [
    "%%px\n",
    "from petsc4py import PETSc\n",
    "\n",
    "nx = ny = 5\n",
    "\n",
    "da = PETSc.DMDA().create([nx, ny], dof=2, stencil_width=1)\n",
    "da.setUniformCoordinates(xmax=1, ymax=1)"
   ]
  },
  {
   "cell_type": "markdown",
   "metadata": {
    "slideshow": {
     "slide_type": "subslide"
    }
   },
   "source": [
    "### DMDA (4 sous domaines)\n",
    "<center>\n",
    "<img style=\"width:60%\" src=\"./figures/DMDA.png\"/>\n",
    "</center>"
   ]
  },
  {
   "cell_type": "markdown",
   "metadata": {
    "slideshow": {
     "slide_type": "subslide"
    }
   },
   "source": [
    "### Récupérer $x_s$, $gx_s$, $x_e$, $gx_e$, ..."
   ]
  },
  {
   "cell_type": "code",
   "execution_count": 22,
   "metadata": {
    "slideshow": {
     "slide_type": "-"
    }
   },
   "outputs": [
    {
     "name": "stdout",
     "output_type": "stream",
     "text": [
      "[stdout:0] 2 ((0, 3), (3, 5)) ((0, 4), (2, 5))\n",
      "[stdout:1] 3 ((3, 5), (3, 5)) ((2, 5), (2, 5))\n",
      "[stdout:2] 0 ((0, 3), (0, 3)) ((0, 4), (0, 4))\n",
      "[stdout:3] 1 ((3, 5), (0, 3)) ((2, 5), (0, 4))\n"
     ]
    }
   ],
   "source": [
    "%%px\n",
    "print(PETSc.COMM_WORLD.rank, da.getRanges(), da.getGhostRanges())"
   ]
  },
  {
   "cell_type": "markdown",
   "metadata": {
    "slideshow": {
     "slide_type": "subslide"
    }
   },
   "source": [
    "### Parcourir les éléments avec une numérotation locale"
   ]
  },
  {
   "cell_type": "code",
   "execution_count": 23,
   "metadata": {
    "slideshow": {
     "slide_type": "-"
    }
   },
   "outputs": [
    {
     "data": {
      "text/plain": [
       "\u001b[0;31mOut[0:29]: \u001b[0m\n",
       "array([[ 0,  1,  5,  4],\n",
       "       [ 1,  2,  6,  5],\n",
       "       [ 4,  5,  9,  8],\n",
       "       [ 5,  6, 10,  9]], dtype=int32)"
      ]
     },
     "metadata": {},
     "output_type": "display_data"
    },
    {
     "data": {
      "text/plain": [
       "\u001b[0;31mOut[1:29]: \u001b[0m\n",
       "array([[0, 1, 4, 3],\n",
       "       [1, 2, 5, 4],\n",
       "       [3, 4, 7, 6],\n",
       "       [4, 5, 8, 7]], dtype=int32)"
      ]
     },
     "metadata": {},
     "output_type": "display_data"
    },
    {
     "data": {
      "text/plain": [
       "\u001b[0;31mOut[2:29]: \u001b[0m\n",
       "array([[ 0,  1,  5,  4],\n",
       "       [ 1,  2,  6,  5],\n",
       "       [ 4,  5,  9,  8],\n",
       "       [ 5,  6, 10,  9]], dtype=int32)"
      ]
     },
     "metadata": {},
     "output_type": "display_data"
    },
    {
     "data": {
      "text/plain": [
       "\u001b[0;31mOut[3:29]: \u001b[0m\n",
       "array([[0, 1, 4, 3],\n",
       "       [1, 2, 5, 4],\n",
       "       [3, 4, 7, 6],\n",
       "       [4, 5, 8, 7]], dtype=int32)"
      ]
     },
     "metadata": {},
     "output_type": "display_data"
    }
   ],
   "source": [
    "%%px\n",
    "da.getElements()"
   ]
  },
  {
   "cell_type": "markdown",
   "metadata": {
    "slideshow": {
     "slide_type": "subslide"
    }
   },
   "source": [
    "### Matrice et vecteur à partir d'un DMDA"
   ]
  },
  {
   "cell_type": "code",
   "execution_count": 24,
   "metadata": {},
   "outputs": [],
   "source": [
    "%%px \n",
    "A = da.createMatrix()\n",
    "x = da.createGlobalVec()\n",
    "xlocal = da.createLocalVec()"
   ]
  },
  {
   "cell_type": "markdown",
   "metadata": {},
   "source": [
    "On peut toujours accéder aux éléments en utilisant la numérotation globale."
   ]
  },
  {
   "cell_type": "code",
   "execution_count": 25,
   "metadata": {},
   "outputs": [],
   "source": [
    "%px x[0] = 1"
   ]
  },
  {
   "cell_type": "code",
   "execution_count": 26,
   "metadata": {},
   "outputs": [
    {
     "name": "stdout",
     "output_type": "stream",
     "text": [
      "[stdout:0] \n",
      "[[[ 0.  0.]\n",
      "  [ 0.  0.]]\n",
      "\n",
      " [[ 0.  0.]\n",
      "  [ 0.  0.]]\n",
      "\n",
      " [[ 0.  0.]\n",
      "  [ 0.  0.]]]\n",
      "[stdout:1] \n",
      "[[[ 0.  0.]\n",
      "  [ 0.  0.]]\n",
      "\n",
      " [[ 0.  0.]\n",
      "  [ 0.  0.]]]\n",
      "[stdout:2] \n",
      "[[[ 1.  0.]\n",
      "  [ 0.  0.]\n",
      "  [ 0.  0.]]\n",
      "\n",
      " [[ 0.  0.]\n",
      "  [ 0.  0.]\n",
      "  [ 0.  0.]]\n",
      "\n",
      " [[ 0.  0.]\n",
      "  [ 0.  0.]\n",
      "  [ 0.  0.]]]\n",
      "[stdout:3] \n",
      "[[[ 0.  0.]\n",
      "  [ 0.  0.]\n",
      "  [ 0.  0.]]\n",
      "\n",
      " [[ 0.  0.]\n",
      "  [ 0.  0.]\n",
      "  [ 0.  0.]]]\n"
     ]
    }
   ],
   "source": [
    "%px print(da.getVecArray(x)[:])"
   ]
  },
  {
   "cell_type": "markdown",
   "metadata": {
    "slideshow": {
     "slide_type": "subslide"
    }
   },
   "source": [
    "### Assemblage de la matrice"
   ]
  },
  {
   "cell_type": "code",
   "execution_count": 27,
   "metadata": {},
   "outputs": [],
   "source": [
    "%%px\n",
    "from elasticity.assembling import getMatElemElasticity, getIndices\n",
    "\n",
    "h, lamb, mu = [.25, .25], .25, .1\n",
    "\n",
    "Melem = getMatElemElasticity(h, lamb, mu)\n",
    "A = da.createMatrix()\n",
    "elem = da.getElements()\n",
    "\n",
    "dof = da.getDof()\n",
    "for e in elem:\n",
    "    ind = getIndices(e, dof)\n",
    "    A.setValuesLocal(ind, ind, Melem, PETSc.InsertMode.ADD_VALUES)\n",
    "A.assemble()"
   ]
  },
  {
   "cell_type": "markdown",
   "metadata": {
    "slideshow": {
     "slide_type": "subslide"
    }
   },
   "source": [
    "### Création du KSP"
   ]
  },
  {
   "cell_type": "code",
   "execution_count": 28,
   "metadata": {},
   "outputs": [],
   "source": [
    "%%px\n",
    "ksp = PETSc.KSP().create()\n",
    "ksp.setOperators(A)\n",
    "ksp.setType(\"cg\")\n",
    "pc = ksp.getPC()\n",
    "pc.setType(\"gamg\")\n",
    "ksp.setFromOptions()"
   ]
  },
  {
   "cell_type": "markdown",
   "metadata": {
    "slideshow": {
     "slide_type": "subslide"
    }
   },
   "source": [
    "### Exemple"
   ]
  },
  {
   "cell_type": "code",
   "execution_count": 29,
   "metadata": {},
   "outputs": [],
   "source": [
    "import sys, petsc4py\n",
    "petsc4py.init(sys.argv)\n",
    "from petsc4py import PETSc\n",
    "import numpy as np\n",
    "from elasticity import *\n",
    "\n",
    "def rhs(coords, rhs):\n",
    "    rhs[..., 1] = -9.81\n",
    "\n",
    "# set options\n",
    "OptDB = PETSc.Options()\n",
    "Lx = OptDB.getReal('Lx', 10)\n",
    "Ly = OptDB.getReal('Ly', 1)\n",
    "n  = OptDB.getInt('n', 16)\n",
    "nx = OptDB.getInt('nx', Lx*n)\n",
    "ny = OptDB.getInt('ny', Ly*n)\n",
    "\n",
    "hx = Lx/(nx - 1)\n",
    "hy = Ly/(ny - 1)\n",
    "\n",
    "da = PETSc.DMDA().create([nx, ny], dof=2, stencil_width=1)\n",
    "da.setUniformCoordinates(xmax=Lx, ymax=Ly)\n",
    "\n",
    "# constant young modulus\n",
    "E = 30000\n",
    "# constant Poisson coefficient\n",
    "nu = 0.4\n",
    "\n",
    "lamb = (nu*E)/((1+nu)*(1-2*nu)) \n",
    "mu = .5*E/(1+nu)\n",
    "\n",
    "x = da.createGlobalVec()\n",
    "b = buildRHS(da, [hx, hy], rhs)\n",
    "A = buildElasticityMatrix(da, [hx, hy], lamb, mu)\n",
    "A.assemble()\n",
    "\n",
    "bcApplyWest(da, A, b)\n",
    "\n",
    "ksp = PETSc.KSP().create()\n",
    "ksp.setOperators(A)\n",
    "ksp.setFromOptions()\n",
    "\n",
    "ksp.solve(b, x)\n",
    "\n",
    "viewer = PETSc.Viewer().createVTK('solution_2d.vts', 'w', comm = PETSc.COMM_WORLD)\n",
    "x.view(viewer)"
   ]
  },
  {
   "cell_type": "code",
   "execution_count": 18,
   "metadata": {
    "slideshow": {
     "slide_type": "subslide"
    }
   },
   "outputs": [
    {
     "name": "stdout",
     "output_type": "stream",
     "text": [
      "  0 KSP Residual norm 3.445660734014e-01 \r\n",
      "  1 KSP Residual norm 7.268982844720e-02 \r\n",
      "  2 KSP Residual norm 7.098886477230e-02 \r\n",
      "  3 KSP Residual norm 6.885586558112e-02 \r\n",
      "  4 KSP Residual norm 6.867283608183e-02 \r\n",
      "  5 KSP Residual norm 6.359484123651e-02 \r\n",
      "  6 KSP Residual norm 4.172033470394e-02 \r\n",
      "  7 KSP Residual norm 4.079709471894e-02 \r\n",
      "  8 KSP Residual norm 4.078189287147e-02 \r\n",
      "  9 KSP Residual norm 3.609454024623e-02 \r\n",
      " 10 KSP Residual norm 3.581976582440e-02 \r\n",
      " 11 KSP Residual norm 3.173352967053e-02 \r\n",
      " 12 KSP Residual norm 3.137811911970e-02 \r\n",
      " 13 KSP Residual norm 3.054147953655e-02 \r\n",
      " 14 KSP Residual norm 2.710207001531e-02 \r\n",
      " 15 KSP Residual norm 2.565197027242e-02 \r\n",
      " 16 KSP Residual norm 2.503711986399e-02 \r\n",
      " 17 KSP Residual norm 2.342554146776e-02 \r\n",
      " 18 KSP Residual norm 2.000434711303e-02 \r\n",
      " 19 KSP Residual norm 1.584962972383e-02 \r\n",
      " 20 KSP Residual norm 1.216314487639e-02 \r\n",
      " 21 KSP Residual norm 8.014364582359e-03 \r\n",
      " 22 KSP Residual norm 4.116936200681e-03 \r\n",
      " 23 KSP Residual norm 1.907303406711e-03 \r\n",
      " 24 KSP Residual norm 8.653541989748e-04 \r\n",
      " 25 KSP Residual norm 3.205009480743e-04 \r\n",
      " 26 KSP Residual norm 1.286044222069e-04 \r\n",
      " 27 KSP Residual norm 4.168845202942e-05 \r\n",
      " 28 KSP Residual norm 1.376998646281e-05 \r\n",
      " 29 KSP Residual norm 4.244103909462e-06 \r\n",
      " 30 KSP Residual norm 1.295083282264e-06 \r\n"
     ]
    }
   ],
   "source": [
    "! mpiexec -n 4 python demos/elasticity_2d.py -ksp_monitor -ksp_type gmres -pc_type gamg"
   ]
  },
  {
   "cell_type": "code",
   "execution_count": 32,
   "metadata": {
    "slideshow": {
     "slide_type": "subslide"
    }
   },
   "outputs": [],
   "source": [
    "def plot_solution(filename):\n",
    "    import vtk\n",
    "    reader = vtk.vtkXMLStructuredGridReader()\n",
    "    reader.SetFileName(filename)\n",
    "    reader.Update()\n",
    "\n",
    "    nodes_array = reader.GetOutput().GetPoints().GetData() \n",
    "    data_arrays = reader.GetOutput().GetPointData()\n",
    "    u = data_arrays.GetArray(0)\n",
    "    v = data_arrays.GetArray(1)\n",
    "    \n",
    "    from vtk.util.numpy_support import vtk_to_numpy\n",
    "    import numpy as np\n",
    "    nodes = vtk_to_numpy(nodes_array)\n",
    "    u = vtk_to_numpy(u)\n",
    "    v = vtk_to_numpy(v)\n",
    "    \n",
    "    x = nodes[:, 0] + u\n",
    "    y = nodes[:, 1] + v\n",
    "    \n",
    "    from bqplot import pyplot as plt\n",
    "\n",
    "    plt.figure()\n",
    "    plt.scatter(x, y, color=np.sqrt(u**2 + v**2), default_size=2)\n",
    "    plt.show()"
   ]
  },
  {
   "cell_type": "code",
   "execution_count": 35,
   "metadata": {
    "slideshow": {
     "slide_type": "subslide"
    }
   },
   "outputs": [
    {
     "data": {
      "application/vnd.jupyter.widget-view+json": {
       "model_id": "2896554f6d8b41cdaf5bc0aac5b88157",
       "version_major": 2,
       "version_minor": 0
      },
      "text/html": [
       "<p>Failed to display Jupyter Widget of type <code>VBox</code>.</p>\n",
       "<p>\n",
       "  If you're reading this message in the Jupyter Notebook or JupyterLab Notebook, it may mean\n",
       "  that the widgets JavaScript is still loading. If this message persists, it\n",
       "  likely means that the widgets JavaScript library is either not installed or\n",
       "  not enabled. See the <a href=\"https://ipywidgets.readthedocs.io/en/stable/user_install.html\">Jupyter\n",
       "  Widgets Documentation</a> for setup instructions.\n",
       "</p>\n",
       "<p>\n",
       "  If you're reading this message in another frontend (for example, a static\n",
       "  rendering on GitHub or <a href=\"https://nbviewer.jupyter.org/\">NBViewer</a>),\n",
       "  it may mean that your frontend doesn't currently support widgets.\n",
       "</p>\n"
      ],
      "text/plain": [
       "VBox(children=(Figure(axes=[ColorAxis(scale=ColorScale()), Axis(scale=LinearScale()), Axis(orientation='vertical', scale=LinearScale())], fig_margin={'top': 60, 'bottom': 60, 'left': 60, 'right': 60}, layout=Layout(min_width='125px'), marks=[Scatter(color=array([  4.97852316e-08,   8.50702463e-03,   1.40437064e-02, ...,\n",
       "         4.04863145e+00,   4.08266807e+00,   4.11670489e+00]), colors=['DeepSkyBlue'], default_size=2, interactions={'hover': 'tooltip'}, scales={'color': ColorScale(), 'x': LinearScale(), 'y': LinearScale()}, scales_metadata={'x': {'orientation': 'horizontal', 'dimension': 'x'}, 'y': {'orientation': 'vertical', 'dimension': 'y'}, 'color': {'dimension': 'color'}, 'size': {'dimension': 'size'}, 'opacity': {'dimension': 'opacity'}, 'rotation': {'dimension': 'rotation'}, 'skew': {'dimension': 'skew'}}, tooltip_style={'opacity': 0.9}, x=array([  2.30120815e-08,   5.77230351e-02,   1.15747380e-01, ...,\n",
       "         1.01453634e+01,   1.02082563e+01,   1.02711495e+01]), y=array([ -4.41476317e-08,  -6.75574462e-03,  -9.82082024e-03, ...,\n",
       "        -3.03954137e+00,  -3.07365396e+00,  -3.10776546e+00]))], scale_x=LinearScale(allow_padding=False, max=1.0, min=0.0), scale_y=LinearScale(allow_padding=False, max=1.0, min=0.0)), Toolbar(figure=Figure(axes=[ColorAxis(scale=ColorScale()), Axis(scale=LinearScale()), Axis(orientation='vertical', scale=LinearScale())], fig_margin={'top': 60, 'bottom': 60, 'left': 60, 'right': 60}, layout=Layout(min_width='125px'), marks=[Scatter(color=array([  4.97852316e-08,   8.50702463e-03,   1.40437064e-02, ...,\n",
       "         4.04863145e+00,   4.08266807e+00,   4.11670489e+00]), colors=['DeepSkyBlue'], default_size=2, interactions={'hover': 'tooltip'}, scales={'color': ColorScale(), 'x': LinearScale(), 'y': LinearScale()}, scales_metadata={'x': {'orientation': 'horizontal', 'dimension': 'x'}, 'y': {'orientation': 'vertical', 'dimension': 'y'}, 'color': {'dimension': 'color'}, 'size': {'dimension': 'size'}, 'opacity': {'dimension': 'opacity'}, 'rotation': {'dimension': 'rotation'}, 'skew': {'dimension': 'skew'}}, tooltip_style={'opacity': 0.9}, x=array([  2.30120815e-08,   5.77230351e-02,   1.15747380e-01, ...,\n",
       "         1.01453634e+01,   1.02082563e+01,   1.02711495e+01]), y=array([ -4.41476317e-08,  -6.75574462e-03,  -9.82082024e-03, ...,\n",
       "        -3.03954137e+00,  -3.07365396e+00,  -3.10776546e+00]))], scale_x=LinearScale(allow_padding=False, max=1.0, min=0.0), scale_y=LinearScale(allow_padding=False, max=1.0, min=0.0)))))"
      ]
     },
     "metadata": {},
     "output_type": "display_data"
    }
   ],
   "source": [
    "plot_solution('solution_2d.vts')"
   ]
  },
  {
   "cell_type": "markdown",
   "metadata": {
    "slideshow": {
     "slide_type": "subslide"
    }
   },
   "source": [
    "### Construction d'un préconditionneur"
   ]
  },
  {
   "cell_type": "markdown",
   "metadata": {},
   "source": [
    "On prend une partition sans recouvrement de $\\Omega$.\n",
    "\n",
    "$$\n",
    "\\left\\{\n",
    "\\begin{array}{l}\n",
    "\\overline \\Omega = \\bigcup_{s=1}^N \\overline \\Omega_s \\\\\n",
    "\\Omega_s \\cap \\Omega_t = \\emptyset; \\; s \\neq t,\n",
    "\\end{array}\n",
    "\\right.\n",
    "$$\n",
    "\n",
    "où $N$ est le nombre de sous domaines."
   ]
  },
  {
   "cell_type": "markdown",
   "metadata": {
    "slideshow": {
     "slide_type": "subslide"
    }
   },
   "source": [
    "### Construction d'un préconditionneur"
   ]
  },
  {
   "cell_type": "markdown",
   "metadata": {},
   "source": [
    "$$\n",
    "M^{-1} = \\sum_{s=1}^N R_s^TA_s^+R_s \\; \\text{où} \\; A_s = D^{-1}_s A_{|\\Omega_s} D^{-1}_s,\n",
    "$$\n",
    "\n",
    "où\n",
    "\n",
    "$$\n",
    "A_{|\\Omega_s} = \\int_{\\Omega_s} \\epsilon(v):\\mathbb{C}\\epsilon(u) dx \\; + (BC \\cap \\Omega_s).\n",
    "$$\n",
    "\n",
    "$R_s$ est l'opérateur de restriction et $D_s$ une partition de l'unité de sorte que\n",
    "\n",
    "$$\n",
    "\\sum_{s=1}^N R_s^TD_sR_s = I.\n",
    "$$"
   ]
  },
  {
   "cell_type": "markdown",
   "metadata": {
    "slideshow": {
     "slide_type": "subslide"
    }
   },
   "source": [
    "### Projection A orthogonale sur $ker(Z^TA)$\n",
    "\n",
    "On définit\n",
    "\n",
    "$$\n",
    "\\Pi = I - Z(Z^TAZ)^{-1}Z^TA\n",
    "$$\n",
    "\n",
    "où $Z$ sont des vecteurs qui engendrent $\\sum_{s=1}^N R_s^TKer(A_s)$.\n",
    "\n",
    "Dans notre cas, $Ker(A_s) \\subset D_s RBM$.\n",
    "\n",
    "On a \n",
    "\n",
    "$$\n",
    "\\Pi^T A \\Pi = A \\Pi = \\Pi^T A.\n",
    "$$"
   ]
  },
  {
   "cell_type": "markdown",
   "metadata": {
    "slideshow": {
     "slide_type": "subslide"
    }
   },
   "source": [
    "### Construction de $R_s$ et de $D_s^{-1}$\n",
    "\n",
    "<center>\n",
    "<img style=\"width:70%\" src=\"./figures/partition.png\"/>\n",
    "</center>"
   ]
  },
  {
   "cell_type": "markdown",
   "metadata": {
    "slideshow": {
     "slide_type": "subslide"
    }
   },
   "source": [
    "### Construction de $R_s$ et de $D_s^{-1}$"
   ]
  },
  {
   "cell_type": "code",
   "execution_count": 30,
   "metadata": {},
   "outputs": [],
   "source": [
    "%%px\n",
    "(xs, xe), (ys, ye) = da.getRanges()\n",
    "(gxs, gxe), (gys, gye) = da.getGhostRanges()\n",
    "\n",
    "Rlocal = da.createLocalVec()\n",
    "Rlocal_a = da.getVecArray(Rlocal)\n",
    "Rlocal_a[gxs:xe, gys:ye] = 1\n",
    "\n",
    "# multiplicity\n",
    "Dinv = da.createGlobalVec()\n",
    "Dinvlocal = da.createLocalVec()\n",
    "da.localToGlobal(Rlocal, Dinv, addv=PETSc.InsertMode.ADD_VALUES)\n",
    "da.globalToLocal(Dinv, Dinvlocal)"
   ]
  },
  {
   "cell_type": "markdown",
   "metadata": {
    "slideshow": {
     "slide_type": "subslide"
    }
   },
   "source": [
    "### Construction de $\\Pi$"
   ]
  },
  {
   "cell_type": "code",
   "execution_count": null,
   "metadata": {},
   "outputs": [],
   "source": [
    "RBM = PETSc.NullSpace().createRigidBody(da.getCoordinates())\n",
    "rbm_vecs = RBM.getVecs()\n",
    "\n",
    "work1 = da.createLocalVec()\n",
    "work2 = da.createLocalVec()\n",
    "\n",
    "Z = []\n",
    "for i in range(mpi.COMM_WORLD.size):\n",
    "    for ivec, rbm_vec in enumerate(rbm_vecs):\n",
    "        Z.append(da.createGlobalVec())\n",
    "        work1.set(0)\n",
    "        da.globalToLocal(rbm_vec, work2)\n",
    "        if i == mpi.COMM_WORLD.rank:\n",
    "            work1 = work2*Rlocal/Dinvlocal\n",
    "        da.localToGlobal(work1, Z[-1], addv=PETSc.InsertMode.ADD_VALUES)\n",
    "\n",
    "# BC\n",
    "AZ = []\n",
    "for vec in vecs:\n",
    "    bcApplyWest_vec(da, Z)\n",
    "    AZ.append(A*Z)\n",
    "\n",
    "# orthonormalize\n",
    "for i, z in enumerate(Z):\n",
    "    alphas = []\n",
    "    for az in AZ[:i]:\n",
    "        alphas.append(z.dot(az))\n",
    "    for alpha, zi in zip(alphas, Z[:i]):\n",
    "        z.axpy(-alpha, zi)\n",
    "    z.scale(1./np.sqrt(vec.dot(A*z)))\n",
    "    AZ[i] = A*z"
   ]
  },
  {
   "cell_type": "markdown",
   "metadata": {
    "slideshow": {
     "slide_type": "subslide"
    }
   },
   "source": [
    "### Construction du préconditionneur"
   ]
  },
  {
   "cell_type": "code",
   "execution_count": 69,
   "metadata": {},
   "outputs": [],
   "source": [
    "class ASM(object):\n",
    "    def __init__(self, da_global, Dinv_global, Z, AZ, h, lamb, mu):\n",
    "        self.da_global = da_global\n",
    "        self.vecs = vecs\n",
    "        self.Avecs = Avecs\n",
    "\n",
    "        (xs, xe), (ys, ye) = self.da_global.getRanges()\n",
    "        (gxs, gxe), (gys, gye) = self.da_global.getGhostRanges()\n",
    "        self.block = (slice(gxs, xe), slice(gys, ye))\n",
    "\n",
    "        self.da_local = PETSc.DMDA().create([xe-gxs, ye-gys], dof=2, \n",
    "                                            stencil_width=1,\n",
    "                                            comm=PETSc.COMM_SELF)\n",
    "        mx, my = self.da_local.getSizes()\n",
    "        self.da_local.setUniformCoordinates(xmax=h[0]*mx, ymax=h[1]*my)\n",
    "\n",
    "        A = buildElasticityMatrix(self.da_local, h, lamb, mu)\n",
    "        A.assemble()\n",
    "\n",
    "        Dinv = self.da_local.createGlobalVec()\n",
    "        Dinvlocal_a = self.da_local.getVecArray(Dinv)\n",
    "        Dinvlocal = self.da_global.createLocalVec()\n",
    "        self.da_global.globalToLocal(Dinv_global, Dinvlocal)\n",
    "        D_a = self.da_global.getVecArray(Dinvlocal)\n",
    "\n",
    "        Dinvlocal_a[:, :] = Dinv_a[self.block]\n",
    "        A.diagonalScale(Dinv, Dinv)\n",
    "\n",
    "        if mpi.COMM_WORLD.rank == 0:\n",
    "            bcApplyWestMat(self.da_local, A)\n",
    "\n",
    "        self.nullspace = PETSc.NullSpace().createRigidBody(self.da_local.getCoordinates())\n",
    "        u, v, r = self.nullspace.getVecs()\n",
    "        u[:] /= Dinv[:]\n",
    "        v[:] /= Dinv[:]\n",
    "        r[:] /= Dinv[:]\n",
    "        if mpi.COMM_WORLD.rank == 0:\n",
    "            bcApplyWest_vec(self.da_local, u)\n",
    "            bcApplyWest_vec(self.da_local, v)\n",
    "            bcApplyWest_vec(self.da_local, r)\n",
    "\n",
    "        A.setNullSpace(self.nullspace)\n",
    "\n",
    "        # build local solvers\n",
    "        self.ksp = PETSc.KSP().create()\n",
    "        self.ksp.setOperators(A)\n",
    "        self.ksp.setOptionsPrefix(\"myasm_\")\n",
    "        self.ksp.setType('cg')\n",
    "        pc = self.ksp.getPC()\n",
    "        pc.setType('none')\n",
    "        self.ksp.setFromOptions()\n",
    "\n",
    "        # Construct work arrays\n",
    "        self.work_global = self.da_global.createLocalVec()\n",
    "        self.workg_global = self.da_global.createGlobalVec()\n",
    "        self.work1_local = self.da_local.createGlobalVec()\n",
    "        self.work2_local = self.da_local.createGlobalVec()\n",
    "\n",
    "    def mult(self, mat, x, y):\n",
    "        self.work_global.set(0.)\n",
    "        self.da_global.globalToLocal(x, self.work_global)\n",
    "\n",
    "        work_global_a = self.da_global.getVecArray(self.work_global)\n",
    "\n",
    "        work1_local_a = self.da_local.getVecArray(self.work1_local)\n",
    "        work1_local_a[:, :] = work_global_a[self.block]\n",
    "\n",
    "        self.ksp.solve(self.work1_local, self.work2_local)\n",
    "\n",
    "        self.work_global.set(0.)\n",
    "        sol_a = self.da_local.getVecArray(self.work2_local)\n",
    "\n",
    "        work_global_a[self.block] = sol_a[:, :]\n",
    "        self.da_global.localToGlobal(self.work_global, y, addv=PETSc.InsertMode.ADD_VALUES)\n",
    "\n",
    "        # Apply projection\n",
    "        self.workg_global.set(0)\n",
    "        for z, Az in zip(self.Z, self.AZ):\n",
    "            self.workg_global += Az.dot(y)*z\n",
    "        \n",
    "        y -= self.workg_global\n",
    "        \n",
    "class PCASM(object):\n",
    "    def setUp(self, pc):\n",
    "        B, self.P = pc.getOperators()\n",
    "\n",
    "    def apply(self, pc, x, y):\n",
    "        y.array = self.P*x        "
   ]
  },
  {
   "cell_type": "markdown",
   "metadata": {
    "slideshow": {
     "slide_type": "subslide"
    }
   },
   "source": [
    "### Résolution du système avec notre nouveau préconditionneur"
   ]
  },
  {
   "cell_type": "code",
   "execution_count": null,
   "metadata": {},
   "outputs": [],
   "source": [
    "def rhs(coords, rhs):\n",
    "    rhs[..., 1] = -9.81\n",
    "\n",
    "OptDB = PETSc.Options()\n",
    "Lx = OptDB.getInt('Lx', 10)\n",
    "Ly = OptDB.getInt('Ly', 1)\n",
    "n  = OptDB.getInt('n', 16)\n",
    "nx = OptDB.getInt('nx', Lx*n)\n",
    "ny = OptDB.getInt('ny', Ly*n)\n",
    "\n",
    "hx = Lx/(nx - 1)\n",
    "hy = Ly/(ny - 1)\n",
    "\n",
    "da = PETSc.DMDA().create([nx, ny], dof=2, stencil_width=1)\n",
    "da.setUniformCoordinates(xmax=Lx, ymax=Ly)\n",
    "\n",
    "# constant young modulus\n",
    "E = 30000\n",
    "# constant Poisson coefficient\n",
    "nu = 0.4\n",
    "\n",
    "lamb = (nu*E)/((1+nu)*(1-2*nu)) \n",
    "mu = .5*E/(1+nu)\n",
    "\n",
    "x = da.createGlobalVec()\n",
    "b = buildRHS(da, [hx, hy], rhs)\n",
    "A = buildElasticityMatrix(da, [hx, hy], lamb, mu)\n",
    "A.assemble()\n",
    "\n",
    "bcApplyWest(da, A, b)\n",
    "\n",
    "# build nullspace and multiplicity\n",
    "Dinv, Z, AZ = get_nullspace(da, A)\n",
    "\n",
    "# set matrix of the preconditioner\n",
    "asm = ASM(da, D, vecs, Avecs, [hx, hy], lamb, mu)\n",
    "P = PETSc.Mat().createPython(\n",
    "    [x.getSizes(), b.getSizes()], comm=da.comm)\n",
    "P.setPythonContext(asm)\n",
    "P.setUp()\n",
    "\n",
    "# Set initial guess\n",
    "ptilde = da.createGlobalVec()\n",
    "for i in range(len(Z)):\n",
    "    ptilde += Z[i].dot(b)*Z[i]\n",
    "x = ptilde\n",
    "bcApplyWest_vec(da, x)\n",
    "\n",
    "ksp = PETSc.KSP().create()\n",
    "ksp.setOperators(A, P)\n",
    "ksp.setOptionsPrefix(\"elas_\")\n",
    "ksp.setType(\"cg\")\n",
    "ksp.setInitialGuessNonzero(True)\n",
    "# set our own preconditioner\n",
    "pc = ksp.pc\n",
    "pc.setType(pc.Type.PYTHON)\n",
    "pc.setPythonContext(PCASM())\n",
    "ksp.setFromOptions()\n",
    "\n",
    "ksp.solve(b, x)\n",
    "\n",
    "viewer = PETSc.Viewer().createVTK('solution_2d_bdd.vts', 'w', comm = PETSc.COMM_WORLD)\n",
    "x.view(viewer)"
   ]
  },
  {
   "cell_type": "code",
   "execution_count": 21,
   "metadata": {
    "slideshow": {
     "slide_type": "subslide"
    }
   },
   "outputs": [
    {
     "name": "stdout",
     "output_type": "stream",
     "text": [
      "  Residual norms for elas_ solve.\n",
      "  0 KSP Residual norm 1.029282029670e+02 \n",
      "  1 KSP Residual norm 1.227135117725e-02 \n",
      "  2 KSP Residual norm 1.118330669606e-03 \n",
      "  3 KSP Residual norm 4.524011436624e-05 \n",
      "  4 KSP Residual norm 1.351227085042e-05 \n"
     ]
    }
   ],
   "source": [
    "! mpiexec -n 4 python demos/schwarz.py -elas_ksp_monitor -elas_ksp_type cg"
   ]
  },
  {
   "cell_type": "code",
   "execution_count": 34,
   "metadata": {},
   "outputs": [
    {
     "data": {
      "application/vnd.jupyter.widget-view+json": {
       "model_id": "a89b8ef34b4b40238b8b8f3ea20c62cb",
       "version_major": 2,
       "version_minor": 0
      },
      "text/html": [
       "<p>Failed to display Jupyter Widget of type <code>VBox</code>.</p>\n",
       "<p>\n",
       "  If you're reading this message in the Jupyter Notebook or JupyterLab Notebook, it may mean\n",
       "  that the widgets JavaScript is still loading. If this message persists, it\n",
       "  likely means that the widgets JavaScript library is either not installed or\n",
       "  not enabled. See the <a href=\"https://ipywidgets.readthedocs.io/en/stable/user_install.html\">Jupyter\n",
       "  Widgets Documentation</a> for setup instructions.\n",
       "</p>\n",
       "<p>\n",
       "  If you're reading this message in another frontend (for example, a static\n",
       "  rendering on GitHub or <a href=\"https://nbviewer.jupyter.org/\">NBViewer</a>),\n",
       "  it may mean that your frontend doesn't currently support widgets.\n",
       "</p>\n"
      ],
      "text/plain": [
       "VBox(children=(Figure(axes=[ColorAxis(scale=ColorScale()), Axis(scale=LinearScale()), Axis(orientation='vertical', scale=LinearScale())], fig_margin={'top': 60, 'bottom': 60, 'left': 60, 'right': 60}, layout=Layout(min_width='125px'), marks=[Scatter(color=array([ 0.        ,  0.00850706,  0.01404378, ...,  4.0486644 ,\n",
       "        4.08270139,  4.11673857]), colors=['DeepSkyBlue'], default_size=2, interactions={'hover': 'tooltip'}, scales={'color': ColorScale(), 'x': LinearScale(), 'y': LinearScale()}, scales_metadata={'x': {'orientation': 'horizontal', 'dimension': 'x'}, 'y': {'orientation': 'vertical', 'dimension': 'y'}, 'color': {'dimension': 'color'}, 'size': {'dimension': 'size'}, 'opacity': {'dimension': 'opacity'}, 'rotation': {'dimension': 'rotation'}, 'skew': {'dimension': 'skew'}}, tooltip_style={'opacity': 0.9}, x=array([  0.        ,   0.05772301,   0.11574732, ...,  10.14536626,\n",
       "        10.20825913,  10.27115237]), y=array([ 0.        , -0.00675577, -0.00982087, ..., -3.03957421,\n",
       "       -3.07368716, -3.10779903]))], scale_x=LinearScale(allow_padding=False, max=1.0, min=0.0), scale_y=LinearScale(allow_padding=False, max=1.0, min=0.0)), Toolbar(figure=Figure(axes=[ColorAxis(scale=ColorScale()), Axis(scale=LinearScale()), Axis(orientation='vertical', scale=LinearScale())], fig_margin={'top': 60, 'bottom': 60, 'left': 60, 'right': 60}, layout=Layout(min_width='125px'), marks=[Scatter(color=array([ 0.        ,  0.00850706,  0.01404378, ...,  4.0486644 ,\n",
       "        4.08270139,  4.11673857]), colors=['DeepSkyBlue'], default_size=2, interactions={'hover': 'tooltip'}, scales={'color': ColorScale(), 'x': LinearScale(), 'y': LinearScale()}, scales_metadata={'x': {'orientation': 'horizontal', 'dimension': 'x'}, 'y': {'orientation': 'vertical', 'dimension': 'y'}, 'color': {'dimension': 'color'}, 'size': {'dimension': 'size'}, 'opacity': {'dimension': 'opacity'}, 'rotation': {'dimension': 'rotation'}, 'skew': {'dimension': 'skew'}}, tooltip_style={'opacity': 0.9}, x=array([  0.        ,   0.05772301,   0.11574732, ...,  10.14536626,\n",
       "        10.20825913,  10.27115237]), y=array([ 0.        , -0.00675577, -0.00982087, ..., -3.03957421,\n",
       "       -3.07368716, -3.10779903]))], scale_x=LinearScale(allow_padding=False, max=1.0, min=0.0), scale_y=LinearScale(allow_padding=False, max=1.0, min=0.0)))))"
      ]
     },
     "metadata": {},
     "output_type": "display_data"
    }
   ],
   "source": [
    "plot_solution('solution_2d_bdd.vts')"
   ]
  },
  {
   "cell_type": "code",
   "execution_count": null,
   "metadata": {},
   "outputs": [],
   "source": []
  }
 ],
 "metadata": {
  "celltoolbar": "Slideshow",
  "kernelspec": {
   "display_name": "Python 3",
   "language": "python",
   "name": "python3"
  },
  "language_info": {
   "codemirror_mode": {
    "name": "ipython",
    "version": 3
   },
   "file_extension": ".py",
   "mimetype": "text/x-python",
   "name": "python",
   "nbconvert_exporter": "python",
   "pygments_lexer": "ipython3",
   "version": "3.6.2"
  },
  "livereveal": {
   "autolaunch": true,
   "scroll": true,
   "width": "80%"
  }
 },
 "nbformat": 4,
 "nbformat_minor": 2
}
